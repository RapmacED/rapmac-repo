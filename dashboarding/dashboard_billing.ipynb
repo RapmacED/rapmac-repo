{
 "cells": [
  {
   "cell_type": "code",
   "execution_count": 32,
   "metadata": {},
   "outputs": [],
   "source": [
    "import gspread\n",
    "import pandas as pd"
   ]
  },
  {
   "cell_type": "code",
   "execution_count": 17,
   "metadata": {},
   "outputs": [],
   "source": [
    "gc = gspread.service_account(filename=\"creds.json\")"
   ]
  },
  {
   "cell_type": "code",
   "execution_count": 30,
   "metadata": {},
   "outputs": [],
   "source": [
    "sh = gc.open(\"teams\").sheet1"
   ]
  },
  {
   "cell_type": "code",
   "execution_count": 35,
   "metadata": {},
   "outputs": [
    {
     "data": {
      "text/html": [
       "<div>\n",
       "<style scoped>\n",
       "    .dataframe tbody tr th:only-of-type {\n",
       "        vertical-align: middle;\n",
       "    }\n",
       "\n",
       "    .dataframe tbody tr th {\n",
       "        vertical-align: top;\n",
       "    }\n",
       "\n",
       "    .dataframe thead th {\n",
       "        text-align: right;\n",
       "    }\n",
       "</style>\n",
       "<table border=\"1\" class=\"dataframe\">\n",
       "  <thead>\n",
       "    <tr style=\"text-align: right;\">\n",
       "      <th></th>\n",
       "      <th>PROFILE_EVENT_LEMLIST_TEAM_ID</th>\n",
       "      <th>PROFILE_EVENT_LEMLIST_TEAM_NAME</th>\n",
       "      <th>IMPLEMENTATION_DATE</th>\n",
       "      <th>STATUS</th>\n",
       "      <th>Diff</th>\n",
       "    </tr>\n",
       "  </thead>\n",
       "  <tbody>\n",
       "    <tr>\n",
       "      <th>0</th>\n",
       "      <td>tea_FKTvnunF395mMPaYy</td>\n",
       "      <td>MesAllocs</td>\n",
       "      <td>01/09/2022</td>\n",
       "      <td>Open</td>\n",
       "      <td></td>\n",
       "    </tr>\n",
       "    <tr>\n",
       "      <th>1</th>\n",
       "      <td>tea_Fy5wbps9GCrtz9t6N</td>\n",
       "      <td>Open Eat</td>\n",
       "      <td>01/09/2022</td>\n",
       "      <td>Open</td>\n",
       "      <td></td>\n",
       "    </tr>\n",
       "    <tr>\n",
       "      <th>2</th>\n",
       "      <td>tea_JJfZoWEzFb97qPY8B</td>\n",
       "      <td>Pennylane</td>\n",
       "      <td>01/09/2022</td>\n",
       "      <td>Open</td>\n",
       "      <td></td>\n",
       "    </tr>\n",
       "    <tr>\n",
       "      <th>3</th>\n",
       "      <td>tea_NJgkgd2zj5kWjMgTh</td>\n",
       "      <td>Ubiq</td>\n",
       "      <td>01/09/2022</td>\n",
       "      <td>Open</td>\n",
       "      <td></td>\n",
       "    </tr>\n",
       "    <tr>\n",
       "      <th>4</th>\n",
       "      <td>tea_Nkcneo3YR4oDR7LCx</td>\n",
       "      <td>Reecall</td>\n",
       "      <td>01/09/2022</td>\n",
       "      <td>Open</td>\n",
       "      <td></td>\n",
       "    </tr>\n",
       "  </tbody>\n",
       "</table>\n",
       "</div>"
      ],
      "text/plain": [
       "  PROFILE_EVENT_LEMLIST_TEAM_ID PROFILE_EVENT_LEMLIST_TEAM_NAME   \n",
       "0         tea_FKTvnunF395mMPaYy                       MesAllocs  \\\n",
       "1         tea_Fy5wbps9GCrtz9t6N                        Open Eat   \n",
       "2         tea_JJfZoWEzFb97qPY8B                       Pennylane   \n",
       "3         tea_NJgkgd2zj5kWjMgTh                            Ubiq   \n",
       "4         tea_Nkcneo3YR4oDR7LCx                         Reecall   \n",
       "\n",
       "  IMPLEMENTATION_DATE STATUS Diff  \n",
       "0          01/09/2022   Open       \n",
       "1          01/09/2022   Open       \n",
       "2          01/09/2022   Open       \n",
       "3          01/09/2022   Open       \n",
       "4          01/09/2022   Open       "
      ]
     },
     "execution_count": 35,
     "metadata": {},
     "output_type": "execute_result"
    }
   ],
   "source": [
    "df = pd.DataFrame(sh.get_all_records())\n",
    "df.head()"
   ]
  },
  {
   "cell_type": "code",
   "execution_count": 7,
   "metadata": {},
   "outputs": [
    {
     "ename": "SpreadsheetNotFound",
     "evalue": "",
     "output_type": "error",
     "traceback": [
      "\u001b[0;31m---------------------------------------------------------------------------\u001b[0m",
      "\u001b[0;31mStopIteration\u001b[0m                             Traceback (most recent call last)",
      "File \u001b[0;32m~/Documents/rapmac-repo/dashboarding/venv/lib/python3.11/site-packages/gspread/client.py:150\u001b[0m, in \u001b[0;36mClient.open\u001b[0;34m(self, title, folder_id)\u001b[0m\n\u001b[1;32m    149\u001b[0m \u001b[39mtry\u001b[39;00m:\n\u001b[0;32m--> 150\u001b[0m     properties \u001b[39m=\u001b[39m finditem(\n\u001b[1;32m    151\u001b[0m         \u001b[39mlambda\u001b[39;49;00m x: x[\u001b[39m\"\u001b[39;49m\u001b[39mname\u001b[39;49m\u001b[39m\"\u001b[39;49m] \u001b[39m==\u001b[39;49m title,\n\u001b[1;32m    152\u001b[0m         \u001b[39mself\u001b[39;49m\u001b[39m.\u001b[39;49mlist_spreadsheet_files(title, folder_id),\n\u001b[1;32m    153\u001b[0m     )\n\u001b[1;32m    155\u001b[0m     \u001b[39m# Drive uses different terminology\u001b[39;00m\n",
      "File \u001b[0;32m~/Documents/rapmac-repo/dashboarding/venv/lib/python3.11/site-packages/gspread/utils.py:133\u001b[0m, in \u001b[0;36mfinditem\u001b[0;34m(func, seq)\u001b[0m\n\u001b[1;32m    132\u001b[0m \u001b[39m\u001b[39m\u001b[39m\"\"\"Finds and returns first item in iterable for which func(item) is True.\"\"\"\u001b[39;00m\n\u001b[0;32m--> 133\u001b[0m \u001b[39mreturn\u001b[39;00m \u001b[39mnext\u001b[39;49m(item \u001b[39mfor\u001b[39;49;00m item \u001b[39min\u001b[39;49;00m seq \u001b[39mif\u001b[39;49;00m func(item))\n",
      "\u001b[0;31mStopIteration\u001b[0m: ",
      "\nDuring handling of the above exception, another exception occurred:\n",
      "\u001b[0;31mSpreadsheetNotFound\u001b[0m                       Traceback (most recent call last)",
      "Cell \u001b[0;32mIn[7], line 1\u001b[0m\n\u001b[0;32m----> 1\u001b[0m sh \u001b[39m=\u001b[39m gc\u001b[39m.\u001b[39;49mopen(\u001b[39m\"\u001b[39;49m\u001b[39mteam_implementation\u001b[39;49m\u001b[39m\"\u001b[39;49m)\u001b[39m.\u001b[39mpages_implementation\n\u001b[1;32m      3\u001b[0m \u001b[39m#get the values from cells a2 and b2\u001b[39;00m\n\u001b[1;32m      4\u001b[0m profile_event_lemlist_team_id \u001b[39m=\u001b[39m sh\u001b[39m.\u001b[39macell(\u001b[39m\"\u001b[39m\u001b[39ma1\u001b[39m\u001b[39m\"\u001b[39m)\u001b[39m.\u001b[39mvalue\n",
      "File \u001b[0;32m~/Documents/rapmac-repo/dashboarding/venv/lib/python3.11/site-packages/gspread/client.py:160\u001b[0m, in \u001b[0;36mClient.open\u001b[0;34m(self, title, folder_id)\u001b[0m\n\u001b[1;32m    158\u001b[0m     \u001b[39mreturn\u001b[39;00m Spreadsheet(\u001b[39mself\u001b[39m, properties)\n\u001b[1;32m    159\u001b[0m \u001b[39mexcept\u001b[39;00m \u001b[39mStopIteration\u001b[39;00m:\n\u001b[0;32m--> 160\u001b[0m     \u001b[39mraise\u001b[39;00m SpreadsheetNotFound\n",
      "\u001b[0;31mSpreadsheetNotFound\u001b[0m: "
     ]
    }
   ],
   "source": [
    "\n",
    "\n",
    "#get the values from cells a2 and b2\n",
    "profile_event_lemlist_team_id = sh.acell(\"a1\").value\n",
    "profile_event_lemlist_team_name = sh.acell(\"b1\").value\n",
    "\n",
    "print(profile_event_lemlist_team_id)\n",
    "print(profile_event_lemlist_team_name)\n",
    "\n",
    "#in our demo, this should print out \"Frederick\" and \"callmefred.com\"\n",
    "\n",
    "#write values in cells a3 and b3\n",
    "# sh.update(\"a3\", \"Chat GPT\")\n",
    "# sh.update(\"b3\", \"openai.com\")"
   ]
  },
  {
   "cell_type": "code",
   "execution_count": null,
   "metadata": {},
   "outputs": [],
   "source": []
  }
 ],
 "metadata": {
  "kernelspec": {
   "display_name": "venv",
   "language": "python",
   "name": "python3"
  },
  "language_info": {
   "codemirror_mode": {
    "name": "ipython",
    "version": 3
   },
   "file_extension": ".py",
   "mimetype": "text/x-python",
   "name": "python",
   "nbconvert_exporter": "python",
   "pygments_lexer": "ipython3",
   "version": "3.11.2"
  },
  "orig_nbformat": 4
 },
 "nbformat": 4,
 "nbformat_minor": 2
}
