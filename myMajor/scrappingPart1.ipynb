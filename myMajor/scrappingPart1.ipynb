{
 "cells": [
  {
   "cell_type": "code",
   "execution_count": 8,
   "metadata": {},
   "outputs": [],
   "source": [
    "import pandas as pd\n",
    "import openpyxl"
   ]
  },
  {
   "cell_type": "code",
   "execution_count": 10,
   "metadata": {},
   "outputs": [
    {
     "name": "stdout",
     "output_type": "stream",
     "text": [
      "https://www.linkedin.com/company/1009/\n"
     ]
    }
   ],
   "source": [
    "wb = openpyxl.load_workbook('LinkedinCompanyList.xlsx')\n",
    "ws = wb['Sheet1']\n",
    "\n",
    "print(ws.cell(row=6, column=1).hyperlink.target)"
   ]
  },
  {
   "cell_type": "code",
   "execution_count": 6,
   "metadata": {},
   "outputs": [
    {
     "name": "stdout",
     "output_type": "stream",
     "text": [
      "                                          Unnamed: 0\n",
      "0  Top VoicesEntreprisesEntreprisesGroupesGroupes...\n",
      "1                                                NaN\n",
      "2                                                NaN\n",
      "3                                                NaN\n",
      "4                                             IBMIBM\n"
     ]
    }
   ],
   "source": [
    "print(dfCompanyList.head())"
   ]
  },
  {
   "cell_type": "code",
   "execution_count": null,
   "metadata": {},
   "outputs": [],
   "source": []
  }
 ],
 "metadata": {
  "kernelspec": {
   "display_name": "myMajor",
   "language": "python",
   "name": "python3"
  },
  "language_info": {
   "codemirror_mode": {
    "name": "ipython",
    "version": 3
   },
   "file_extension": ".py",
   "mimetype": "text/x-python",
   "name": "python",
   "nbconvert_exporter": "python",
   "pygments_lexer": "ipython3",
   "version": "3.9.15 (main, Oct 21 2022, 22:22:26) \n[Clang 14.0.0 (clang-1400.0.29.202)]"
  },
  "orig_nbformat": 4,
  "vscode": {
   "interpreter": {
    "hash": "a82b0ff4b3325c42d8fb475d2ce26f877dc7e8a11ecbbef2889715c63bd0852d"
   }
  }
 },
 "nbformat": 4,
 "nbformat_minor": 2
}
