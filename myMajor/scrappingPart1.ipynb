{
 "cells": [
  {
   "cell_type": "code",
   "execution_count": null,
   "metadata": {},
   "outputs": [],
   "source": [
    "import pandas as pd\n",
    "import openpyxl"
   ]
  },
  {
   "cell_type": "code",
   "execution_count": null,
   "metadata": {},
   "outputs": [],
   "source": [
    "wb = openpyxl.load_workbook('LinkedinCompanyList.xlsx')\n",
    "ws = wb['Sheet1']\n",
    "\n",
    "print(ws.cell(row=6, column=1).hyperlink.target)"
   ]
  },
  {
   "cell_type": "code",
   "execution_count": null,
   "metadata": {},
   "outputs": [],
   "source": [
    "print(dfCompanyList.head())"
   ]
  },
  {
   "cell_type": "code",
   "execution_count": 1,
   "metadata": {},
   "outputs": [],
   "source": [
    "import ast\n",
    "import pandas as pd"
   ]
  },
  {
   "cell_type": "code",
   "execution_count": 2,
   "metadata": {},
   "outputs": [],
   "source": [
    "df = pd.read_csv('/Users/raph/Documents/Dataship_Code/lW4B.csv')"
   ]
  },
  {
   "cell_type": "code",
   "execution_count": 3,
   "metadata": {},
   "outputs": [
    {
     "data": {
      "text/html": [
       "<div>\n",
       "<style scoped>\n",
       "    .dataframe tbody tr th:only-of-type {\n",
       "        vertical-align: middle;\n",
       "    }\n",
       "\n",
       "    .dataframe tbody tr th {\n",
       "        vertical-align: top;\n",
       "    }\n",
       "\n",
       "    .dataframe thead th {\n",
       "        text-align: right;\n",
       "    }\n",
       "</style>\n",
       "<table border=\"1\" class=\"dataframe\">\n",
       "  <thead>\n",
       "    <tr style=\"text-align: right;\">\n",
       "      <th></th>\n",
       "      <th>company_employees_range</th>\n",
       "      <th>company_industry</th>\n",
       "      <th>company_name</th>\n",
       "      <th>current_company_name</th>\n",
       "      <th>current_company_url</th>\n",
       "      <th>current_job_title</th>\n",
       "      <th>description</th>\n",
       "      <th>education</th>\n",
       "      <th>experiences</th>\n",
       "      <th>extracted_at</th>\n",
       "      <th>...</th>\n",
       "      <th>profile_language</th>\n",
       "      <th>profile_url</th>\n",
       "      <th>school_name</th>\n",
       "      <th>school_url</th>\n",
       "      <th>skills</th>\n",
       "      <th>start_url</th>\n",
       "      <th>summary</th>\n",
       "      <th>title</th>\n",
       "      <th>tracking_id</th>\n",
       "      <th>volunteer_experiences</th>\n",
       "    </tr>\n",
       "  </thead>\n",
       "  <tbody>\n",
       "    <tr>\n",
       "      <th>0</th>\n",
       "      <td>5001 - 10000</td>\n",
       "      <td>Financial Services</td>\n",
       "      <td>Natixis</td>\n",
       "      <td>Natixis</td>\n",
       "      <td>https://www.linkedin.com/company/natixis-corpo...</td>\n",
       "      <td>Head of the IT of Technology and Transformatio...</td>\n",
       "      <td>Transparency, play as a team and taking risks ...</td>\n",
       "      <td>[{\"school_name\": null, \"title\": null, \"date\": ...</td>\n",
       "      <td>[{\"title\": \"Head of the IT of Technology and T...</td>\n",
       "      <td>2023-01-31T10:28:36.416000</td>\n",
       "      <td>...</td>\n",
       "      <td>en</td>\n",
       "      <td>https://www.linkedin.com/in/francoisleguillou</td>\n",
       "      <td>NaN</td>\n",
       "      <td>https://www.linkedin.com/school/institut-polyt...</td>\n",
       "      <td>[\"Software Project Management\", \"Summit\", \"Bus...</td>\n",
       "      <td>https://www.linkedin.com/in/ACwAAAClYlgBF1JPGU...</td>\n",
       "      <td>Transparency, play as a team and taking risks ...</td>\n",
       "      <td>Head of the IT of Technology and Transformatio...</td>\n",
       "      <td>ue3pPkJDS5GPJqIaHAz/FQ==</td>\n",
       "      <td>[]</td>\n",
       "    </tr>\n",
       "    <tr>\n",
       "      <th>1</th>\n",
       "      <td>5001 - 10000</td>\n",
       "      <td>Wine &amp; Spirits</td>\n",
       "      <td>Moët Hennessy</td>\n",
       "      <td>Moët Hennessy</td>\n",
       "      <td>https://www.linkedin.com/company/moethennessy/</td>\n",
       "      <td>Operations Manager</td>\n",
       "      <td>Experienced developer of new products and pack...</td>\n",
       "      <td>[{\"school_name\": \"ISA Lille\", \"title\": \"Food I...</td>\n",
       "      <td>[{\"title\": \"Operations Manager\", \"company_name...</td>\n",
       "      <td>2023-01-31T10:28:38.635000</td>\n",
       "      <td>...</td>\n",
       "      <td>en</td>\n",
       "      <td>https://www.linkedin.com/in/laura-pernet-362487</td>\n",
       "      <td>ISA Lille</td>\n",
       "      <td>https://www.linkedin.com/school/isa-lille/</td>\n",
       "      <td>[\"Market Analysis\", \"Marketing Research\", \"Man...</td>\n",
       "      <td>https://www.linkedin.com/in/ACwAAAAR6ToB-kcTxF...</td>\n",
       "      <td>Experienced developer of new products and pack...</td>\n",
       "      <td>Operations Manager</td>\n",
       "      <td>ZyfLRVP8S12bENFz+J8wPw==</td>\n",
       "      <td>[{\"role\": \"Member - Niger team\", \"company_name...</td>\n",
       "    </tr>\n",
       "    <tr>\n",
       "      <th>2</th>\n",
       "      <td>5001 - 10000</td>\n",
       "      <td>Financial Services</td>\n",
       "      <td>Natixis</td>\n",
       "      <td>Natixis</td>\n",
       "      <td>https://www.linkedin.com/company/natixis-corpo...</td>\n",
       "      <td>Senior Data Engineer</td>\n",
       "      <td>Scala, Big Data, Kafka, Kafka Streams, Spark</td>\n",
       "      <td>[{\"school_name\": \"Université Pierre et Marie C...</td>\n",
       "      <td>[{\"title\": \"Senior Data Engineer\", \"company_na...</td>\n",
       "      <td>2023-01-31T10:28:46.534000</td>\n",
       "      <td>...</td>\n",
       "      <td>fr</td>\n",
       "      <td>https://www.linkedin.com/in/thomas-a-03ab3422</td>\n",
       "      <td>Université Pierre et Marie Curie (Paris VI)</td>\n",
       "      <td>https://www.linkedin.com/school/universite-pie...</td>\n",
       "      <td>[\"UML\", \"Java Enterprise Edition\", \"Java\", \"My...</td>\n",
       "      <td>https://www.linkedin.com/in/ACwAAATLci4BsGt8yF...</td>\n",
       "      <td>Scala, Big Data, Kafka, Kafka Streams, Spark</td>\n",
       "      <td>Senior Data Engineer</td>\n",
       "      <td>2owvpyMORCC3SZm6jEGqxw==</td>\n",
       "      <td>[]</td>\n",
       "    </tr>\n",
       "    <tr>\n",
       "      <th>3</th>\n",
       "      <td>5001 - 10000</td>\n",
       "      <td>Cosmetics</td>\n",
       "      <td>Yves Rocher</td>\n",
       "      <td>Yves Rocher</td>\n",
       "      <td>https://www.linkedin.com/company/yves-rocher/</td>\n",
       "      <td>Responsable Marketing Operationnel Retail YR F...</td>\n",
       "      <td>NaN</td>\n",
       "      <td>[{\"school_name\": \"Audencia Business School\", \"...</td>\n",
       "      <td>[{\"title\": \"Responsable Marketing Operationnel...</td>\n",
       "      <td>2023-01-31T10:28:48.381000</td>\n",
       "      <td>...</td>\n",
       "      <td>en</td>\n",
       "      <td>https://www.linkedin.com/in/élise-devaud-stouf...</td>\n",
       "      <td>Audencia Business School</td>\n",
       "      <td>https://www.linkedin.com/school/audencia/</td>\n",
       "      <td>[\"Trade Marketing\", \"Cosmetics\", \"Marketing\", ...</td>\n",
       "      <td>https://www.linkedin.com/in/ACwAAACrrIMBJKGI6C...</td>\n",
       "      <td>NaN</td>\n",
       "      <td>Responsable Marketing Operationnel Retail YR F...</td>\n",
       "      <td>M2AE+BwBR0+oL6HTjsi3tQ==</td>\n",
       "      <td>[]</td>\n",
       "    </tr>\n",
       "    <tr>\n",
       "      <th>4</th>\n",
       "      <td>5001 - 10000</td>\n",
       "      <td>Information Technology &amp; Services</td>\n",
       "      <td>Econocom</td>\n",
       "      <td>Econocom</td>\n",
       "      <td>https://www.linkedin.com/company/econocom/</td>\n",
       "      <td>Responsable Recrutement IT | France Régions</td>\n",
       "      <td>Première Entreprise Générale du Digital en Eur...</td>\n",
       "      <td>[{\"school_name\": \"IAE Aix-en-Provence\", \"title...</td>\n",
       "      <td>[{\"title\": \"Responsable Recrutement IT | Franc...</td>\n",
       "      <td>2023-01-31T10:28:50.584000</td>\n",
       "      <td>...</td>\n",
       "      <td>fr</td>\n",
       "      <td>https://www.linkedin.com/in/sophie-lecouvé-b52...</td>\n",
       "      <td>IAE Aix-en-Provence</td>\n",
       "      <td>NaN</td>\n",
       "      <td>[\"HR Consulting\", \"Talent Management\", \"Employ...</td>\n",
       "      <td>https://www.linkedin.com/in/ACwAAAs3pi4B-EeJqC...</td>\n",
       "      <td>Première Entreprise Générale du Digital en Eur...</td>\n",
       "      <td>Responsable Recrutement IT | France Régions</td>\n",
       "      <td>wGBecbMWRPWdmVMqXvmREw==</td>\n",
       "      <td>[]</td>\n",
       "    </tr>\n",
       "  </tbody>\n",
       "</table>\n",
       "<p>5 rows × 39 columns</p>\n",
       "</div>"
      ],
      "text/plain": [
       "  company_employees_range                   company_industry   company_name  \\\n",
       "0            5001 - 10000                 Financial Services        Natixis   \n",
       "1            5001 - 10000                     Wine & Spirits  Moët Hennessy   \n",
       "2            5001 - 10000                 Financial Services        Natixis   \n",
       "3            5001 - 10000                          Cosmetics    Yves Rocher   \n",
       "4            5001 - 10000  Information Technology & Services       Econocom   \n",
       "\n",
       "  current_company_name                                current_company_url  \\\n",
       "0              Natixis  https://www.linkedin.com/company/natixis-corpo...   \n",
       "1        Moët Hennessy     https://www.linkedin.com/company/moethennessy/   \n",
       "2              Natixis  https://www.linkedin.com/company/natixis-corpo...   \n",
       "3          Yves Rocher      https://www.linkedin.com/company/yves-rocher/   \n",
       "4             Econocom         https://www.linkedin.com/company/econocom/   \n",
       "\n",
       "                                   current_job_title  \\\n",
       "0  Head of the IT of Technology and Transformatio...   \n",
       "1                                 Operations Manager   \n",
       "2                               Senior Data Engineer   \n",
       "3  Responsable Marketing Operationnel Retail YR F...   \n",
       "4        Responsable Recrutement IT | France Régions   \n",
       "\n",
       "                                         description  \\\n",
       "0  Transparency, play as a team and taking risks ...   \n",
       "1  Experienced developer of new products and pack...   \n",
       "2       Scala, Big Data, Kafka, Kafka Streams, Spark   \n",
       "3                                                NaN   \n",
       "4  Première Entreprise Générale du Digital en Eur...   \n",
       "\n",
       "                                           education  \\\n",
       "0  [{\"school_name\": null, \"title\": null, \"date\": ...   \n",
       "1  [{\"school_name\": \"ISA Lille\", \"title\": \"Food I...   \n",
       "2  [{\"school_name\": \"Université Pierre et Marie C...   \n",
       "3  [{\"school_name\": \"Audencia Business School\", \"...   \n",
       "4  [{\"school_name\": \"IAE Aix-en-Provence\", \"title...   \n",
       "\n",
       "                                         experiences  \\\n",
       "0  [{\"title\": \"Head of the IT of Technology and T...   \n",
       "1  [{\"title\": \"Operations Manager\", \"company_name...   \n",
       "2  [{\"title\": \"Senior Data Engineer\", \"company_na...   \n",
       "3  [{\"title\": \"Responsable Marketing Operationnel...   \n",
       "4  [{\"title\": \"Responsable Recrutement IT | Franc...   \n",
       "\n",
       "                 extracted_at  ... profile_language  \\\n",
       "0  2023-01-31T10:28:36.416000  ...               en   \n",
       "1  2023-01-31T10:28:38.635000  ...               en   \n",
       "2  2023-01-31T10:28:46.534000  ...               fr   \n",
       "3  2023-01-31T10:28:48.381000  ...               en   \n",
       "4  2023-01-31T10:28:50.584000  ...               fr   \n",
       "\n",
       "                                         profile_url  \\\n",
       "0      https://www.linkedin.com/in/francoisleguillou   \n",
       "1    https://www.linkedin.com/in/laura-pernet-362487   \n",
       "2      https://www.linkedin.com/in/thomas-a-03ab3422   \n",
       "3  https://www.linkedin.com/in/élise-devaud-stouf...   \n",
       "4  https://www.linkedin.com/in/sophie-lecouvé-b52...   \n",
       "\n",
       "                                   school_name  \\\n",
       "0                                          NaN   \n",
       "1                                    ISA Lille   \n",
       "2  Université Pierre et Marie Curie (Paris VI)   \n",
       "3                     Audencia Business School   \n",
       "4                          IAE Aix-en-Provence   \n",
       "\n",
       "                                          school_url  \\\n",
       "0  https://www.linkedin.com/school/institut-polyt...   \n",
       "1         https://www.linkedin.com/school/isa-lille/   \n",
       "2  https://www.linkedin.com/school/universite-pie...   \n",
       "3          https://www.linkedin.com/school/audencia/   \n",
       "4                                                NaN   \n",
       "\n",
       "                                              skills  \\\n",
       "0  [\"Software Project Management\", \"Summit\", \"Bus...   \n",
       "1  [\"Market Analysis\", \"Marketing Research\", \"Man...   \n",
       "2  [\"UML\", \"Java Enterprise Edition\", \"Java\", \"My...   \n",
       "3  [\"Trade Marketing\", \"Cosmetics\", \"Marketing\", ...   \n",
       "4  [\"HR Consulting\", \"Talent Management\", \"Employ...   \n",
       "\n",
       "                                           start_url  \\\n",
       "0  https://www.linkedin.com/in/ACwAAAClYlgBF1JPGU...   \n",
       "1  https://www.linkedin.com/in/ACwAAAAR6ToB-kcTxF...   \n",
       "2  https://www.linkedin.com/in/ACwAAATLci4BsGt8yF...   \n",
       "3  https://www.linkedin.com/in/ACwAAACrrIMBJKGI6C...   \n",
       "4  https://www.linkedin.com/in/ACwAAAs3pi4B-EeJqC...   \n",
       "\n",
       "                                             summary  \\\n",
       "0  Transparency, play as a team and taking risks ...   \n",
       "1  Experienced developer of new products and pack...   \n",
       "2       Scala, Big Data, Kafka, Kafka Streams, Spark   \n",
       "3                                                NaN   \n",
       "4  Première Entreprise Générale du Digital en Eur...   \n",
       "\n",
       "                                               title  \\\n",
       "0  Head of the IT of Technology and Transformatio...   \n",
       "1                                 Operations Manager   \n",
       "2                               Senior Data Engineer   \n",
       "3  Responsable Marketing Operationnel Retail YR F...   \n",
       "4        Responsable Recrutement IT | France Régions   \n",
       "\n",
       "                tracking_id                              volunteer_experiences  \n",
       "0  ue3pPkJDS5GPJqIaHAz/FQ==                                                 []  \n",
       "1  ZyfLRVP8S12bENFz+J8wPw==  [{\"role\": \"Member - Niger team\", \"company_name...  \n",
       "2  2owvpyMORCC3SZm6jEGqxw==                                                 []  \n",
       "3  M2AE+BwBR0+oL6HTjsi3tQ==                                                 []  \n",
       "4  wGBecbMWRPWdmVMqXvmREw==                                                 []  \n",
       "\n",
       "[5 rows x 39 columns]"
      ]
     },
     "execution_count": 3,
     "metadata": {},
     "output_type": "execute_result"
    }
   ],
   "source": [
    "df.head()"
   ]
  },
  {
   "cell_type": "code",
   "execution_count": 4,
   "metadata": {},
   "outputs": [],
   "source": [
    "table = {'email': df['company_industry'],\n",
    "             'result': df['company_name']}"
   ]
  },
  {
   "cell_type": "code",
   "execution_count": 5,
   "metadata": {},
   "outputs": [
    {
     "name": "stdout",
     "output_type": "stream",
     "text": [
      "<class 'dict'>\n"
     ]
    }
   ],
   "source": [
    "print(type(table))"
   ]
  },
  {
   "cell_type": "code",
   "execution_count": 6,
   "metadata": {},
   "outputs": [
    {
     "data": {
      "text/plain": [
       "dict_keys(['email', 'result'])"
      ]
     },
     "execution_count": 6,
     "metadata": {},
     "output_type": "execute_result"
    }
   ],
   "source": [
    "table.keys()"
   ]
  },
  {
   "cell_type": "code",
   "execution_count": 7,
   "metadata": {},
   "outputs": [],
   "source": [
    "rows = []\n",
    "for i in range(len(df)):\n",
    "    row = {'email': df['company_industry'][i],\n",
    "             'result': df['company_name'][i]}\n",
    "    rows.append(row)\n",
    "    \n"
   ]
  },
  {
   "cell_type": "code",
   "execution_count": 8,
   "metadata": {},
   "outputs": [
    {
     "name": "stdout",
     "output_type": "stream",
     "text": [
      "<class 'dict'>\n"
     ]
    }
   ],
   "source": [
    "print(type(rows[0]))"
   ]
  },
  {
   "cell_type": "code",
   "execution_count": 9,
   "metadata": {},
   "outputs": [
    {
     "ename": "ModuleNotFoundError",
     "evalue": "No module named 'airplane'",
     "output_type": "error",
     "traceback": [
      "\u001b[0;31m---------------------------------------------------------------------------\u001b[0m",
      "\u001b[0;31mModuleNotFoundError\u001b[0m                       Traceback (most recent call last)",
      "Cell \u001b[0;32mIn[9], line 1\u001b[0m\n\u001b[0;32m----> 1\u001b[0m \u001b[39mimport\u001b[39;00m \u001b[39mairplane\u001b[39;00m\n",
      "\u001b[0;31mModuleNotFoundError\u001b[0m: No module named 'airplane'"
     ]
    }
   ],
   "source": [
    "import airplane"
   ]
  },
  {
   "cell_type": "code",
   "execution_count": null,
   "metadata": {},
   "outputs": [],
   "source": [
    "airplane.display.table(\n",
    "        rows\n",
    "    )"
   ]
  }
 ],
 "metadata": {
  "kernelspec": {
   "display_name": "Python 3",
   "language": "python",
   "name": "python3"
  },
  "language_info": {
   "codemirror_mode": {
    "name": "ipython",
    "version": 3
   },
   "file_extension": ".py",
   "mimetype": "text/x-python",
   "name": "python",
   "nbconvert_exporter": "python",
   "pygments_lexer": "ipython3",
   "version": "3.10.9"
  },
  "orig_nbformat": 4,
  "vscode": {
   "interpreter": {
    "hash": "b0fa6594d8f4cbf19f97940f81e996739fb7646882a419484c72d19e05852a7e"
   }
  }
 },
 "nbformat": 4,
 "nbformat_minor": 2
}
