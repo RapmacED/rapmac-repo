{
 "cells": [
  {
   "cell_type": "code",
   "execution_count": 3,
   "metadata": {},
   "outputs": [],
   "source": [
    "from confluent_kafka import Producer\n",
    "from faker import Faker\n",
    "import json\n",
    "import time\n",
    "import logging\n",
    "import random "
   ]
  },
  {
   "cell_type": "code",
   "execution_count": 6,
   "id": "28ccd6cd",
   "metadata": {},
   "outputs": [
    {
     "name": "stdout",
     "output_type": "stream",
     "text": [
      "<faker.proxy.Faker object at 0x1092096d0>\n"
     ]
    }
   ],
   "source": [
    "fake=Faker()\n",
    "print(fake)"
   ]
  },
  {
   "cell_type": "code",
   "execution_count": null,
   "id": "a929da09",
   "metadata": {},
   "outputs": [],
   "source": [
    "logging.basicConfig(format='%(asctime)s %(message)s',\n",
    "                    datefmt='%Y-%m-%d %H:%M:%S',\n",
    "                    filename='producer.log',\n",
    "                    filemode='w')\n",
    "\n",
    "logger = logging.getLogger()\n",
    "logger.setLevel(logging.INFO)logging.basicConfig(format='%(asctime)s %(message)s',\n",
    "                    datefmt='%Y-%m-%d %H:%M:%S',\n",
    "                    filename='producer.log',\n",
    "                    filemode='w')\n",
    "\n",
    "logger = logging.getLogger()\n",
    "logger.setLevel(logging.INFO)"
   ]
  },
  {
   "cell_type": "code",
   "execution_count": null,
   "id": "8876c232",
   "metadata": {},
   "outputs": [],
   "source": [
    "p=Producer({'bootstrap.servers':'206.189.49.110:9092'})\n",
    "print('Kafka Producer has been initiated...')"
   ]
  },
  {
   "cell_type": "code",
   "execution_count": null,
   "id": "7fc41427",
   "metadata": {},
   "outputs": [],
   "source": [
    "def receipt(err,msg):\n",
    "    if err is not None:\n",
    "        print('Error: {}'.format(err))\n",
    "    else:\n",
    "        message = 'Produced message on topic {} with value of {}\\n'.format(msg.topic(), msg.value().decode('utf-8'))\n",
    "        logger.info(message)\n",
    "        print(message)"
   ]
  }
 ],
 "metadata": {
  "kernelspec": {
   "display_name": "kafka",
   "language": "python",
   "name": "python3"
  },
  "language_info": {
   "codemirror_mode": {
    "name": "ipython",
    "version": 3
   },
   "file_extension": ".py",
   "mimetype": "text/x-python",
   "name": "python",
   "nbconvert_exporter": "python",
   "pygments_lexer": "ipython3",
   "version": "3.9.16 (main, Dec  7 2022, 10:06:04) \n[Clang 14.0.0 (clang-1400.0.29.202)]"
  },
  "vscode": {
   "interpreter": {
    "hash": "8b2b7888485b8c2f94615db746af12c45eec051bb43e9e70729fcc59fd92f47b"
   }
  }
 },
 "nbformat": 4,
 "nbformat_minor": 5
}
