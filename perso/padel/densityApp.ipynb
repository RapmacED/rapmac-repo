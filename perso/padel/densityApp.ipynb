{
 "cells": [
  {
   "cell_type": "code",
   "execution_count": 1,
   "metadata": {},
   "outputs": [],
   "source": [
    "import pandas as pd\n",
    "import numpy as np\n",
    "import pydeck as pdk"
   ]
  },
  {
   "cell_type": "code",
   "execution_count": 4,
   "metadata": {},
   "outputs": [
    {
     "name": "stderr",
     "output_type": "stream",
     "text": [
      "/var/folders/26/r_bcwcfx0x7_t9wv6jxbj2fc0000gp/T/ipykernel_90618/3353542227.py:1: DtypeWarning: Columns (1,6) have mixed types. Specify dtype option on import or set low_memory=False.\n",
      "  chart_data2 = pd.read_csv(\"padelDensity.csv\")\n"
     ]
    }
   ],
   "source": [
    "kms = st.radio(\n",
    "    \"What\\'s your favorite movie genre\",\n",
    "    ('Comedy', 'Drama', 'Documentary'))\n",
    "\n",
    "\n",
    "chart_data2 = pd.read_csv(\"padelDensity.csv\")\n",
    "HEADER = [\"lng\", \"lat\", \"weight\"]\n",
    "chart_data2['temp'] = chart_data2['lng']\n",
    "chart_data2['lng']=chart_data2['lat']\n",
    "chart_data2['lat']=chart_data2['temp']\n",
    "chart_data2.drop(columns=['temp'])\n",
    "chart_data2['weight']=chart_data2['den5']/chart_data2['PTOT']\n",
    "\n",
    "COLOR_BREWER_BLUE_SCALE = [\n",
    "    [240, 249, 232],\n",
    "    [204, 235, 197],\n",
    "    [168, 221, 181],\n",
    "    [123, 204, 196],\n",
    "    [67, 162, 202],\n",
    "    [8, 104, 172],\n",
    "]\n",
    "view = pdk.data_utils.compute_view(chart_data2[[\"lng\", \"lat\"]])\n",
    "view.zoom = 6\n",
    "\n",
    "density = pdk.Layer(\n",
    "    \"HeatmapLayer\",\n",
    "    data=chart_data2,\n",
    "    opacity=0.9,\n",
    "    get_position=[\"lng\", \"lat\"],\n",
    "    aggregation=pdk.types.String(\"MEAN\"),\n",
    "    color_range=COLOR_BREWER_BLUE_SCALE,\n",
    "    threshold=1,\n",
    "    get_weight=\"weight\",\n",
    "    pickable=True,\n",
    ")\n",
    "\n",
    "r = pdk.Deck(\n",
    "    layers=[density],\n",
    "    initial_view_state=view,\n",
    "    map_provider=\"mapbox\",\n",
    "    map_style=pdk.map_styles.SATELLITE,\n",
    "    tooltip={\"text\": \"Concentration in Padels\"},\n",
    ")"
   ]
  },
  {
   "cell_type": "code",
   "execution_count": 6,
   "metadata": {},
   "outputs": [
    {
     "name": "stderr",
     "output_type": "stream",
     "text": [
      "/var/folders/26/r_bcwcfx0x7_t9wv6jxbj2fc0000gp/T/ipykernel_90618/1692322795.py:1: DtypeWarning: Columns (1,6) have mixed types. Specify dtype option on import or set low_memory=False.\n",
      "  dfDensity=pd.read_csv('padelDensity.csv')\n"
     ]
    }
   ],
   "source": [
    "dfDensity=pd.read_csv('padelDensity.csv')"
   ]
  },
  {
   "cell_type": "code",
   "execution_count": 7,
   "metadata": {},
   "outputs": [],
   "source": [
    "dfDensity = dfDensity.drop(columns=['Ligne_5'])\n",
    "dfDensity['weight5'] = dfDensity['den5']/PT"
   ]
  },
  {
   "cell_type": "code",
   "execution_count": 8,
   "metadata": {},
   "outputs": [],
   "source": [
    "dfDensity.to_csv('padelDensity.csv',index=False)"
   ]
  },
  {
   "cell_type": "code",
   "execution_count": 9,
   "metadata": {},
   "outputs": [],
   "source": [
    "dfDensity['weight'] = chart_data2['den5']/chart_data2['PTOT']"
   ]
  },
  {
   "cell_type": "code",
   "execution_count": 17,
   "metadata": {},
   "outputs": [
    {
     "data": {
      "text/html": [
       "<div>\n",
       "<style scoped>\n",
       "    .dataframe tbody tr th:only-of-type {\n",
       "        vertical-align: middle;\n",
       "    }\n",
       "\n",
       "    .dataframe tbody tr th {\n",
       "        vertical-align: top;\n",
       "    }\n",
       "\n",
       "    .dataframe thead th {\n",
       "        text-align: right;\n",
       "    }\n",
       "</style>\n",
       "<table border=\"1\" class=\"dataframe\">\n",
       "  <thead>\n",
       "    <tr style=\"text-align: right;\">\n",
       "      <th></th>\n",
       "      <th>Unnamed: 0</th>\n",
       "      <th>DEPCOM</th>\n",
       "      <th>COM</th>\n",
       "      <th>PMUN</th>\n",
       "      <th>PCAP</th>\n",
       "      <th>PTOT</th>\n",
       "      <th>Code_commune_INSEE</th>\n",
       "      <th>Nom_commune</th>\n",
       "      <th>Code_postal</th>\n",
       "      <th>Libellé_d_acheminement</th>\n",
       "      <th>coordonnees_gps</th>\n",
       "      <th>lng</th>\n",
       "      <th>lat</th>\n",
       "      <th>den5</th>\n",
       "      <th>den10</th>\n",
       "      <th>den15</th>\n",
       "      <th>den20</th>\n",
       "      <th>den25</th>\n",
       "      <th>den30</th>\n",
       "      <th>weight</th>\n",
       "    </tr>\n",
       "  </thead>\n",
       "  <tbody>\n",
       "  </tbody>\n",
       "</table>\n",
       "</div>"
      ],
      "text/plain": [
       "Empty DataFrame\n",
       "Columns: [Unnamed: 0, DEPCOM, COM, PMUN, PCAP, PTOT, Code_commune_INSEE, Nom_commune, Code_postal, Libellé_d_acheminement, coordonnees_gps, lng, lat, den5, den10, den15, den20, den25, den30, weight]\n",
       "Index: []"
      ]
     },
     "execution_count": 17,
     "metadata": {},
     "output_type": "execute_result"
    }
   ],
   "source": [
    "rsl = dfDensity[dfDensity['weight'] == 'NaN']\n",
    "rsl"
   ]
  },
  {
   "cell_type": "code",
   "execution_count": 14,
   "metadata": {},
   "outputs": [
    {
     "data": {
      "text/plain": [
       "0        False\n",
       "1        False\n",
       "2        False\n",
       "3        False\n",
       "4        False\n",
       "         ...  \n",
       "38894    False\n",
       "38895    False\n",
       "38896    False\n",
       "38897    False\n",
       "38898    False\n",
       "Name: weight, Length: 38899, dtype: bool"
      ]
     },
     "execution_count": 14,
     "metadata": {},
     "output_type": "execute_result"
    }
   ],
   "source": []
  },
  {
   "cell_type": "code",
   "execution_count": null,
   "metadata": {},
   "outputs": [],
   "source": []
  }
 ],
 "metadata": {
  "kernelspec": {
   "display_name": "padel",
   "language": "python",
   "name": "python3"
  },
  "language_info": {
   "codemirror_mode": {
    "name": "ipython",
    "version": 3
   },
   "file_extension": ".py",
   "mimetype": "text/x-python",
   "name": "python",
   "nbconvert_exporter": "python",
   "pygments_lexer": "ipython3",
   "version": "3.9.15"
  },
  "orig_nbformat": 4,
  "vscode": {
   "interpreter": {
    "hash": "0f24447c5895ce64fa29485b5b9afc1b59b6b7b2596f1e56023c02185fc4a788"
   }
  }
 },
 "nbformat": 4,
 "nbformat_minor": 2
}
