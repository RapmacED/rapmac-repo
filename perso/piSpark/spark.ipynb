{
 "cells": [
  {
   "cell_type": "code",
   "execution_count": 1,
   "metadata": {},
   "outputs": [],
   "source": [
    "import pyspark"
   ]
  },
  {
   "cell_type": "code",
   "execution_count": 2,
   "metadata": {},
   "outputs": [
    {
     "data": {
      "text/html": [
       "<div>\n",
       "<style scoped>\n",
       "    .dataframe tbody tr th:only-of-type {\n",
       "        vertical-align: middle;\n",
       "    }\n",
       "\n",
       "    .dataframe tbody tr th {\n",
       "        vertical-align: top;\n",
       "    }\n",
       "\n",
       "    .dataframe thead th {\n",
       "        text-align: right;\n",
       "    }\n",
       "</style>\n",
       "<table border=\"1\" class=\"dataframe\">\n",
       "  <thead>\n",
       "    <tr style=\"text-align: right;\">\n",
       "      <th></th>\n",
       "      <th>Code;Libellé;Population municipale 2020;Répartition de la pop. en 3 classes d'âges 2019 - Moins de 25 ans;Répartition de la pop. en 3 classes d'âges 2019 - Entre 25 et 64 ans;Répartition de la pop. en 3 classes d'âges 2019 - 65 ans ou plus;Part des pers. âgées de 25 à 64 ans 2019</th>\n",
       "    </tr>\n",
       "  </thead>\n",
       "  <tbody>\n",
       "    <tr>\n",
       "      <th>0</th>\n",
       "      <td>1001;L'Abergement-Clémenciat;806;227;401;151;51.5</td>\n",
       "    </tr>\n",
       "    <tr>\n",
       "      <th>1</th>\n",
       "      <td>1002;L'Abergement-de-Varey;262;75;136;46;53</td>\n",
       "    </tr>\n",
       "    <tr>\n",
       "      <th>2</th>\n",
       "      <td>1004;Ambérieu-en-Bugey;14288;4552;7109;2473;50.3</td>\n",
       "    </tr>\n",
       "    <tr>\n",
       "      <th>3</th>\n",
       "      <td>1005;Ambérieux-en-Dombes;1782;506;962;283;54.9</td>\n",
       "    </tr>\n",
       "    <tr>\n",
       "      <th>4</th>\n",
       "      <td>1006;Ambléon;113;22;63;26;56.4</td>\n",
       "    </tr>\n",
       "    <tr>\n",
       "      <th>...</th>\n",
       "      <td>...</td>\n",
       "    </tr>\n",
       "    <tr>\n",
       "      <th>34950</th>\n",
       "      <td>97613;M'Tsangamouji;N/A - résultat non disponi...</td>\n",
       "    </tr>\n",
       "    <tr>\n",
       "      <th>34951</th>\n",
       "      <td>97614;Ouangani;N/A - résultat non disponible;N...</td>\n",
       "    </tr>\n",
       "    <tr>\n",
       "      <th>34952</th>\n",
       "      <td>97615;Pamandzi;N/A - résultat non disponible;N...</td>\n",
       "    </tr>\n",
       "    <tr>\n",
       "      <th>34953</th>\n",
       "      <td>97616;Sada;N/A - résultat non disponible;N/A;N...</td>\n",
       "    </tr>\n",
       "    <tr>\n",
       "      <th>34954</th>\n",
       "      <td>97617;Tsingoni;N/A - résultat non disponible;N...</td>\n",
       "    </tr>\n",
       "  </tbody>\n",
       "</table>\n",
       "<p>34955 rows × 1 columns</p>\n",
       "</div>"
      ],
      "text/plain": [
       "      Code;Libellé;Population municipale 2020;Répartition de la pop. en 3 classes d'âges 2019 - Moins de 25 ans;Répartition de la pop. en 3 classes d'âges 2019 - Entre 25 et 64 ans;Répartition de la pop. en 3 classes d'âges 2019 - 65 ans ou plus;Part des pers. âgées de 25 à 64 ans 2019\n",
       "0      1001;L'Abergement-Clémenciat;806;227;401;151;51.5                                                                                                                                                                                                                                      \n",
       "1            1002;L'Abergement-de-Varey;262;75;136;46;53                                                                                                                                                                                                                                      \n",
       "2       1004;Ambérieu-en-Bugey;14288;4552;7109;2473;50.3                                                                                                                                                                                                                                      \n",
       "3         1005;Ambérieux-en-Dombes;1782;506;962;283;54.9                                                                                                                                                                                                                                      \n",
       "4                         1006;Ambléon;113;22;63;26;56.4                                                                                                                                                                                                                                      \n",
       "...                                                  ...                                                                                                                                                                                                                                      \n",
       "34950  97613;M'Tsangamouji;N/A - résultat non disponi...                                                                                                                                                                                                                                      \n",
       "34951  97614;Ouangani;N/A - résultat non disponible;N...                                                                                                                                                                                                                                      \n",
       "34952  97615;Pamandzi;N/A - résultat non disponible;N...                                                                                                                                                                                                                                      \n",
       "34953  97616;Sada;N/A - résultat non disponible;N/A;N...                                                                                                                                                                                                                                      \n",
       "34954  97617;Tsingoni;N/A - résultat non disponible;N...                                                                                                                                                                                                                                      \n",
       "\n",
       "[34955 rows x 1 columns]"
      ]
     },
     "execution_count": 2,
     "metadata": {},
     "output_type": "execute_result"
    }
   ],
   "source": [
    "import pandas as pd\n",
    "pd.read_csv('age-communes.csv')"
   ]
  },
  {
   "cell_type": "code",
   "execution_count": 3,
   "metadata": {},
   "outputs": [],
   "source": [
    "from pyspark.sql import SparkSession"
   ]
  },
  {
   "cell_type": "code",
   "execution_count": 4,
   "metadata": {},
   "outputs": [
    {
     "name": "stdout",
     "output_type": "stream",
     "text": [
      "23/01/20 10:16:10 WARN Utils: Your hostname, MacBook-Pro-de-Raph.local resolves to a loopback address: 127.0.0.1; using 192.168.0.16 instead (on interface en0)\n",
      "23/01/20 10:16:10 WARN Utils: Set SPARK_LOCAL_IP if you need to bind to another address\n"
     ]
    },
    {
     "name": "stderr",
     "output_type": "stream",
     "text": [
      "Setting default log level to \"WARN\".\n",
      "To adjust logging level use sc.setLogLevel(newLevel). For SparkR, use setLogLevel(newLevel).\n"
     ]
    },
    {
     "name": "stdout",
     "output_type": "stream",
     "text": [
      "23/01/20 10:16:11 WARN NativeCodeLoader: Unable to load native-hadoop library for your platform... using builtin-java classes where applicable\n"
     ]
    }
   ],
   "source": [
    "spark=SparkSession.builder.appName('Practise').getOrCreate()"
   ]
  },
  {
   "cell_type": "code",
   "execution_count": 5,
   "metadata": {},
   "outputs": [
    {
     "data": {
      "text/html": [
       "\n",
       "            <div>\n",
       "                <p><b>SparkSession - in-memory</b></p>\n",
       "                \n",
       "        <div>\n",
       "            <p><b>SparkContext</b></p>\n",
       "\n",
       "            <p><a href=\"http://192.168.0.16:4040\">Spark UI</a></p>\n",
       "\n",
       "            <dl>\n",
       "              <dt>Version</dt>\n",
       "                <dd><code>v3.3.1</code></dd>\n",
       "              <dt>Master</dt>\n",
       "                <dd><code>local[*]</code></dd>\n",
       "              <dt>AppName</dt>\n",
       "                <dd><code>Practise</code></dd>\n",
       "            </dl>\n",
       "        </div>\n",
       "        \n",
       "            </div>\n",
       "        "
      ],
      "text/plain": [
       "<pyspark.sql.session.SparkSession at 0x12933b130>"
      ]
     },
     "execution_count": 5,
     "metadata": {},
     "output_type": "execute_result"
    }
   ],
   "source": [
    "spark"
   ]
  },
  {
   "cell_type": "code",
   "execution_count": 12,
   "metadata": {},
   "outputs": [
    {
     "name": "stderr",
     "output_type": "stream",
     "text": [
      "                                                                                \r"
     ]
    }
   ],
   "source": [
    "## Read the dataset\n",
    "df_pyspark = spark.read.option(\"delimiter\",\";\").option(\"header\",\"true\").csv('age-communes.csv',inferSchema=True)"
   ]
  },
  {
   "cell_type": "code",
   "execution_count": 15,
   "metadata": {},
   "outputs": [
    {
     "name": "stdout",
     "output_type": "stream",
     "text": [
      "root\n",
      " |-- Code: string (nullable = true)\n",
      " |-- Libellé: string (nullable = true)\n",
      " |-- Population municipale 2020: string (nullable = true)\n",
      " |-- Répartition de la pop. en 3 classes d'âges 2019 - Moins de 25 ans: string (nullable = true)\n",
      " |-- Répartition de la pop. en 3 classes d'âges 2019 - Entre 25 et 64 ans: string (nullable = true)\n",
      " |-- Répartition de la pop. en 3 classes d'âges 2019 - 65 ans ou plus: string (nullable = true)\n",
      " |-- Part des pers. âgées de 25 à 64 ans 2019: string (nullable = true)\n",
      "\n"
     ]
    }
   ],
   "source": [
    "## Check the schema\n",
    "df_pyspark.printSchema()"
   ]
  },
  {
   "cell_type": "code",
   "execution_count": 20,
   "metadata": {},
   "outputs": [
    {
     "data": {
      "text/plain": [
       "DataFrame[Code: string, Libellé: string]"
      ]
     },
     "execution_count": 20,
     "metadata": {},
     "output_type": "execute_result"
    }
   ],
   "source": [
    "df_pyspark.select(['Code','Libellé'])"
   ]
  },
  {
   "cell_type": "code",
   "execution_count": 21,
   "metadata": {},
   "outputs": [
    {
     "data": {
      "text/plain": [
       "[('Code', 'string'),\n",
       " ('Libellé', 'string'),\n",
       " ('Population municipale 2020', 'string'),\n",
       " (\"Répartition de la pop. en 3 classes d'âges 2019 - Moins de 25 ans\",\n",
       "  'string'),\n",
       " (\"Répartition de la pop. en 3 classes d'âges 2019 - Entre 25 et 64 ans\",\n",
       "  'string'),\n",
       " (\"Répartition de la pop. en 3 classes d'âges 2019 - 65 ans ou plus\",\n",
       "  'string'),\n",
       " ('Part des pers. âgées de 25 à 64 ans 2019', 'string')]"
      ]
     },
     "execution_count": 21,
     "metadata": {},
     "output_type": "execute_result"
    }
   ],
   "source": [
    "df_pyspark.dtypes"
   ]
  },
  {
   "cell_type": "code",
   "execution_count": 24,
   "metadata": {},
   "outputs": [
    {
     "name": "stderr",
     "output_type": "stream",
     "text": [
      "                                                                                \r"
     ]
    },
    {
     "name": "stdout",
     "output_type": "stream",
     "text": [
      "+-------+------------------+-------+--------------------------+-----------------------------------------------------------------+--------------------------------------------------------------------+----------------------------------------------------------------+----------------------------------------+\n",
      "|summary|              Code|Libellé|Population municipale 2020|Répartition de la pop. en 3 classes d'âges 2019 - Moins de 25 ans|Répartition de la pop. en 3 classes d'âges 2019 - Entre 25 et 64 ans|Répartition de la pop. en 3 classes d'âges 2019 - 65 ans ou plus|Part des pers. âgées de 25 à 64 ans 2019|\n",
      "+-------+------------------+-------+--------------------------+-----------------------------------------------------------------+--------------------------------------------------------------------+----------------------------------------------------------------+----------------------------------------+\n",
      "|  count|             34955|  34955|                     34955|                                                            34955|                                                               34955|                                                           34955|                                   34955|\n",
      "|   mean| 46652.08674663969|   null|        1922.3239452744863|                                                568.8454118724597|                                                   967.5750758486462|                                              380.93039097830444|                       51.28349364479568|\n",
      "| stddev|25621.143914777127|   null|        15004.479917523786|                                                4466.064449766048|                                                   8090.601451762616|                                              2601.3531174444765|                       4.395176366136465|\n",
      "|    min|             10002|   Aast|                         0|                                                                0|                                                                   0|                                                               0|                                       0|\n",
      "|    max|             97617| Œuilly|      N/A - résultat no...|                                                              N/A|                                                                 N/A|                                                             N/A|                    N/A - résultat no...|\n",
      "+-------+------------------+-------+--------------------------+-----------------------------------------------------------------+--------------------------------------------------------------------+----------------------------------------------------------------+----------------------------------------+\n",
      "\n"
     ]
    }
   ],
   "source": [
    "df_pyspark.describe().show()"
   ]
  },
  {
   "cell_type": "code",
   "execution_count": 28,
   "metadata": {},
   "outputs": [],
   "source": [
    "## Adding columns in data frame\n",
    "df_pyspark=df_pyspark.withColumn('Pop + 1000',df_pyspark['Population municipale 2020']+1000)"
   ]
  },
  {
   "cell_type": "code",
   "execution_count": 30,
   "metadata": {},
   "outputs": [],
   "source": [
    "## Drop the columns\n",
    "df_spark = df_pyspark.drop('Pop + 1000')"
   ]
  },
  {
   "cell_type": "code",
   "execution_count": null,
   "metadata": {},
   "outputs": [],
   "source": []
  }
 ],
 "metadata": {
  "kernelspec": {
   "display_name": "pyspark",
   "language": "python",
   "name": "python3"
  },
  "language_info": {
   "codemirror_mode": {
    "name": "ipython",
    "version": 3
   },
   "file_extension": ".py",
   "mimetype": "text/x-python",
   "name": "python",
   "nbconvert_exporter": "python",
   "pygments_lexer": "ipython3",
   "version": "3.9.16"
  },
  "orig_nbformat": 4,
  "vscode": {
   "interpreter": {
    "hash": "883a2b7961cd164ff71f40e1a12b94414a04f5de5a01d2314d0543ce31df89ad"
   }
  }
 },
 "nbformat": 4,
 "nbformat_minor": 2
}
