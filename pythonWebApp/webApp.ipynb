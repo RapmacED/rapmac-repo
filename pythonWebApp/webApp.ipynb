{
 "cells": [
  {
   "cell_type": "code",
   "execution_count": 2,
   "metadata": {},
   "outputs": [
    {
     "name": "stderr",
     "output_type": "stream",
     "text": [
      "2023-01-09 11:48:49.979 INFO    matplotlib.font_manager: Failed to extract font properties from /System/Library/Fonts/Supplemental/NISC18030.ttf: In FT2Font: Could not set the fontsize (invalid pixel size; error code 0x17)\n",
      "2023-01-09 11:48:50.145 INFO    matplotlib.font_manager: Failed to extract font properties from /System/Library/Fonts/LastResort.otf: tuple indices must be integers or slices, not str\n",
      "2023-01-09 11:48:50.183 INFO    matplotlib.font_manager: Failed to extract font properties from /System/Library/Fonts/Apple Color Emoji.ttc: In FT2Font: Could not set the fontsize (invalid pixel size; error code 0x17)\n",
      "2023-01-09 11:48:50.258 INFO    matplotlib.font_manager: generated new fontManager\n"
     ]
    }
   ],
   "source": [
    "import streamlit as st\n",
    "import pandas as pd\n",
    "import numpy as np\n",
    "import matplotlib.pyplot as plt\n",
    "import datetime"
   ]
  },
  {
   "cell_type": "code",
   "execution_count": 9,
   "metadata": {},
   "outputs": [],
   "source": [
    "df = pd.read_csv('NVidia_stock_history.csv')"
   ]
  },
  {
   "cell_type": "code",
   "execution_count": 10,
   "metadata": {},
   "outputs": [
    {
     "data": {
      "text/html": [
       "<div>\n",
       "<style scoped>\n",
       "    .dataframe tbody tr th:only-of-type {\n",
       "        vertical-align: middle;\n",
       "    }\n",
       "\n",
       "    .dataframe tbody tr th {\n",
       "        vertical-align: top;\n",
       "    }\n",
       "\n",
       "    .dataframe thead th {\n",
       "        text-align: right;\n",
       "    }\n",
       "</style>\n",
       "<table border=\"1\" class=\"dataframe\">\n",
       "  <thead>\n",
       "    <tr style=\"text-align: right;\">\n",
       "      <th></th>\n",
       "      <th>Date</th>\n",
       "      <th>Open</th>\n",
       "      <th>High</th>\n",
       "      <th>Low</th>\n",
       "      <th>Close</th>\n",
       "      <th>Volume</th>\n",
       "      <th>Dividends</th>\n",
       "      <th>Stock Splits</th>\n",
       "    </tr>\n",
       "  </thead>\n",
       "  <tbody>\n",
       "    <tr>\n",
       "      <th>5019</th>\n",
       "      <td>2019-01-02</td>\n",
       "      <td>32.454992</td>\n",
       "      <td>34.402688</td>\n",
       "      <td>32.308419</td>\n",
       "      <td>33.841236</td>\n",
       "      <td>50875200.0</td>\n",
       "      <td>0.0</td>\n",
       "      <td>0.0</td>\n",
       "    </tr>\n",
       "    <tr>\n",
       "      <th>5020</th>\n",
       "      <td>2019-01-03</td>\n",
       "      <td>33.237537</td>\n",
       "      <td>33.577890</td>\n",
       "      <td>31.722112</td>\n",
       "      <td>31.796640</td>\n",
       "      <td>70555200.0</td>\n",
       "      <td>0.0</td>\n",
       "      <td>0.0</td>\n",
       "    </tr>\n",
       "    <tr>\n",
       "      <th>5021</th>\n",
       "      <td>2019-01-04</td>\n",
       "      <td>32.529514</td>\n",
       "      <td>34.216356</td>\n",
       "      <td>32.221458</td>\n",
       "      <td>33.833775</td>\n",
       "      <td>58562000.0</td>\n",
       "      <td>0.0</td>\n",
       "      <td>0.0</td>\n",
       "    </tr>\n",
       "    <tr>\n",
       "      <th>5022</th>\n",
       "      <td>2019-01-07</td>\n",
       "      <td>34.407649</td>\n",
       "      <td>35.995121</td>\n",
       "      <td>33.893396</td>\n",
       "      <td>35.624958</td>\n",
       "      <td>70916000.0</td>\n",
       "      <td>0.0</td>\n",
       "      <td>0.0</td>\n",
       "    </tr>\n",
       "    <tr>\n",
       "      <th>5023</th>\n",
       "      <td>2019-01-08</td>\n",
       "      <td>36.442294</td>\n",
       "      <td>36.464652</td>\n",
       "      <td>34.010156</td>\n",
       "      <td>34.738060</td>\n",
       "      <td>78601600.0</td>\n",
       "      <td>0.0</td>\n",
       "      <td>0.0</td>\n",
       "    </tr>\n",
       "  </tbody>\n",
       "</table>\n",
       "</div>"
      ],
      "text/plain": [
       "           Date       Open       High        Low      Close      Volume  \\\n",
       "5019 2019-01-02  32.454992  34.402688  32.308419  33.841236  50875200.0   \n",
       "5020 2019-01-03  33.237537  33.577890  31.722112  31.796640  70555200.0   \n",
       "5021 2019-01-04  32.529514  34.216356  32.221458  33.833775  58562000.0   \n",
       "5022 2019-01-07  34.407649  35.995121  33.893396  35.624958  70916000.0   \n",
       "5023 2019-01-08  36.442294  36.464652  34.010156  34.738060  78601600.0   \n",
       "\n",
       "      Dividends  Stock Splits  \n",
       "5019        0.0           0.0  \n",
       "5020        0.0           0.0  \n",
       "5021        0.0           0.0  \n",
       "5022        0.0           0.0  \n",
       "5023        0.0           0.0  "
      ]
     },
     "execution_count": 10,
     "metadata": {},
     "output_type": "execute_result"
    }
   ],
   "source": [
    "# Delete rows where date is before 1/1/2019.\n",
    "df['Date'] = pd.to_datetime(df['Date'])\n",
    "df = df[~(df['Date'] < '2019-01-01')]\n",
    "df.head()\n"
   ]
  },
  {
   "cell_type": "code",
   "execution_count": 11,
   "metadata": {},
   "outputs": [],
   "source": [
    "df['Date'] = pd.to_datetime(df['Date'],format='%Y/%m/%d')\n",
    "df.reset_index(drop=True,inplace=True)\n",
    "df.set_index('Date',inplace=True)"
   ]
  },
  {
   "cell_type": "code",
   "execution_count": 12,
   "metadata": {},
   "outputs": [],
   "source": [
    "# Specify the title and logo for the web page.\n",
    "st.set_page_config(page_title='Nvidia Stock Prices', \n",
    "page_icon='https://cdn.freebiesupply.com/logos/thumbs/1x/nvidia-logo.png', layout=\"wide\")"
   ]
  },
  {
   "cell_type": "code",
   "execution_count": 14,
   "metadata": {},
   "outputs": [
    {
     "data": {
      "text/plain": [
       "\"\\n[![Star](https://img.shields.io/badge/Medium-12100E?style=for-the-badge&logo=medium&logoColor=white)](https://medium.com/@dniggl)\\n[![Follow](https://img.shields.io/badge/LinkedIn-0077B5?style=for-the-badge&logo=linkedin&logoColor=white)](https://www.linkedin.com/in/dennisniggl)\\n[![Follow](https://img.shields.io/badge/Twitter-1DA1F2?style=for-the-badge&logo=twitter&logoColor=white)](https://twitter.com/DennisNiggl)\\n\\n# Nvidia's Stock Performance\\n\\n\""
      ]
     },
     "execution_count": 14,
     "metadata": {},
     "output_type": "execute_result"
    }
   ],
   "source": [
    "# Add social media tags and links to the web page.\n",
    "\"\"\"\n",
    "[![Star](https://img.shields.io/badge/Medium-12100E?style=for-the-badge&logo=medium&logoColor=white)](https://medium.com/@dniggl)\n",
    "[![Follow](https://img.shields.io/badge/LinkedIn-0077B5?style=for-the-badge&logo=linkedin&logoColor=white)](https://www.linkedin.com/in/dennisniggl)\n",
    "[![Follow](https://img.shields.io/badge/Twitter-1DA1F2?style=for-the-badge&logo=twitter&logoColor=white)](https://twitter.com/DennisNiggl)\n",
    "\n",
    "# Nvidia's Stock Performance\n",
    "\n",
    "\"\"\""
   ]
  },
  {
   "cell_type": "code",
   "execution_count": 15,
   "metadata": {},
   "outputs": [
    {
     "name": "stderr",
     "output_type": "stream",
     "text": [
      "2023-01-09 12:03:37.898 \n",
      "  \u001b[33m\u001b[1mWarning:\u001b[0m to view this Streamlit app on a browser, run it with the following\n",
      "  command:\n",
      "\n",
      "    streamlit run /Users/raph/Documents/rapmac-repo/.virtualenvs/webApp/lib/python3.9/site-packages/ipykernel_launcher.py [ARGUMENTS]\n"
     ]
    }
   ],
   "source": [
    "# Add a sidebar to the web page. \n",
    "st.markdown('---')\n",
    "# Sidebar Configuration\n",
    "st.sidebar.image('https://cdn.freebiesupply.com/logos/thumbs/1x/nvidia-logo.png', width=200)\n",
    "st.sidebar.markdown('# Nvidia Stock Price Analysis')\n",
    "st.sidebar.markdown('Nvidia is a global leader in artificial intelligence hardware and software.')\n",
    "st.sidebar.markdown('Stock Data from 2019 thru 2021')\n",
    "st.sidebar.markdown('You can visualise Nvidia \\'s Stock Prices Trends and Patterns over a given time span.') \n",
    "\n",
    "st.sidebar.markdown('---')\n",
    "st.sidebar.write('Developed by Dennis Niggl')\n",
    "st.sidebar.write('Contact at dniggl@cox.net')"
   ]
  },
  {
   "cell_type": "code",
   "execution_count": 16,
   "metadata": {},
   "outputs": [],
   "source": [
    "# Display the Data in the App.\n",
    "st.subheader('Looking at the Data')\n",
    "st.dataframe(df.head())\n",
    "# Display statistical information on the dataset.\n",
    "st.subheader('Statistical Info about the Data')\n",
    "st.write(df.describe())"
   ]
  },
  {
   "cell_type": "code",
   "execution_count": 17,
   "metadata": {},
   "outputs": [],
   "source": [
    "# Selection for a specific time frame.\n",
    "st.subheader('Select a Date Range')\n",
    "df_select = df \n",
    "\n",
    "col1, col2 = st.columns(2)\n",
    "\n",
    "with col1:\n",
    "    st.write('Select a Start Date')\n",
    "    start_date = st.date_input('Start Date',min_value= datetime.date(2019,1,2),max_value=datetime.date(2021,11,12),value=datetime.date(2019,1,2))\n",
    "\n",
    "with col2:    \n",
    "    st.write('Select an End Date')\n",
    "    end_date = st.date_input('End Date',min_value=datetime.date(1999,1,22),max_value=datetime.date(2021,11,12),value=datetime.date(2021,11,12))\n",
    "\n",
    "if(start_date != None or end_date != None):\n",
    "    if(start_date < end_date):\n",
    "        df_select = df[start_date:end_date]\n",
    "    else:\n",
    "        st.warning(\"Invalid Date Range - Re-enter Dates\")"
   ]
  },
  {
   "cell_type": "code",
   "execution_count": 18,
   "metadata": {},
   "outputs": [
    {
     "data": {
      "text/plain": [
       "DeltaGenerator(_root_container=0, _provided_cursor=None, _parent=None, _block_type=None, _form_data=None)"
      ]
     },
     "execution_count": 18,
     "metadata": {},
     "output_type": "execute_result"
    }
   ],
   "source": [
    "# Open and Close Prices.  \n",
    "st.subheader(\"Open & Close Prices for Nvidia Stock\")\n",
    "st.markdown(\"\\n\\n\")\n",
    "st.line_chart(df_select[['Open','Close']])"
   ]
  },
  {
   "cell_type": "code",
   "execution_count": 19,
   "metadata": {},
   "outputs": [
    {
     "data": {
      "text/plain": [
       "DeltaGenerator(_root_container=0, _provided_cursor=None, _parent=None, _block_type=None, _form_data=None)"
      ]
     },
     "execution_count": 19,
     "metadata": {},
     "output_type": "execute_result"
    }
   ],
   "source": [
    "# High and Low Prices. \n",
    "st.subheader(\"High and Low Prices for Nvidia Stock\")\n",
    "st.markdown(\"\\n\\n\")\n",
    "st.line_chart(df_select[['High', 'Low']])"
   ]
  },
  {
   "cell_type": "code",
   "execution_count": 20,
   "metadata": {},
   "outputs": [
    {
     "data": {
      "text/plain": [
       "DeltaGenerator(_root_container=0, _provided_cursor=None, _parent=None, _block_type=None, _form_data=None)"
      ]
     },
     "execution_count": 20,
     "metadata": {},
     "output_type": "execute_result"
    }
   ],
   "source": [
    "# Volume of Stock Traded. \n",
    "st.subheader(\"Volumn Traded for Nvidia Stock\")\n",
    "st.markdown(\"\\n\\n\")\n",
    "st.bar_chart(df_select['Volume'])"
   ]
  },
  {
   "cell_type": "code",
   "execution_count": 21,
   "metadata": {},
   "outputs": [
    {
     "data": {
      "text/plain": [
       "DeltaGenerator(_root_container=0, _provided_cursor=None, _parent=None, _block_type=None, _form_data=None)"
      ]
     },
     "execution_count": 21,
     "metadata": {},
     "output_type": "execute_result"
    }
   ],
   "source": [
    "# Moving average from 50 days to 250 days.\n",
    "st.subheader('Moving Averages of Open and Closing Stock Prices')\n",
    "movevavg_len = st.slider('Select the number of days for Moving Averages',min_value=0,max_value=250,value=50)\n",
    "moveavg_oc =  df_select[['Open','Close']].rolling(50).mean()\n",
    "st.line_chart(moveavg_oc)"
   ]
  },
  {
   "cell_type": "code",
   "execution_count": null,
   "metadata": {},
   "outputs": [],
   "source": []
  }
 ],
 "metadata": {
  "kernelspec": {
   "display_name": "webApp",
   "language": "python",
   "name": "python3"
  },
  "language_info": {
   "codemirror_mode": {
    "name": "ipython",
    "version": 3
   },
   "file_extension": ".py",
   "mimetype": "text/x-python",
   "name": "python",
   "nbconvert_exporter": "python",
   "pygments_lexer": "ipython3",
   "version": "3.9.15"
  },
  "orig_nbformat": 4,
  "vscode": {
   "interpreter": {
    "hash": "c5407ff2077de87e5e245f07c538befe07e341142c7fa2ec51354ef4a28124e9"
   }
  }
 },
 "nbformat": 4,
 "nbformat_minor": 2
}
