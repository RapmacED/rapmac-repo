{
 "cells": [
  {
   "cell_type": "code",
   "execution_count": 25,
   "metadata": {},
   "outputs": [],
   "source": [
    "from time import sleep\n",
    "from selenium import webdriver\n",
    "from selenium.webdriver.common.keys import Keys\n",
    "from selenium.webdriver.common.by import By"
   ]
  },
  {
   "cell_type": "code",
   "execution_count": 36,
   "metadata": {},
   "outputs": [],
   "source": [
    "driver = webdriver.Chrome()\n",
    "driver.get(\"https://app.spendesk.com/auth/login\")\n",
    "sleep(5)"
   ]
  },
  {
   "cell_type": "code",
   "execution_count": 37,
   "metadata": {},
   "outputs": [
    {
     "name": "stdout",
     "output_type": "stream",
     "text": [
      "<selenium.webdriver.chrome.webdriver.WebDriver (session=\"41d46578eb336037e1cc4d7ae3251f9e\")>\n"
     ]
    }
   ],
   "source": [
    "print(driver)"
   ]
  },
  {
   "cell_type": "code",
   "execution_count": 38,
   "metadata": {},
   "outputs": [],
   "source": [
    "#cookies = driver.find_element(By.CLASS_NAME,\"Accepter\").click() \n",
    "login = driver.find_element(By.NAME,\"email\").send_keys(\"rapmac11@gmail.com\")\n",
    "password = driver.find_element(By.NAME,\"password\").send_keys(\"password\")\n",
    "submit = driver.find_element(By.CLASS_NAME,\"LoginPasswordForm__submit\").click()"
   ]
  },
  {
   "cell_type": "code",
   "execution_count": 39,
   "metadata": {},
   "outputs": [
    {
     "name": "stdout",
     "output_type": "stream",
     "text": [
      "<selenium.webdriver.remote.webelement.WebElement (session=\"41d46578eb336037e1cc4d7ae3251f9e\", element=\"699b3e32-88fe-4c56-a0cb-08c552978f07\")>\n"
     ]
    }
   ],
   "source": [
    "print(driver.find_element(By.CLASS_NAME,\"LoginForm__error\"))"
   ]
  },
  {
   "cell_type": "code",
   "execution_count": 40,
   "metadata": {},
   "outputs": [],
   "source": [
    "logs = driver.get_log('browser')"
   ]
  },
  {
   "cell_type": "code",
   "execution_count": 41,
   "metadata": {},
   "outputs": [
    {
     "name": "stdout",
     "output_type": "stream",
     "text": [
      "[{'level': 'SEVERE', 'message': 'https://app.spendesk.com/static/lang/fr/kyc.json - Failed to load resource: the server responded with a status of 404 ()', 'source': 'network', 'timestamp': 1674723258189}, {'level': 'WARNING', 'message': 'https://apis.google.com/_/scs/abc-static/_/js/k=gapi.lb.fr.CAOyDGt5mKU.O/m=client/rt=j/sv=1/d=1/ed=1/rs=AHpOoo_3N2T_xTSzzfu-Lp8hVcRjkVoYFQ/cb=gapi.loaded_0?le=scs 404 An iframe which has both allow-scripts and allow-same-origin for its sandbox attribute can remove its sandboxing.', 'source': 'security', 'timestamp': 1674723258643}, {'level': 'WARNING', 'message': 'https://apis.google.com/_/scs/abc-static/_/js/k=gapi.lb.fr.CAOyDGt5mKU.O/m=client/rt=j/sv=1/d=1/ed=1/rs=AHpOoo_3N2T_xTSzzfu-Lp8hVcRjkVoYFQ/cb=gapi.loaded_0?le=scs 385:208 \"Your client application uses libraries for user authentication or authorization that will soon be deprecated. See the [Migration Guide](https://developers.google.com/identity/gsi/web/guides/gis-migration) for more information.\"', 'source': 'console-api', 'timestamp': 1674723258733}, {'level': 'SEVERE', 'message': 'https://www.google-analytics.com/gtm/js?id=GTM-MJB6D4V&cid=1959322000.1674723261 2 [Report Only] Refused to evaluate a string as JavaScript because \\'unsafe-eval\\' is not an allowed source of script in the following Content Security Policy directive: \"script-src \\'self\\' https://*.marqeta.com https://js.intercomcdn.com https://www.google-analytics.com https://cdn.wootric.com https://fast.trychameleon.com https://fastly.trychameleon.com https://widget.intercom.io https://cdn.mxpnl.com https://cdn.segment.com https://cdn.amplitude.com https://tracking.g2crowd.com https://scout-cdn.salesloft.com https://serve.albacross.com https://js.hsforms.net https://d3r43gyd9zmfep.cloudfront.net https://cdn-3.convertexperiments.com https://www.googleoptimize.com https://apis.google.com https://fullstory.com https://*.fullstory.com https://analytics.twitter.com https://bat.bing.com https://cdn.heapanalytics.com https://connect.facebook.net https://googleads.g.doubleclick.net https://js.hs-analytics.net https://js.hs-banner.com https://*.hs-scripts.com https://js.hsleadflows.net https://script.hotjar.com https://snap.licdn.com https://static.ads-twitter.com https://static.hotjar.com https://www.googleadservices.com https://www.googletagmanager.com https://unpkg.com https://*.spendesk.com \\'report-sample\\'\".\\n', 'source': 'security', 'timestamp': 1674723261127}, {'level': 'SEVERE', 'message': 'https://www.google-analytics.com/gtm/js?id=GTM-MJB6D4V&cid=1959322000.1674723261 2 [Report Only] Refused to evaluate a string as JavaScript because \\'unsafe-eval\\' is not an allowed source of script in the following Content Security Policy directive: \"script-src \\'self\\' https://*.marqeta.com https://js.intercomcdn.com https://www.google-analytics.com https://cdn.wootric.com https://fast.trychameleon.com https://fastly.trychameleon.com https://widget.intercom.io https://cdn.mxpnl.com https://cdn.segment.com https://cdn.amplitude.com https://tracking.g2crowd.com https://scout-cdn.salesloft.com https://serve.albacross.com https://js.hsforms.net https://d3r43gyd9zmfep.cloudfront.net https://cdn-3.convertexperiments.com https://www.googleoptimize.com https://apis.google.com https://fullstory.com https://*.fullstory.com https://analytics.twitter.com https://bat.bing.com https://cdn.heapanalytics.com https://connect.facebook.net https://googleads.g.doubleclick.net https://js.hs-analytics.net https://js.hs-banner.com https://*.hs-scripts.com https://js.hsleadflows.net https://script.hotjar.com https://snap.licdn.com https://static.ads-twitter.com https://static.hotjar.com https://www.googleadservices.com https://www.googletagmanager.com https://unpkg.com https://*.spendesk.com \\'report-sample\\'\".\\n', 'source': 'security', 'timestamp': 1674723261128}, {'level': 'SEVERE', 'message': 'https://www.google-analytics.com/gtm/js?id=GTM-MJB6D4V&cid=1959322000.1674723261 2 [Report Only] Refused to evaluate a string as JavaScript because \\'unsafe-eval\\' is not an allowed source of script in the following Content Security Policy directive: \"script-src \\'self\\' https://*.marqeta.com https://js.intercomcdn.com https://www.google-analytics.com https://cdn.wootric.com https://fast.trychameleon.com https://fastly.trychameleon.com https://widget.intercom.io https://cdn.mxpnl.com https://cdn.segment.com https://cdn.amplitude.com https://tracking.g2crowd.com https://scout-cdn.salesloft.com https://serve.albacross.com https://js.hsforms.net https://d3r43gyd9zmfep.cloudfront.net https://cdn-3.convertexperiments.com https://www.googleoptimize.com https://apis.google.com https://fullstory.com https://*.fullstory.com https://analytics.twitter.com https://bat.bing.com https://cdn.heapanalytics.com https://connect.facebook.net https://googleads.g.doubleclick.net https://js.hs-analytics.net https://js.hs-banner.com https://*.hs-scripts.com https://js.hsleadflows.net https://script.hotjar.com https://snap.licdn.com https://static.ads-twitter.com https://static.hotjar.com https://www.googleadservices.com https://www.googletagmanager.com https://unpkg.com https://*.spendesk.com \\'report-sample\\'\".\\n', 'source': 'security', 'timestamp': 1674723261129}, {'level': 'SEVERE', 'message': 'https://www.google-analytics.com/gtm/js?id=GTM-MJB6D4V&cid=1959322000.1674723261 2 [Report Only] Refused to evaluate a string as JavaScript because \\'unsafe-eval\\' is not an allowed source of script in the following Content Security Policy directive: \"script-src \\'self\\' https://*.marqeta.com https://js.intercomcdn.com https://www.google-analytics.com https://cdn.wootric.com https://fast.trychameleon.com https://fastly.trychameleon.com https://widget.intercom.io https://cdn.mxpnl.com https://cdn.segment.com https://cdn.amplitude.com https://tracking.g2crowd.com https://scout-cdn.salesloft.com https://serve.albacross.com https://js.hsforms.net https://d3r43gyd9zmfep.cloudfront.net https://cdn-3.convertexperiments.com https://www.googleoptimize.com https://apis.google.com https://fullstory.com https://*.fullstory.com https://analytics.twitter.com https://bat.bing.com https://cdn.heapanalytics.com https://connect.facebook.net https://googleads.g.doubleclick.net https://js.hs-analytics.net https://js.hs-banner.com https://*.hs-scripts.com https://js.hsleadflows.net https://script.hotjar.com https://snap.licdn.com https://static.ads-twitter.com https://static.hotjar.com https://www.googleadservices.com https://www.googletagmanager.com https://unpkg.com https://*.spendesk.com \\'report-sample\\'\".\\n', 'source': 'security', 'timestamp': 1674723261134}, {'level': 'SEVERE', 'message': 'https://www.google-analytics.com/gtm/js?id=GTM-MJB6D4V&cid=1959322000.1674723261 2 [Report Only] Refused to evaluate a string as JavaScript because \\'unsafe-eval\\' is not an allowed source of script in the following Content Security Policy directive: \"script-src \\'self\\' https://*.marqeta.com https://js.intercomcdn.com https://www.google-analytics.com https://cdn.wootric.com https://fast.trychameleon.com https://fastly.trychameleon.com https://widget.intercom.io https://cdn.mxpnl.com https://cdn.segment.com https://cdn.amplitude.com https://tracking.g2crowd.com https://scout-cdn.salesloft.com https://serve.albacross.com https://js.hsforms.net https://d3r43gyd9zmfep.cloudfront.net https://cdn-3.convertexperiments.com https://www.googleoptimize.com https://apis.google.com https://fullstory.com https://*.fullstory.com https://analytics.twitter.com https://bat.bing.com https://cdn.heapanalytics.com https://connect.facebook.net https://googleads.g.doubleclick.net https://js.hs-analytics.net https://js.hs-banner.com https://*.hs-scripts.com https://js.hsleadflows.net https://script.hotjar.com https://snap.licdn.com https://static.ads-twitter.com https://static.hotjar.com https://www.googleadservices.com https://www.googletagmanager.com https://unpkg.com https://*.spendesk.com \\'report-sample\\'\".\\n', 'source': 'security', 'timestamp': 1674723261134}, {'level': 'SEVERE', 'message': 'https://auth.spendesk.com/login/cookie - Failed to load resource: the server responded with a status of 401 ()', 'source': 'network', 'timestamp': 1674723265638}]\n"
     ]
    }
   ],
   "source": [
    "print(logs)"
   ]
  },
  {
   "cell_type": "code",
   "execution_count": 106,
   "metadata": {},
   "outputs": [
    {
     "ename": "NoSuchElementException",
     "evalue": "Message: no such element: Unable to locate element: {\"method\":\"xpath\",\"selector\":\"/html/body/div/div/div/div/div[2]/div[1]/form/div[1]/div[2]/div/input\"}\n  (Session info: chrome=109.0.5414.119)\nStacktrace:\n0   chromedriver                        0x000000010246fb7c chromedriver + 4209532\n1   chromedriver                        0x00000001023fb418 chromedriver + 3732504\n2   chromedriver                        0x00000001020ae368 chromedriver + 271208\n3   chromedriver                        0x00000001020e9fc8 chromedriver + 516040\n4   chromedriver                        0x0000000102121804 chromedriver + 743428\n5   chromedriver                        0x00000001020dc59c chromedriver + 460188\n6   chromedriver                        0x00000001020dd644 chromedriver + 464452\n7   chromedriver                        0x000000010244130c chromedriver + 4018956\n8   chromedriver                        0x0000000102444fd8 chromedriver + 4034520\n9   chromedriver                        0x000000010244b11c chromedriver + 4059420\n10  chromedriver                        0x0000000102445bac chromedriver + 4037548\n11  chromedriver                        0x000000010241fbb0 chromedriver + 3881904\n12  chromedriver                        0x0000000102462120 chromedriver + 4153632\n13  chromedriver                        0x0000000102462274 chromedriver + 4153972\n14  chromedriver                        0x000000010247682c chromedriver + 4237356\n15  libsystem_pthread.dylib             0x00000001aa30a06c _pthread_start + 148\n16  libsystem_pthread.dylib             0x00000001aa304e2c thread_start + 8\n",
     "output_type": "error",
     "traceback": [
      "\u001b[0;31m---------------------------------------------------------------------------\u001b[0m",
      "\u001b[0;31mNoSuchElementException\u001b[0m                    Traceback (most recent call last)",
      "Cell \u001b[0;32mIn[106], line 5\u001b[0m\n\u001b[1;32m      3\u001b[0m driver\u001b[39m.\u001b[39mget(\u001b[39m\"\u001b[39m\u001b[39mhttps://app.payfit.com/\u001b[39m\u001b[39m\"\u001b[39m)\n\u001b[1;32m      4\u001b[0m \u001b[39m#login = driver.find_element(By.XPATH,\"//*[@id='email']\")#\u001b[39;00m\n\u001b[0;32m----> 5\u001b[0m login \u001b[39m=\u001b[39m driver\u001b[39m.\u001b[39;49mfind_element(By\u001b[39m.\u001b[39;49mXPATH,\u001b[39m\"\u001b[39;49m\u001b[39m/html/body/div/div/div/div/div[2]/div[1]/form/div[1]/div[2]/div/input\u001b[39;49m\u001b[39m\"\u001b[39;49m)\u001b[39m.\u001b[39msend_keys(\u001b[39m\"\u001b[39m\u001b[39mvictor@getscalability.io\u001b[39m\u001b[39m\"\u001b[39m)\n\u001b[1;32m      6\u001b[0m password \u001b[39m=\u001b[39m driver\u001b[39m.\u001b[39mfind_element(By\u001b[39m.\u001b[39mxpath,\u001b[39m\"\u001b[39m\u001b[39m/html/body/div/div/div/div/div[2]/div[1]/form/div[2]/div[2]/div/input\u001b[39m\u001b[39m\"\u001b[39m)\u001b[39m.\u001b[39msend_keys(\u001b[39m\"\u001b[39m\u001b[39mpassword\u001b[39m\u001b[39m\"\u001b[39m)\n\u001b[1;32m      7\u001b[0m submit \u001b[39m=\u001b[39m driver\u001b[39m.\u001b[39mfind_element(By\u001b[39m.\u001b[39mXPATH,\u001b[39m\"\u001b[39m\u001b[39m/html/body/div/div[1]/div/div/div[2]/div/div[3]/div/div[1]/form/button\u001b[39m\u001b[39m\"\u001b[39m)\u001b[39m.\u001b[39mclick()\n",
      "File \u001b[0;32m~/Documents/rapmac-repo/.virtualenvs/scalability/lib/python3.9/site-packages/selenium/webdriver/remote/webdriver.py:830\u001b[0m, in \u001b[0;36mWebDriver.find_element\u001b[0;34m(self, by, value)\u001b[0m\n\u001b[1;32m    827\u001b[0m     by \u001b[39m=\u001b[39m By\u001b[39m.\u001b[39mCSS_SELECTOR\n\u001b[1;32m    828\u001b[0m     value \u001b[39m=\u001b[39m \u001b[39mf\u001b[39m\u001b[39m'\u001b[39m\u001b[39m[name=\u001b[39m\u001b[39m\"\u001b[39m\u001b[39m{\u001b[39;00mvalue\u001b[39m}\u001b[39;00m\u001b[39m\"\u001b[39m\u001b[39m]\u001b[39m\u001b[39m'\u001b[39m\n\u001b[0;32m--> 830\u001b[0m \u001b[39mreturn\u001b[39;00m \u001b[39mself\u001b[39;49m\u001b[39m.\u001b[39;49mexecute(Command\u001b[39m.\u001b[39;49mFIND_ELEMENT, {\u001b[39m\"\u001b[39;49m\u001b[39musing\u001b[39;49m\u001b[39m\"\u001b[39;49m: by, \u001b[39m\"\u001b[39;49m\u001b[39mvalue\u001b[39;49m\u001b[39m\"\u001b[39;49m: value})[\u001b[39m\"\u001b[39m\u001b[39mvalue\u001b[39m\u001b[39m\"\u001b[39m]\n",
      "File \u001b[0;32m~/Documents/rapmac-repo/.virtualenvs/scalability/lib/python3.9/site-packages/selenium/webdriver/remote/webdriver.py:440\u001b[0m, in \u001b[0;36mWebDriver.execute\u001b[0;34m(self, driver_command, params)\u001b[0m\n\u001b[1;32m    438\u001b[0m response \u001b[39m=\u001b[39m \u001b[39mself\u001b[39m\u001b[39m.\u001b[39mcommand_executor\u001b[39m.\u001b[39mexecute(driver_command, params)\n\u001b[1;32m    439\u001b[0m \u001b[39mif\u001b[39;00m response:\n\u001b[0;32m--> 440\u001b[0m     \u001b[39mself\u001b[39;49m\u001b[39m.\u001b[39;49merror_handler\u001b[39m.\u001b[39;49mcheck_response(response)\n\u001b[1;32m    441\u001b[0m     response[\u001b[39m\"\u001b[39m\u001b[39mvalue\u001b[39m\u001b[39m\"\u001b[39m] \u001b[39m=\u001b[39m \u001b[39mself\u001b[39m\u001b[39m.\u001b[39m_unwrap_value(response\u001b[39m.\u001b[39mget(\u001b[39m\"\u001b[39m\u001b[39mvalue\u001b[39m\u001b[39m\"\u001b[39m, \u001b[39mNone\u001b[39;00m))\n\u001b[1;32m    442\u001b[0m     \u001b[39mreturn\u001b[39;00m response\n",
      "File \u001b[0;32m~/Documents/rapmac-repo/.virtualenvs/scalability/lib/python3.9/site-packages/selenium/webdriver/remote/errorhandler.py:245\u001b[0m, in \u001b[0;36mErrorHandler.check_response\u001b[0;34m(self, response)\u001b[0m\n\u001b[1;32m    243\u001b[0m         alert_text \u001b[39m=\u001b[39m value[\u001b[39m\"\u001b[39m\u001b[39malert\u001b[39m\u001b[39m\"\u001b[39m]\u001b[39m.\u001b[39mget(\u001b[39m\"\u001b[39m\u001b[39mtext\u001b[39m\u001b[39m\"\u001b[39m)\n\u001b[1;32m    244\u001b[0m     \u001b[39mraise\u001b[39;00m exception_class(message, screen, stacktrace, alert_text)  \u001b[39m# type: ignore[call-arg]  # mypy is not smart enough here\u001b[39;00m\n\u001b[0;32m--> 245\u001b[0m \u001b[39mraise\u001b[39;00m exception_class(message, screen, stacktrace)\n",
      "\u001b[0;31mNoSuchElementException\u001b[0m: Message: no such element: Unable to locate element: {\"method\":\"xpath\",\"selector\":\"/html/body/div/div/div/div/div[2]/div[1]/form/div[1]/div[2]/div/input\"}\n  (Session info: chrome=109.0.5414.119)\nStacktrace:\n0   chromedriver                        0x000000010246fb7c chromedriver + 4209532\n1   chromedriver                        0x00000001023fb418 chromedriver + 3732504\n2   chromedriver                        0x00000001020ae368 chromedriver + 271208\n3   chromedriver                        0x00000001020e9fc8 chromedriver + 516040\n4   chromedriver                        0x0000000102121804 chromedriver + 743428\n5   chromedriver                        0x00000001020dc59c chromedriver + 460188\n6   chromedriver                        0x00000001020dd644 chromedriver + 464452\n7   chromedriver                        0x000000010244130c chromedriver + 4018956\n8   chromedriver                        0x0000000102444fd8 chromedriver + 4034520\n9   chromedriver                        0x000000010244b11c chromedriver + 4059420\n10  chromedriver                        0x0000000102445bac chromedriver + 4037548\n11  chromedriver                        0x000000010241fbb0 chromedriver + 3881904\n12  chromedriver                        0x0000000102462120 chromedriver + 4153632\n13  chromedriver                        0x0000000102462274 chromedriver + 4153972\n14  chromedriver                        0x000000010247682c chromedriver + 4237356\n15  libsystem_pthread.dylib             0x00000001aa30a06c _pthread_start + 148\n16  libsystem_pthread.dylib             0x00000001aa304e2c thread_start + 8\n"
     ]
    }
   ],
   "source": [
    "#Alan\n",
    "driver = webdriver.Chrome()\n",
    "driver.get(\"https://app.payfit.com/\")\n",
    "#login = driver.find_element(By.XPATH,\"//*[@id='email']\")#\n",
    "login = driver.find_element(By.XPATH,\"/html/body/div/div/div/div/div[2]/div[1]/form/div[1]/div[2]/div/input\").send_keys(\"victor@getscalability.io\")\n",
    "password = driver.find_element(By.xpath,\"/html/body/div/div/div/div/div[2]/div[1]/form/div[2]/div[2]/div/input\").send_keys(\"password\")\n",
    "submit = driver.find_element(By.XPATH,\"/html/body/div/div[1]/div/div/div[2]/div/div[3]/div/div[1]/form/button\").click()\n",
    "logs = driver.get_log('browser')\n",
    "print(logs)"
   ]
  },
  {
   "cell_type": "code",
   "execution_count": 109,
   "metadata": {},
   "outputs": [
    {
     "name": "stdout",
     "output_type": "stream",
     "text": [
      "[]\n"
     ]
    }
   ],
   "source": [
    "#Zelty\n",
    "driver = webdriver.Chrome()\n",
    "driver.get(\"https://bo.zelty.fr/\")\n",
    "#login = driver.find_element(By.XPATH,\"//*[@id='email']\")#\n",
    "login = driver.find_element(By.XPATH,\"/html/body/form/div[2]/input\").send_keys(\"victor@getscalability.io\")\n",
    "password = driver.find_element(By.XPATH,\"/html/body/form/div[3]/input\").send_keys(\"password\")\n",
    "submit = driver.find_element(By.XPATH,\"/html/body/form/div[5]/input[2]\").click()\n",
    "logs = driver.get_log('browser')\n",
    "print(logs)"
   ]
  },
  {
   "cell_type": "code",
   "execution_count": 123,
   "metadata": {},
   "outputs": [
    {
     "ename": "NoSuchWindowException",
     "evalue": "Message: no such window: target window already closed\nfrom unknown error: web view not found\n  (Session info: chrome=109.0.5414.119)\nStacktrace:\n0   chromedriver                        0x00000001010c7b7c chromedriver + 4209532\n1   chromedriver                        0x0000000101053418 chromedriver + 3732504\n2   chromedriver                        0x0000000100d06368 chromedriver + 271208\n3   chromedriver                        0x0000000100ce16fc chromedriver + 120572\n4   chromedriver                        0x0000000100d66660 chromedriver + 665184\n5   chromedriver                        0x0000000100d78fbc chromedriver + 741308\n6   chromedriver                        0x0000000100d3459c chromedriver + 460188\n7   chromedriver                        0x0000000100d35644 chromedriver + 464452\n8   chromedriver                        0x000000010109930c chromedriver + 4018956\n9   chromedriver                        0x000000010109cfd8 chromedriver + 4034520\n10  chromedriver                        0x00000001010a311c chromedriver + 4059420\n11  chromedriver                        0x000000010109dbac chromedriver + 4037548\n12  chromedriver                        0x0000000101077bb0 chromedriver + 3881904\n13  chromedriver                        0x00000001010ba120 chromedriver + 4153632\n14  chromedriver                        0x00000001010ba274 chromedriver + 4153972\n15  chromedriver                        0x00000001010ce82c chromedriver + 4237356\n16  libsystem_pthread.dylib             0x00000001aa30a06c _pthread_start + 148\n17  libsystem_pthread.dylib             0x00000001aa304e2c thread_start + 8\n",
     "output_type": "error",
     "traceback": [
      "\u001b[0;31m---------------------------------------------------------------------------\u001b[0m",
      "\u001b[0;31mNoSuchWindowException\u001b[0m                     Traceback (most recent call last)",
      "Cell \u001b[0;32mIn[123], line 5\u001b[0m\n\u001b[1;32m      3\u001b[0m driver\u001b[39m.\u001b[39mget(\u001b[39m\"\u001b[39m\u001b[39mhttps://app.swile.co/signin\u001b[39m\u001b[39m\"\u001b[39m)\n\u001b[1;32m      4\u001b[0m sleep(\u001b[39m2\u001b[39m)\n\u001b[0;32m----> 5\u001b[0m login \u001b[39m=\u001b[39m driver\u001b[39m.\u001b[39;49mfind_element(By\u001b[39m.\u001b[39;49mXPATH,\u001b[39m\"\u001b[39;49m\u001b[39m/html/body/div[1]/div/div[2]/div[5]/div[2]/div/div/form/div[1]/div/div/div/input\u001b[39;49m\u001b[39m\"\u001b[39;49m)\u001b[39m.\u001b[39msend_keys(\u001b[39m\"\u001b[39m\u001b[39mvictor@getscalability.io\u001b[39m\u001b[39m\"\u001b[39m)\n\u001b[1;32m      6\u001b[0m password \u001b[39m=\u001b[39m driver\u001b[39m.\u001b[39mfind_element(By\u001b[39m.\u001b[39mXPATH,\u001b[39m\"\u001b[39m\u001b[39m/html/body/div[1]/div/div[2]/div[5]/div[2]/div/div/form/div[2]/div/div/div[1]/input\u001b[39m\u001b[39m\"\u001b[39m)\u001b[39m.\u001b[39msend_keys(\u001b[39m\"\u001b[39m\u001b[39mpassword\u001b[39m\u001b[39m\"\u001b[39m)\n\u001b[1;32m      7\u001b[0m submit \u001b[39m=\u001b[39m driver\u001b[39m.\u001b[39mfind_element(By\u001b[39m.\u001b[39mXPATH,\u001b[39m\"\u001b[39m\u001b[39m/html/body/div[1]/div/div[2]/div[5]/div[2]/div/div/form/div[3]/button\u001b[39m\u001b[39m\"\u001b[39m)\u001b[39m.\u001b[39mclick()\n",
      "File \u001b[0;32m~/Documents/rapmac-repo/.virtualenvs/scalability/lib/python3.9/site-packages/selenium/webdriver/remote/webdriver.py:830\u001b[0m, in \u001b[0;36mWebDriver.find_element\u001b[0;34m(self, by, value)\u001b[0m\n\u001b[1;32m    827\u001b[0m     by \u001b[39m=\u001b[39m By\u001b[39m.\u001b[39mCSS_SELECTOR\n\u001b[1;32m    828\u001b[0m     value \u001b[39m=\u001b[39m \u001b[39mf\u001b[39m\u001b[39m'\u001b[39m\u001b[39m[name=\u001b[39m\u001b[39m\"\u001b[39m\u001b[39m{\u001b[39;00mvalue\u001b[39m}\u001b[39;00m\u001b[39m\"\u001b[39m\u001b[39m]\u001b[39m\u001b[39m'\u001b[39m\n\u001b[0;32m--> 830\u001b[0m \u001b[39mreturn\u001b[39;00m \u001b[39mself\u001b[39;49m\u001b[39m.\u001b[39;49mexecute(Command\u001b[39m.\u001b[39;49mFIND_ELEMENT, {\u001b[39m\"\u001b[39;49m\u001b[39musing\u001b[39;49m\u001b[39m\"\u001b[39;49m: by, \u001b[39m\"\u001b[39;49m\u001b[39mvalue\u001b[39;49m\u001b[39m\"\u001b[39;49m: value})[\u001b[39m\"\u001b[39m\u001b[39mvalue\u001b[39m\u001b[39m\"\u001b[39m]\n",
      "File \u001b[0;32m~/Documents/rapmac-repo/.virtualenvs/scalability/lib/python3.9/site-packages/selenium/webdriver/remote/webdriver.py:440\u001b[0m, in \u001b[0;36mWebDriver.execute\u001b[0;34m(self, driver_command, params)\u001b[0m\n\u001b[1;32m    438\u001b[0m response \u001b[39m=\u001b[39m \u001b[39mself\u001b[39m\u001b[39m.\u001b[39mcommand_executor\u001b[39m.\u001b[39mexecute(driver_command, params)\n\u001b[1;32m    439\u001b[0m \u001b[39mif\u001b[39;00m response:\n\u001b[0;32m--> 440\u001b[0m     \u001b[39mself\u001b[39;49m\u001b[39m.\u001b[39;49merror_handler\u001b[39m.\u001b[39;49mcheck_response(response)\n\u001b[1;32m    441\u001b[0m     response[\u001b[39m\"\u001b[39m\u001b[39mvalue\u001b[39m\u001b[39m\"\u001b[39m] \u001b[39m=\u001b[39m \u001b[39mself\u001b[39m\u001b[39m.\u001b[39m_unwrap_value(response\u001b[39m.\u001b[39mget(\u001b[39m\"\u001b[39m\u001b[39mvalue\u001b[39m\u001b[39m\"\u001b[39m, \u001b[39mNone\u001b[39;00m))\n\u001b[1;32m    442\u001b[0m     \u001b[39mreturn\u001b[39;00m response\n",
      "File \u001b[0;32m~/Documents/rapmac-repo/.virtualenvs/scalability/lib/python3.9/site-packages/selenium/webdriver/remote/errorhandler.py:245\u001b[0m, in \u001b[0;36mErrorHandler.check_response\u001b[0;34m(self, response)\u001b[0m\n\u001b[1;32m    243\u001b[0m         alert_text \u001b[39m=\u001b[39m value[\u001b[39m\"\u001b[39m\u001b[39malert\u001b[39m\u001b[39m\"\u001b[39m]\u001b[39m.\u001b[39mget(\u001b[39m\"\u001b[39m\u001b[39mtext\u001b[39m\u001b[39m\"\u001b[39m)\n\u001b[1;32m    244\u001b[0m     \u001b[39mraise\u001b[39;00m exception_class(message, screen, stacktrace, alert_text)  \u001b[39m# type: ignore[call-arg]  # mypy is not smart enough here\u001b[39;00m\n\u001b[0;32m--> 245\u001b[0m \u001b[39mraise\u001b[39;00m exception_class(message, screen, stacktrace)\n",
      "\u001b[0;31mNoSuchWindowException\u001b[0m: Message: no such window: target window already closed\nfrom unknown error: web view not found\n  (Session info: chrome=109.0.5414.119)\nStacktrace:\n0   chromedriver                        0x00000001010c7b7c chromedriver + 4209532\n1   chromedriver                        0x0000000101053418 chromedriver + 3732504\n2   chromedriver                        0x0000000100d06368 chromedriver + 271208\n3   chromedriver                        0x0000000100ce16fc chromedriver + 120572\n4   chromedriver                        0x0000000100d66660 chromedriver + 665184\n5   chromedriver                        0x0000000100d78fbc chromedriver + 741308\n6   chromedriver                        0x0000000100d3459c chromedriver + 460188\n7   chromedriver                        0x0000000100d35644 chromedriver + 464452\n8   chromedriver                        0x000000010109930c chromedriver + 4018956\n9   chromedriver                        0x000000010109cfd8 chromedriver + 4034520\n10  chromedriver                        0x00000001010a311c chromedriver + 4059420\n11  chromedriver                        0x000000010109dbac chromedriver + 4037548\n12  chromedriver                        0x0000000101077bb0 chromedriver + 3881904\n13  chromedriver                        0x00000001010ba120 chromedriver + 4153632\n14  chromedriver                        0x00000001010ba274 chromedriver + 4153972\n15  chromedriver                        0x00000001010ce82c chromedriver + 4237356\n16  libsystem_pthread.dylib             0x00000001aa30a06c _pthread_start + 148\n17  libsystem_pthread.dylib             0x00000001aa304e2c thread_start + 8\n"
     ]
    }
   ],
   "source": [
    "#Swile\n",
    "driver = webdriver.Chrome()\n",
    "driver.get(\"https://app.swile.co/signin\")\n",
    "sleep(2)\n",
    "login = driver.find_element(By.XPATH,\"/html/body/div[1]/div/div[2]/div[5]/div[2]/div/div/form/div[1]/div/div/div/input\").send_keys(\"victor@getscalability.io\")\n",
    "password = driver.find_element(By.XPATH,\"/html/body/div[1]/div/div[2]/div[5]/div[2]/div/div/form/div[2]/div/div/div[1]/input\").send_keys(\"password\")\n",
    "submit = driver.find_element(By.XPATH,\"/html/body/div[1]/div/div[2]/div[5]/div[2]/div/div/form/div[3]/button\").click()\n",
    "logs = driver.get_log('browser')\n",
    "print(logs)"
   ]
  },
  {
   "cell_type": "code",
   "execution_count": 126,
   "metadata": {},
   "outputs": [
    {
     "name": "stdout",
     "output_type": "stream",
     "text": [
      "[]\n"
     ]
    }
   ],
   "source": [
    "#Qonto\n",
    "driver = webdriver.Chrome()\n",
    "driver.get(\"https://app.qonto.com/signin\")\n",
    "sleep(2)\n",
    "banner = driver.find_element(By.XPATH,\"/html/body/div[1]/div/div/div/div/div/span\").click()\n",
    "sleep(2)\n",
    "login = driver.find_element(By.XPATH,\"/html/body/div[3]/div[2]/div/div[1]/div/form/div[1]/div[1]/input\").send_keys(\"rapmac11@gmail.com\")\n",
    "sleep(2)\n",
    "password = driver.find_element(By.XPATH,\"/html/body/div[3]/div[2]/div/div[1]/div/form/div[1]/div[2]/input\").send_keys(\"password\")\n",
    "sleep(2)\n",
    "submit = driver.find_element(By.XPATH,\"/html/body/div[3]/div[2]/div/div[1]/div/form/div[2]/button\").click()\n",
    "logs = driver.get_log('browser')\n",
    "print(logs)\n"
   ]
  },
  {
   "cell_type": "code",
   "execution_count": 127,
   "metadata": {},
   "outputs": [
    {
     "name": "stdout",
     "output_type": "stream",
     "text": [
      "{}\n",
      "{}\n"
     ]
    }
   ],
   "source": [
    "import requests\n",
    "session = requests.Session()\n",
    "print(session.cookies.get_dict())\n",
    "\n",
    "response = session.get('https://payfit.com/')\n",
    "print(session.cookies.get_dict())\n"
   ]
  },
  {
   "cell_type": "code",
   "execution_count": null,
   "metadata": {},
   "outputs": [],
   "source": []
  }
 ],
 "metadata": {
  "kernelspec": {
   "display_name": "scalability",
   "language": "python",
   "name": "python3"
  },
  "language_info": {
   "codemirror_mode": {
    "name": "ipython",
    "version": 3
   },
   "file_extension": ".py",
   "mimetype": "text/x-python",
   "name": "python",
   "nbconvert_exporter": "python",
   "pygments_lexer": "ipython3",
   "version": "3.9.16"
  },
  "orig_nbformat": 4,
  "vscode": {
   "interpreter": {
    "hash": "b60ab2796edb0fa4c35c6c90836e2226f22659e294f5ecc95ef72f59cdf46ba8"
   }
  }
 },
 "nbformat": 4,
 "nbformat_minor": 2
}
