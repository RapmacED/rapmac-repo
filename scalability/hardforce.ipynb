{
 "cells": [
  {
   "cell_type": "code",
   "execution_count": 3,
   "metadata": {},
   "outputs": [],
   "source": [
    "from time import sleep\n",
    "from selenium import webdriver\n",
    "from selenium.webdriver.common.keys import Keys\n",
    "from selenium.webdriver.common.by import By\n",
    "from selenium.common.exceptions import NoSuchElementException\n",
    "import pandas as pd\n",
    "import numpy as np\n",
    "import pydeck as pdk\n",
    "import streamlit as st"
   ]
  },
  {
   "cell_type": "code",
   "execution_count": 4,
   "metadata": {},
   "outputs": [
    {
     "name": "stderr",
     "output_type": "stream",
     "text": [
      "2023-01-31 16:00:45.986 \n",
      "  \u001b[33m\u001b[1mWarning:\u001b[0m to view this Streamlit app on a browser, run it with the following\n",
      "  command:\n",
      "\n",
      "    streamlit run /Users/raph/Documents/rapmac-repo/.virtualenvs/hardforce/lib/python3.9/site-packages/ipykernel_launcher.py [ARGUMENTS]\n"
     ]
    },
    {
     "data": {
      "text/plain": [
       "DeltaGenerator(_root_container=0, _provided_cursor=None, _parent=None, _block_type=None, _form_data=None)"
      ]
     },
     "execution_count": 4,
     "metadata": {},
     "output_type": "execute_result"
    }
   ],
   "source": [
    "options = webdriver.ChromeOptions()\n",
    "options.add_argument('--ignore-ssl-errors=yes')\n",
    "options.add_argument('--ignore-certificate-errors')\n",
    "driver = webdriver.Remote(\n",
    "    command_executor='http://localhost:4444/wd/hub',\n",
    "    options = options\n",
    ")\n",
    "sleep(5)\n",
    "st.title('Scalability Hard Force platform')"
   ]
  },
  {
   "cell_type": "code",
   "execution_count": 5,
   "metadata": {},
   "outputs": [
    {
     "data": {
      "text/plain": [
       "DeltaGenerator(_root_container=0, _provided_cursor=None, _parent=None, _block_type=None, _form_data=None)"
      ]
     },
     "execution_count": 5,
     "metadata": {},
     "output_type": "execute_result"
    }
   ],
   "source": [
    "#Zelty\n",
    "def check_exists_by_xpath(xpath):\n",
    "    try:\n",
    "        driver.find_element(By.XPATH,xpath)\n",
    "    except NoSuchElementException:\n",
    "        return False\n",
    "    return True\n",
    "emailZelty = st.text_input('Email adress', 'tartampion@lesgoudes.om')\n",
    "launchZelty = st.button('Test this adress on Zelty')\n",
    "zeltyState = \"\"\n",
    "if(launchZelty == True):\n",
    "    #driver.get('https://google.com')\n",
    "    driver.get(\"https://bo.zelty.fr/mot-de-passe-oublie\")\n",
    "    sleep(5)\n",
    "    login = driver.find_element(By.XPATH,\"/html/body/div/form/div[1]/input\").send_keys(emailZelty)\n",
    "    sleep(2)\n",
    "    #password = driver.find_element(By.XPATH,\"//*[@id=\"loginform\"]/form/div[1]/input\").send_keys(\"password\")\n",
    "    #sleep(2)\n",
    "    submit = driver.find_element(By.XPATH,\"/html/body/div/form/div[2]/input\").click()\n",
    "    if(check_exists_by_xpath(\"/html/body/div/p[1]\") == True):\n",
    "        if(driver.find_element(By.XPATH,\"/html/body/div/p[1]\").text == \"Cette adresse email n'existe pas dans notre système.\"):\n",
    "            zeltyState = 'Cette adresse n\\'est pas reliée à Zelty'\n",
    "\n",
    "st.title(zeltyState)\n"
   ]
  },
  {
   "cell_type": "code",
   "execution_count": null,
   "metadata": {},
   "outputs": [],
   "source": [
    "driver.close()\n",
    "driver.quit()"
   ]
  }
 ],
 "metadata": {
  "kernelspec": {
   "display_name": "hardforce",
   "language": "python",
   "name": "python3"
  },
  "language_info": {
   "codemirror_mode": {
    "name": "ipython",
    "version": 3
   },
   "file_extension": ".py",
   "mimetype": "text/x-python",
   "name": "python",
   "nbconvert_exporter": "python",
   "pygments_lexer": "ipython3",
   "version": "3.9.16"
  },
  "orig_nbformat": 4,
  "vscode": {
   "interpreter": {
    "hash": "5b47eeb5194eaaa0b12f9b78d7e36d989fe62b7d1e39885528eb5275de66bac1"
   }
  }
 },
 "nbformat": 4,
 "nbformat_minor": 2
}
