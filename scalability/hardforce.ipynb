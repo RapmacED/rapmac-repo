{
 "cells": [
  {
   "cell_type": "code",
   "execution_count": 21,
   "metadata": {},
   "outputs": [],
   "source": [
    "from time import sleep\n",
    "from selenium import webdriver\n",
    "from selenium.webdriver.common.keys import Keys\n",
    "from selenium.webdriver.common.by import By\n",
    "import pandas as pd\n",
    "import numpy as np\n",
    "import pydeck as pdk\n",
    "import streamlit as st"
   ]
  },
  {
   "cell_type": "code",
   "execution_count": 22,
   "metadata": {},
   "outputs": [
    {
     "data": {
      "text/plain": [
       "DeltaGenerator(_root_container=0, _provided_cursor=None, _parent=None, _block_type=None, _form_data=None)"
      ]
     },
     "execution_count": 22,
     "metadata": {},
     "output_type": "execute_result"
    }
   ],
   "source": [
    "st.title('Scalability Hard Force platform')"
   ]
  },
  {
   "cell_type": "code",
   "execution_count": 26,
   "metadata": {},
   "outputs": [
    {
     "name": "stdout",
     "output_type": "stream",
     "text": [
      "<selenium.webdriver.remote.webelement.WebElement (session=\"e5ad0e32d4ef8dbad17f523633e223c2\", element=\"26c7a01c-eb6e-448d-87a3-919e7ad44aba\")>\n"
     ]
    }
   ],
   "source": [
    "#Zelty\n",
    "emailZelty = st.text_input('Email adress', 'tartampion@lesgoudes.om')\n",
    "launchZelty = st.button('Test this adress on Zelty')\n",
    "zeltyState = \"\"\n",
    "if(launchZelty == True):\n",
    "    options = webdriver.ChromeOptions()\n",
    "    options.add_argument('--ignore-ssl-errors=yes')\n",
    "    options.add_argument('--ignore-certificate-errors')\n",
    "    driver = webdriver.Remote(\n",
    "        command_executor='http://localhost:4444/wd/hub',\n",
    "        options = options\n",
    "    )\n",
    "    sleep(5)\n",
    "    #driver.get('https://google.com')\n",
    "    driver.get(\"https://bo.zelty.fr/mot-de-passe-oublie\")\n",
    "    sleep(5)\n",
    "    login = driver.find_element(By.XPATH,\"/html/body/div/form/div[1]/input\").send_keys(emailZelty)\n",
    "    sleep(2)\n",
    "    #password = driver.find_element(By.XPATH,\"//*[@id=\"loginform\"]/form/div[1]/input\").send_keys(\"password\")\n",
    "    #sleep(2)\n",
    "    submit = driver.find_element(By.XPATH,\"/html/body/div/form/div[2]/input\").click()\n",
    "    if(driver.find_element(By.XPATH,\"/html/body/div/p[1]\").size() != 0):\n",
    "        if(driver.find_element(By.XPATH,\"/html/body/div/p[1]\").text == \"Cette adresse email n'existe pas dans notre système.\"):\n",
    "            zeltyState = 'Cette adresse n\\'est pas reliée à Zelty'\n",
    "    driver.close()\n",
    "    driver.quit()\n",
    "\n",
    "st.title(zeltyState)\n"
   ]
  }
 ],
 "metadata": {
  "kernelspec": {
   "display_name": "hardforce",
   "language": "python",
   "name": "python3"
  },
  "language_info": {
   "codemirror_mode": {
    "name": "ipython",
    "version": 3
   },
   "file_extension": ".py",
   "mimetype": "text/x-python",
   "name": "python",
   "nbconvert_exporter": "python",
   "pygments_lexer": "ipython3",
   "version": "3.9.16"
  },
  "orig_nbformat": 4,
  "vscode": {
   "interpreter": {
    "hash": "5b47eeb5194eaaa0b12f9b78d7e36d989fe62b7d1e39885528eb5275de66bac1"
   }
  }
 },
 "nbformat": 4,
 "nbformat_minor": 2
}
