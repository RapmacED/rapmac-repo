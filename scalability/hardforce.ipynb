{
 "cells": [
  {
   "cell_type": "code",
   "execution_count": 3,
   "metadata": {},
   "outputs": [],
   "source": [
    "from time import sleep\n",
    "from selenium import webdriver\n",
    "from selenium.webdriver.common.keys import Keys\n",
    "from selenium.webdriver.common.by import By\n",
    "from selenium.common.exceptions import NoSuchElementException\n",
    "import pandas as pd\n",
    "import numpy as np\n",
    "import pydeck as pdk\n",
    "import streamlit as st"
   ]
  },
  {
   "cell_type": "code",
   "execution_count": 6,
   "metadata": {},
   "outputs": [
    {
     "ename": "AttributeError",
     "evalue": "'xml.etree.ElementTree.Element' object has no attribute 'State'",
     "output_type": "error",
     "traceback": [
      "\u001b[0;31m---------------------------------------------------------------------------\u001b[0m",
      "\u001b[0;31mAttributeError\u001b[0m                            Traceback (most recent call last)",
      "Cell \u001b[0;32mIn[6], line 22\u001b[0m\n\u001b[1;32m     15\u001b[0m \u001b[39mif\u001b[39;00m \u001b[39m__name__\u001b[39m \u001b[39m==\u001b[39m \u001b[39m\"\u001b[39m\u001b[39m__main__\u001b[39m\u001b[39m\"\u001b[39m:\n\u001b[1;32m     16\u001b[0m     xml \u001b[39m=\u001b[39m \\\n\u001b[1;32m     17\u001b[0m         \u001b[39m\"\u001b[39m\u001b[39m<?xml version=\u001b[39m\u001b[39m\\\"\u001b[39;00m\u001b[39m1.0\u001b[39m\u001b[39m\\\"\u001b[39;00m\u001b[39m encoding=\u001b[39m\u001b[39m\\\"\u001b[39;00m\u001b[39mUTF-8\u001b[39m\u001b[39m\\\"\u001b[39;00m\u001b[39m?>\u001b[39m\u001b[39m\"\u001b[39m \u001b[39m+\u001b[39m \\\n\u001b[1;32m     18\u001b[0m         \u001b[39m\"\u001b[39m\u001b[39m<State>\u001b[39m\u001b[39m\"\u001b[39m \u001b[39m+\u001b[39m \\\n\u001b[1;32m     19\u001b[0m         \u001b[39m\"\u001b[39m\u001b[39m<City>New York</City>\u001b[39m\u001b[39m\"\u001b[39m \u001b[39m+\u001b[39m \\\n\u001b[1;32m     20\u001b[0m         \u001b[39m\"\u001b[39m\u001b[39m</State>\u001b[39m\u001b[39m\"\u001b[39m\n\u001b[0;32m---> 22\u001b[0m     xmlObj \u001b[39m=\u001b[39m XmlNavigator(xml)\n\u001b[1;32m     23\u001b[0m     doc \u001b[39m=\u001b[39m ET\u001b[39m.\u001b[39mfromstring(xml)\n\u001b[1;32m     24\u001b[0m     \u001b[39mprint\u001b[39m(doc\u001b[39m.\u001b[39mgetroot())\n",
      "Cell \u001b[0;32mIn[6], line 11\u001b[0m, in \u001b[0;36mXmlNavigator.__init__\u001b[0;34m(self, xml)\u001b[0m\n\u001b[1;32m      9\u001b[0m xml \u001b[39m=\u001b[39m XmlNavigator()\n\u001b[1;32m     10\u001b[0m xml\u001b[39m.\u001b[39mtext \u001b[39m=\u001b[39m doc\u001b[39m.\u001b[39mtext\n\u001b[0;32m---> 11\u001b[0m xml\u001b[39m.\u001b[39mtag \u001b[39m=\u001b[39m doc\u001b[39m.\u001b[39;49mState\n\u001b[1;32m     12\u001b[0m \u001b[39mprint\u001b[39m(doc\u001b[39m.\u001b[39mtag)\n\u001b[1;32m     13\u001b[0m \u001b[39msetattr\u001b[39m(\u001b[39mself\u001b[39m, doc\u001b[39m.\u001b[39mtag, xml)\n",
      "\u001b[0;31mAttributeError\u001b[0m: 'xml.etree.ElementTree.Element' object has no attribute 'State'"
     ]
    }
   ],
   "source": [
    "import xml.etree.ElementTree as ET \n",
    "\n",
    "class XmlNavigator:\n",
    "    def __init__(self, xml = None):\n",
    "        self.text = \"\"\n",
    "        if xml is not None:\n",
    "            doc = ET.fromstring(xml)\n",
    "            self.text = ET.tostring(doc).decode('ascii')\n",
    "            xml = XmlNavigator()\n",
    "            xml.text = doc.text\n",
    "            xml.tag = doc.State\n",
    "            setattr(self, doc.tag, xml)\n",
    "    \n",
    "if __name__ == \"__main__\":\n",
    "    xml = \\\n",
    "        \"<?xml version=\\\"1.0\\\" encoding=\\\"UTF-8\\\"?>\" + \\\n",
    "        \"<State>\" + \\\n",
    "        \"<City>New York</City>\" + \\\n",
    "        \"</State>\"\n",
    "    \n",
    "    xmlObj = XmlNavigator(xml)\n",
    "    doc = ET.fromstring(xml)\n",
    "    print(doc.getroot())\n",
    "    print(xmlObj.text)\n",
    "    print(xmlObj.State.text if hasattr(xmlObj, \"State\") \\\n",
    "        and xmlObj.State.text else None)\n",
    "    print(xmlObj.State.City.text if hasattr(xmlObj, \"State\") \\\n",
    "        and hasattr(xmlObj.State, \"City\") and xmlObj.State.City.text else None)"
   ]
  },
  {
   "cell_type": "code",
   "execution_count": 4,
   "metadata": {},
   "outputs": [
    {
     "name": "stderr",
     "output_type": "stream",
     "text": [
      "2023-01-31 16:00:45.986 \n",
      "  \u001b[33m\u001b[1mWarning:\u001b[0m to view this Streamlit app on a browser, run it with the following\n",
      "  command:\n",
      "\n",
      "    streamlit run /Users/raph/Documents/rapmac-repo/.virtualenvs/hardforce/lib/python3.9/site-packages/ipykernel_launcher.py [ARGUMENTS]\n"
     ]
    },
    {
     "data": {
      "text/plain": [
       "DeltaGenerator(_root_container=0, _provided_cursor=None, _parent=None, _block_type=None, _form_data=None)"
      ]
     },
     "execution_count": 4,
     "metadata": {},
     "output_type": "execute_result"
    }
   ],
   "source": [
    "options = webdriver.ChromeOptions()\n",
    "options.add_argument('--ignore-ssl-errors=yes')\n",
    "options.add_argument('--ignore-certificate-errors')\n",
    "driver = webdriver.Remote(\n",
    "    command_executor='http://localhost:4444/wd/hub',\n",
    "    options = options\n",
    ")\n",
    "sleep(5)\n",
    "st.title('Scalability Hard Force platform')"
   ]
  },
  {
   "cell_type": "code",
   "execution_count": 5,
   "metadata": {},
   "outputs": [
    {
     "data": {
      "text/plain": [
       "DeltaGenerator(_root_container=0, _provided_cursor=None, _parent=None, _block_type=None, _form_data=None)"
      ]
     },
     "execution_count": 5,
     "metadata": {},
     "output_type": "execute_result"
    }
   ],
   "source": [
    "#Zelty\n",
    "def check_exists_by_xpath(xpath):\n",
    "    try:\n",
    "        driver.find_element(By.XPATH,xpath)\n",
    "    except NoSuchElementException:\n",
    "        return False\n",
    "    return True\n",
    "emailZelty = st.text_input('Email adress', 'tartampion@lesgoudes.om')\n",
    "launchZelty = st.button('Test this adress on Zelty')\n",
    "zeltyState = \"\"\n",
    "if(launchZelty == True):\n",
    "    #driver.get('https://google.com')\n",
    "    driver.get(\"https://bo.zelty.fr/mot-de-passe-oublie\")\n",
    "    sleep(5)\n",
    "    login = driver.find_element(By.XPATH,\"/html/body/div/form/div[1]/input\").send_keys(emailZelty)\n",
    "    sleep(2)\n",
    "    #password = driver.find_element(By.XPATH,\"//*[@id=\"loginform\"]/form/div[1]/input\").send_keys(\"password\")\n",
    "    #sleep(2)\n",
    "    submit = driver.find_element(By.XPATH,\"/html/body/div/form/div[2]/input\").click()\n",
    "    if(check_exists_by_xpath(\"/html/body/div/p[1]\") == True):\n",
    "        if(driver.find_element(By.XPATH,\"/html/body/div/p[1]\").text == \"Cette adresse email n'existe pas dans notre système.\"):\n",
    "            zeltyState = 'Cette adresse n\\'est pas reliée à Zelty'\n",
    "\n",
    "st.title(zeltyState)\n"
   ]
  },
  {
   "cell_type": "code",
   "execution_count": null,
   "metadata": {},
   "outputs": [],
   "source": [
    "driver.close()\n",
    "driver.quit()"
   ]
  }
 ],
 "metadata": {
  "kernelspec": {
   "display_name": "hardforce",
   "language": "python",
   "name": "python3"
  },
  "language_info": {
   "codemirror_mode": {
    "name": "ipython",
    "version": 3
   },
   "file_extension": ".py",
   "mimetype": "text/x-python",
   "name": "python",
   "nbconvert_exporter": "python",
   "pygments_lexer": "ipython3",
   "version": "3.9.16"
  },
  "orig_nbformat": 4,
  "vscode": {
   "interpreter": {
    "hash": "5b47eeb5194eaaa0b12f9b78d7e36d989fe62b7d1e39885528eb5275de66bac1"
   }
  }
 },
 "nbformat": 4,
 "nbformat_minor": 2
}
