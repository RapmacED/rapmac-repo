{
 "cells": [
  {
   "cell_type": "code",
   "execution_count": 1,
   "metadata": {},
   "outputs": [],
   "source": [
    "from time import sleep\n",
    "from selenium import webdriver\n",
    "from selenium.webdriver.common.keys import Keys\n",
    "from selenium.webdriver.common.by import By\n",
    "from selenium.common.exceptions import NoSuchElementException\n",
    "import pandas as pd\n",
    "import numpy as np\n",
    "from selenium.webdriver.common.desired_capabilities import DesiredCapabilities\n",
    "import datetime;\n"
   ]
  },
  {
   "cell_type": "code",
   "execution_count": 2,
   "metadata": {},
   "outputs": [],
   "source": [
    "def check_exists_by_xpath(xpath,driver):\n",
    "    try:\n",
    "        driver.find_element(By.XPATH,xpath)\n",
    "    except NoSuchElementException:\n",
    "        return False\n",
    "    return True\n",
    "\n",
    "def get_domain(email):\n",
    "    # Split email into username and domain parts\n",
    "    username, domain = email.split('@')\n",
    "    # Return the domain part of the email\n",
    "    return domain"
   ]
  },
  {
   "cell_type": "code",
   "execution_count": 3,
   "metadata": {},
   "outputs": [
    {
     "name": "stdout",
     "output_type": "stream",
     "text": [
      "Entrer une adresse e-mail\n",
      "Nous ne trouvons pas d'utilisateur avec cette adresse email.\n",
      "Entrer une adresse e-mail\n",
      "Nous ne trouvons pas d'utilisateur avec cette adresse email.\n"
     ]
    }
   ],
   "source": [
    "df = pd.read_csv('emailList.csv', sep=';')\n",
    "options = webdriver.FirefoxOptions()\n",
    "result = []\n",
    "domain = []\n",
    "tool = 'onepilot'\n",
    "tools=[]\n",
    "for i in df['email']:\n",
    "    driver = webdriver.Firefox(\n",
    "    options = options\n",
    "    )\n",
    "    driver.get('https://app.onepilot.co/password/reset')\n",
    "    login = driver.find_element(By.XPATH,\"/html/body/div[2]/div/div[2]/div/div[1]/div/div[2]/form/div[3]/input\")\n",
    "    login.click()\n",
    "    login.clear()\n",
    "    login.send_keys(i)\n",
    "    print(driver.find_element(By.XPATH,\"/html/body/div[2]/div/div[2]/div/div[1]/div/div[2]/form/div[3]/input\").get_attribute('placeholder'))\n",
    "    submit = driver.find_element(By.XPATH,\"/html/body/div[2]/div/div[2]/div/div[1]/div/div[2]/form/div[4]/button\").click()\n",
    "    if check_exists_by_xpath(\"/html/body/div[2]/div/div[2]/div/div[1]/div/div[2]/form/div[3]/span[1]/strong\",driver):\n",
    "        message = driver.find_element(By.XPATH,\"/html/body/div[2]/div/div[2]/div/div[1]/div/div[2]/form/div[3]/span[1]/strong\").text\n",
    "        print(message)\n",
    "        if message == 'Nous ne trouvons pas d\\'utilisateur avec cette adresse email.':\n",
    "            result.append('False')\n",
    "        else:\n",
    "            result.append('True')\n",
    "    else:\n",
    "        result.append('True')\n",
    "    driver.quit()\n",
    "    domain.append(get_domain(i))\n",
    "    tools.append(tool)\n",
    "df['tool']=tools\n",
    "df['tool_result']=result\n",
    "date = []\n",
    "time = datetime.datetime.now()\n",
    "for i in df['email']:\n",
    "    date.append(time)\n",
    "df['date']=date\n",
    "df.to_csv('onepilot_result.csv',index=False)\n"
   ]
  },
  {
   "cell_type": "code",
   "execution_count": null,
   "metadata": {},
   "outputs": [],
   "source": []
  }
 ],
 "metadata": {
  "kernelspec": {
   "display_name": "hardforce",
   "language": "python",
   "name": "python3"
  },
  "language_info": {
   "codemirror_mode": {
    "name": "ipython",
    "version": 3
   },
   "file_extension": ".py",
   "mimetype": "text/x-python",
   "name": "python",
   "nbconvert_exporter": "python",
   "pygments_lexer": "ipython3",
   "version": "3.9.16"
  },
  "orig_nbformat": 4,
  "vscode": {
   "interpreter": {
    "hash": "5b47eeb5194eaaa0b12f9b78d7e36d989fe62b7d1e39885528eb5275de66bac1"
   }
  }
 },
 "nbformat": 4,
 "nbformat_minor": 2
}
