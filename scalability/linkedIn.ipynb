{
 "cells": [
  {
   "cell_type": "code",
   "execution_count": 1,
   "metadata": {},
   "outputs": [],
   "source": [
    "import time\n",
    "from selenium import webdriver\n",
    "from selenium.webdriver.common.keys import Keys\n",
    "from selenium.webdriver.common.by import By\n",
    "from selenium.common.exceptions import NoSuchElementException\n",
    "import pandas as pd\n",
    "import pydeck as pdk\n",
    "import streamlit as st"
   ]
  },
  {
   "cell_type": "code",
   "execution_count": 3,
   "metadata": {},
   "outputs": [],
   "source": [
    "df=pd.read_csv('/Users/raph/Documents/Dataship_Code/urlsLinkedin.csv',sep='\\t')\n",
    "df = df.head(5)\n",
    "\n"
   ]
  },
  {
   "cell_type": "code",
   "execution_count": 31,
   "metadata": {},
   "outputs": [
    {
     "name": "stdout",
     "output_type": "stream",
     "text": [
      "https://www.linkedin.com/in/cyraelle-dupont-3735b7156/\n",
      "https://www.linkedin.com/in/patrick-faure-6bba23205/\n",
      "https://www.linkedin.com/in/gabriel-bonnin-90712947/\n",
      "https://www.linkedin.com/in/jimmy-clain-2441a1a8/\n",
      "https://www.linkedin.com/in/jean-luc-weber-4b6441b4/\n"
     ]
    }
   ],
   "source": [
    "options = webdriver.FirefoxOptions()\n",
    "options.add_argument('--ignore-ssl-errors=yes')\n",
    "options.add_argument('--ignore-certificate-errors')\n",
    "poste = []\n",
    "for i in df['new']:\n",
    "    driver = webdriver.Remote(\n",
    "        command_executor='http://165.227.169.86:4444/wd/hub',\n",
    "        options = options\n",
    "    )\n",
    "    print(i)\n",
    "    driver.get(i)\n",
    "    #poste.append(driver.find_element(By.XPATH,'/html/head/meta[20]'))\n",
    "    time.sleep(3)\n",
    "    poste.append(driver.page_source)\n",
    "    #driver.find_element(By.CLASS_NAME,'modal__dismiss btn-tertiary h-[40px] w-[40px] p-0 rounded-full indent-0 contextual-sign-in-modal__modal-dismiss absolute right-0 m-[20px] cursor-pointer').click()\n",
    "    driver.quit()"
   ]
  },
  {
   "cell_type": "code",
   "execution_count": 32,
   "metadata": {},
   "outputs": [],
   "source": [
    "df['poste']=poste"
   ]
  },
  {
   "cell_type": "code",
   "execution_count": 33,
   "metadata": {},
   "outputs": [],
   "source": [
    "df.to_csv('results.csv', index=False, sep=';')"
   ]
  },
  {
   "cell_type": "code",
   "execution_count": 30,
   "metadata": {},
   "outputs": [],
   "source": [
    "driver.quit()"
   ]
  },
  {
   "cell_type": "code",
   "execution_count": 98,
   "metadata": {},
   "outputs": [
    {
     "name": "stdout",
     "output_type": "stream",
     "text": [
      "On a converti 5 urls\n",
      "On a converti 10 urls\n"
     ]
    },
    {
     "ename": "KeyboardInterrupt",
     "evalue": "",
     "output_type": "error",
     "traceback": [
      "\u001b[0;31m---------------------------------------------------------------------------\u001b[0m",
      "\u001b[0;31mKeyboardInterrupt\u001b[0m                         Traceback (most recent call last)",
      "Cell \u001b[0;32mIn[98], line 22\u001b[0m\n\u001b[1;32m     20\u001b[0m \u001b[39mfor\u001b[39;00m i \u001b[39min\u001b[39;00m df[\u001b[39m'\u001b[39m\u001b[39mlinkedin_url\u001b[39m\u001b[39m'\u001b[39m]:\n\u001b[1;32m     21\u001b[0m     driver\u001b[39m.\u001b[39mget(\u001b[39m'\u001b[39m\u001b[39mhttp://\u001b[39m\u001b[39m'\u001b[39m\u001b[39m+\u001b[39mi)\n\u001b[0;32m---> 22\u001b[0m     time\u001b[39m.\u001b[39;49msleep(\u001b[39m3\u001b[39;49m)\n\u001b[1;32m     23\u001b[0m     url_converted\u001b[39m.\u001b[39mappend(driver\u001b[39m.\u001b[39mcurrent_url)\n\u001b[1;32m     24\u001b[0m     count\u001b[39m+\u001b[39m\u001b[39m=\u001b[39m\u001b[39m1\u001b[39m\n",
      "\u001b[0;31mKeyboardInterrupt\u001b[0m: "
     ]
    }
   ],
   "source": [
    "options = webdriver.FirefoxOptions()\n",
    "options.add_argument('--ignore-ssl-errors=yes')\n",
    "options.add_argument('--ignore-certificate-errors')\n",
    "driver = webdriver.Remote(\n",
    "    command_executor='http://165.227.169.86:4444/wd/hub',\n",
    "    options = options\n",
    ")\n",
    "driver.get(\"https://www.linkedin.com/uas/login\")\n",
    "df = pd.read_csv('/Users/raph/Documents/Dataship_Code/(Yelda) Agro feb 23 - Url to convert-2.csv', sep=',')\n",
    "df.head(10)\n",
    "usernameLinkedIn = 'victor.alexandrian@gmail.com'\n",
    "passwordLinkedIn = 'Chatenet5!'\n",
    "login = driver.find_element(By.XPATH,\"/html/body/div/main/div[3]/div[1]/form/div[1]/input\").send_keys(usernameLinkedIn)\n",
    "password = driver.find_element(By.XPATH,\"/html/body/div/main/div[3]/div[1]/form/div[2]/input\").send_keys(passwordLinkedIn)\n",
    "login = driver.find_element(By.XPATH,\"/html/body/div/main/div[3]/div[1]/form/div[3]/button\").click()\n",
    "#driver.get(df['profile_url'][0])\n",
    "#driver.get(df['profile_url'][0])\n",
    "urls = []\n",
    "url_converted=[]\n",
    "count=0\n",
    "for i in df['linkedin_url']:\n",
    "    driver.get('http://'+i)\n",
    "    urls.append('http://'+i)\n",
    "    time.sleep(3)\n",
    "    url_converted.append(driver.current_url)\n",
    "    count+=1\n",
    "    if count%5==0:\n",
    "        driver.quit()\n",
    "        time.sleep(10)\n",
    "        options = webdriver.FirefoxOptions()\n",
    "        options.add_argument('--ignore-ssl-errors=yes')\n",
    "        options.add_argument('--ignore-certificate-errors')\n",
    "        driver = webdriver.Remote(\n",
    "            command_executor='http://165.227.169.86:4444/wd/hub',\n",
    "            options = options\n",
    "        )\n",
    "        driver.get(\"https://www.linkedin.com/uas/login\")\n",
    "        login = driver.find_element(By.XPATH,\"/html/body/div/main/div[3]/div[1]/form/div[1]/input\").send_keys(usernameLinkedIn)\n",
    "        password = driver.find_element(By.XPATH,\"/html/body/div/main/div[3]/div[1]/form/div[2]/input\").send_keys(passwordLinkedIn)\n",
    "        submit = driver.find_element(By.XPATH,\"/html/body/div/main/div[3]/div[1]/form/div[3]/button\").click()\n",
    "        print('On a converti '+str(count)+' urls')\n",
    "\n"
   ]
  },
  {
   "cell_type": "code",
   "execution_count": 99,
   "metadata": {},
   "outputs": [
    {
     "name": "stdout",
     "output_type": "stream",
     "text": [
      "['https://www.linkedin.com/in/cyraelle-dupont-3735b7156/', 'https://www.linkedin.com/in/patrick-faure-6bba23205/', 'https://www.linkedin.com/in/gabriel-bonnin-90712947/', 'https://www.linkedin.com/in/jimmy-clain-2441a1a8/', 'https://www.linkedin.com/in/jean-luc-weber-4b6441b4/', 'https://www.linkedin.com/in/pierre-jacquesson-9b03a3257/', 'https://www.linkedin.com/in/roger-catala-9261b059/', 'https://www.linkedin.com/in/saucisse-pig-635263226/', 'https://www.linkedin.com/in/ACwAAD5-qGEBGMT39Uy6gdqFXn37U1wZHKaVPi4/', 'https://www.linkedin.com/in/yann-renouvel-117aa756/', 'https://www.linkedin.com/in/solange-amboulou-541814201/']\n"
     ]
    }
   ],
   "source": [
    "print(url_converted)"
   ]
  },
  {
   "cell_type": "code",
   "execution_count": 80,
   "metadata": {},
   "outputs": [
    {
     "ename": "KeyboardInterrupt",
     "evalue": "",
     "output_type": "error",
     "traceback": [
      "\u001b[0;31m---------------------------------------------------------------------------\u001b[0m",
      "\u001b[0;31mKeyboardInterrupt\u001b[0m                         Traceback (most recent call last)",
      "Cell \u001b[0;32mIn[80], line 2\u001b[0m\n\u001b[1;32m      1\u001b[0m \u001b[39mfor\u001b[39;00m i \u001b[39min\u001b[39;00m df[\u001b[39m'\u001b[39m\u001b[39mlinkedin_url\u001b[39m\u001b[39m'\u001b[39m]:\n\u001b[0;32m----> 2\u001b[0m     driver\u001b[39m.\u001b[39;49mget(\u001b[39m'\u001b[39;49m\u001b[39mhttp://\u001b[39;49m\u001b[39m'\u001b[39;49m\u001b[39m+\u001b[39;49mi)\n\u001b[1;32m      3\u001b[0m     time\u001b[39m.\u001b[39msleep(\u001b[39m3\u001b[39m)\n\u001b[1;32m      4\u001b[0m     url_converted\u001b[39m.\u001b[39mappend(driver\u001b[39m.\u001b[39mcurrent_url)\n",
      "File \u001b[0;32m~/Documents/rapmac-repo/.virtualenvs/scalability/lib/python3.9/site-packages/selenium/webdriver/remote/webdriver.py:449\u001b[0m, in \u001b[0;36mWebDriver.get\u001b[0;34m(self, url)\u001b[0m\n\u001b[1;32m    447\u001b[0m \u001b[39mdef\u001b[39;00m \u001b[39mget\u001b[39m(\u001b[39mself\u001b[39m, url: \u001b[39mstr\u001b[39m) \u001b[39m-\u001b[39m\u001b[39m>\u001b[39m \u001b[39mNone\u001b[39;00m:\n\u001b[1;32m    448\u001b[0m \u001b[39m    \u001b[39m\u001b[39m\"\"\"Loads a web page in the current browser session.\"\"\"\u001b[39;00m\n\u001b[0;32m--> 449\u001b[0m     \u001b[39mself\u001b[39;49m\u001b[39m.\u001b[39;49mexecute(Command\u001b[39m.\u001b[39;49mGET, {\u001b[39m\"\u001b[39;49m\u001b[39murl\u001b[39;49m\u001b[39m\"\u001b[39;49m: url})\n",
      "File \u001b[0;32m~/Documents/rapmac-repo/.virtualenvs/scalability/lib/python3.9/site-packages/selenium/webdriver/remote/webdriver.py:438\u001b[0m, in \u001b[0;36mWebDriver.execute\u001b[0;34m(self, driver_command, params)\u001b[0m\n\u001b[1;32m    435\u001b[0m     \u001b[39melif\u001b[39;00m \u001b[39m\"\u001b[39m\u001b[39msessionId\u001b[39m\u001b[39m\"\u001b[39m \u001b[39mnot\u001b[39;00m \u001b[39min\u001b[39;00m params:\n\u001b[1;32m    436\u001b[0m         params[\u001b[39m\"\u001b[39m\u001b[39msessionId\u001b[39m\u001b[39m\"\u001b[39m] \u001b[39m=\u001b[39m \u001b[39mself\u001b[39m\u001b[39m.\u001b[39msession_id\n\u001b[0;32m--> 438\u001b[0m response \u001b[39m=\u001b[39m \u001b[39mself\u001b[39;49m\u001b[39m.\u001b[39;49mcommand_executor\u001b[39m.\u001b[39;49mexecute(driver_command, params)\n\u001b[1;32m    439\u001b[0m \u001b[39mif\u001b[39;00m response:\n\u001b[1;32m    440\u001b[0m     \u001b[39mself\u001b[39m\u001b[39m.\u001b[39merror_handler\u001b[39m.\u001b[39mcheck_response(response)\n",
      "File \u001b[0;32m~/Documents/rapmac-repo/.virtualenvs/scalability/lib/python3.9/site-packages/selenium/webdriver/remote/remote_connection.py:290\u001b[0m, in \u001b[0;36mRemoteConnection.execute\u001b[0;34m(self, command, params)\u001b[0m\n\u001b[1;32m    288\u001b[0m data \u001b[39m=\u001b[39m utils\u001b[39m.\u001b[39mdump_json(params)\n\u001b[1;32m    289\u001b[0m url \u001b[39m=\u001b[39m \u001b[39mf\u001b[39m\u001b[39m\"\u001b[39m\u001b[39m{\u001b[39;00m\u001b[39mself\u001b[39m\u001b[39m.\u001b[39m_url\u001b[39m}\u001b[39;00m\u001b[39m{\u001b[39;00mpath\u001b[39m}\u001b[39;00m\u001b[39m\"\u001b[39m\n\u001b[0;32m--> 290\u001b[0m \u001b[39mreturn\u001b[39;00m \u001b[39mself\u001b[39;49m\u001b[39m.\u001b[39;49m_request(command_info[\u001b[39m0\u001b[39;49m], url, body\u001b[39m=\u001b[39;49mdata)\n",
      "File \u001b[0;32m~/Documents/rapmac-repo/.virtualenvs/scalability/lib/python3.9/site-packages/selenium/webdriver/remote/remote_connection.py:311\u001b[0m, in \u001b[0;36mRemoteConnection._request\u001b[0;34m(self, method, url, body)\u001b[0m\n\u001b[1;32m    308\u001b[0m     body \u001b[39m=\u001b[39m \u001b[39mNone\u001b[39;00m\n\u001b[1;32m    310\u001b[0m \u001b[39mif\u001b[39;00m \u001b[39mself\u001b[39m\u001b[39m.\u001b[39mkeep_alive:\n\u001b[0;32m--> 311\u001b[0m     response \u001b[39m=\u001b[39m \u001b[39mself\u001b[39;49m\u001b[39m.\u001b[39;49m_conn\u001b[39m.\u001b[39;49mrequest(method, url, body\u001b[39m=\u001b[39;49mbody, headers\u001b[39m=\u001b[39;49mheaders)\n\u001b[1;32m    312\u001b[0m     statuscode \u001b[39m=\u001b[39m response\u001b[39m.\u001b[39mstatus\n\u001b[1;32m    313\u001b[0m \u001b[39melse\u001b[39;00m:\n",
      "File \u001b[0;32m~/Documents/rapmac-repo/.virtualenvs/scalability/lib/python3.9/site-packages/urllib3/request.py:78\u001b[0m, in \u001b[0;36mRequestMethods.request\u001b[0;34m(self, method, url, fields, headers, **urlopen_kw)\u001b[0m\n\u001b[1;32m     74\u001b[0m     \u001b[39mreturn\u001b[39;00m \u001b[39mself\u001b[39m\u001b[39m.\u001b[39mrequest_encode_url(\n\u001b[1;32m     75\u001b[0m         method, url, fields\u001b[39m=\u001b[39mfields, headers\u001b[39m=\u001b[39mheaders, \u001b[39m*\u001b[39m\u001b[39m*\u001b[39murlopen_kw\n\u001b[1;32m     76\u001b[0m     )\n\u001b[1;32m     77\u001b[0m \u001b[39melse\u001b[39;00m:\n\u001b[0;32m---> 78\u001b[0m     \u001b[39mreturn\u001b[39;00m \u001b[39mself\u001b[39;49m\u001b[39m.\u001b[39;49mrequest_encode_body(\n\u001b[1;32m     79\u001b[0m         method, url, fields\u001b[39m=\u001b[39;49mfields, headers\u001b[39m=\u001b[39;49mheaders, \u001b[39m*\u001b[39;49m\u001b[39m*\u001b[39;49murlopen_kw\n\u001b[1;32m     80\u001b[0m     )\n",
      "File \u001b[0;32m~/Documents/rapmac-repo/.virtualenvs/scalability/lib/python3.9/site-packages/urllib3/request.py:170\u001b[0m, in \u001b[0;36mRequestMethods.request_encode_body\u001b[0;34m(self, method, url, fields, headers, encode_multipart, multipart_boundary, **urlopen_kw)\u001b[0m\n\u001b[1;32m    167\u001b[0m extra_kw[\u001b[39m\"\u001b[39m\u001b[39mheaders\u001b[39m\u001b[39m\"\u001b[39m]\u001b[39m.\u001b[39mupdate(headers)\n\u001b[1;32m    168\u001b[0m extra_kw\u001b[39m.\u001b[39mupdate(urlopen_kw)\n\u001b[0;32m--> 170\u001b[0m \u001b[39mreturn\u001b[39;00m \u001b[39mself\u001b[39;49m\u001b[39m.\u001b[39;49murlopen(method, url, \u001b[39m*\u001b[39;49m\u001b[39m*\u001b[39;49mextra_kw)\n",
      "File \u001b[0;32m~/Documents/rapmac-repo/.virtualenvs/scalability/lib/python3.9/site-packages/urllib3/poolmanager.py:376\u001b[0m, in \u001b[0;36mPoolManager.urlopen\u001b[0;34m(self, method, url, redirect, **kw)\u001b[0m\n\u001b[1;32m    374\u001b[0m     response \u001b[39m=\u001b[39m conn\u001b[39m.\u001b[39murlopen(method, url, \u001b[39m*\u001b[39m\u001b[39m*\u001b[39mkw)\n\u001b[1;32m    375\u001b[0m \u001b[39melse\u001b[39;00m:\n\u001b[0;32m--> 376\u001b[0m     response \u001b[39m=\u001b[39m conn\u001b[39m.\u001b[39;49murlopen(method, u\u001b[39m.\u001b[39;49mrequest_uri, \u001b[39m*\u001b[39;49m\u001b[39m*\u001b[39;49mkw)\n\u001b[1;32m    378\u001b[0m redirect_location \u001b[39m=\u001b[39m redirect \u001b[39mand\u001b[39;00m response\u001b[39m.\u001b[39mget_redirect_location()\n\u001b[1;32m    379\u001b[0m \u001b[39mif\u001b[39;00m \u001b[39mnot\u001b[39;00m redirect_location:\n",
      "File \u001b[0;32m~/Documents/rapmac-repo/.virtualenvs/scalability/lib/python3.9/site-packages/urllib3/connectionpool.py:703\u001b[0m, in \u001b[0;36mHTTPConnectionPool.urlopen\u001b[0;34m(self, method, url, body, headers, retries, redirect, assert_same_host, timeout, pool_timeout, release_conn, chunked, body_pos, **response_kw)\u001b[0m\n\u001b[1;32m    700\u001b[0m     \u001b[39mself\u001b[39m\u001b[39m.\u001b[39m_prepare_proxy(conn)\n\u001b[1;32m    702\u001b[0m \u001b[39m# Make the request on the httplib connection object.\u001b[39;00m\n\u001b[0;32m--> 703\u001b[0m httplib_response \u001b[39m=\u001b[39m \u001b[39mself\u001b[39;49m\u001b[39m.\u001b[39;49m_make_request(\n\u001b[1;32m    704\u001b[0m     conn,\n\u001b[1;32m    705\u001b[0m     method,\n\u001b[1;32m    706\u001b[0m     url,\n\u001b[1;32m    707\u001b[0m     timeout\u001b[39m=\u001b[39;49mtimeout_obj,\n\u001b[1;32m    708\u001b[0m     body\u001b[39m=\u001b[39;49mbody,\n\u001b[1;32m    709\u001b[0m     headers\u001b[39m=\u001b[39;49mheaders,\n\u001b[1;32m    710\u001b[0m     chunked\u001b[39m=\u001b[39;49mchunked,\n\u001b[1;32m    711\u001b[0m )\n\u001b[1;32m    713\u001b[0m \u001b[39m# If we're going to release the connection in ``finally:``, then\u001b[39;00m\n\u001b[1;32m    714\u001b[0m \u001b[39m# the response doesn't need to know about the connection. Otherwise\u001b[39;00m\n\u001b[1;32m    715\u001b[0m \u001b[39m# it will also try to release it and we'll have a double-release\u001b[39;00m\n\u001b[1;32m    716\u001b[0m \u001b[39m# mess.\u001b[39;00m\n\u001b[1;32m    717\u001b[0m response_conn \u001b[39m=\u001b[39m conn \u001b[39mif\u001b[39;00m \u001b[39mnot\u001b[39;00m release_conn \u001b[39melse\u001b[39;00m \u001b[39mNone\u001b[39;00m\n",
      "File \u001b[0;32m~/Documents/rapmac-repo/.virtualenvs/scalability/lib/python3.9/site-packages/urllib3/connectionpool.py:449\u001b[0m, in \u001b[0;36mHTTPConnectionPool._make_request\u001b[0;34m(self, conn, method, url, timeout, chunked, **httplib_request_kw)\u001b[0m\n\u001b[1;32m    444\u001b[0m             httplib_response \u001b[39m=\u001b[39m conn\u001b[39m.\u001b[39mgetresponse()\n\u001b[1;32m    445\u001b[0m         \u001b[39mexcept\u001b[39;00m \u001b[39mBaseException\u001b[39;00m \u001b[39mas\u001b[39;00m e:\n\u001b[1;32m    446\u001b[0m             \u001b[39m# Remove the TypeError from the exception chain in\u001b[39;00m\n\u001b[1;32m    447\u001b[0m             \u001b[39m# Python 3 (including for exceptions like SystemExit).\u001b[39;00m\n\u001b[1;32m    448\u001b[0m             \u001b[39m# Otherwise it looks like a bug in the code.\u001b[39;00m\n\u001b[0;32m--> 449\u001b[0m             six\u001b[39m.\u001b[39;49mraise_from(e, \u001b[39mNone\u001b[39;49;00m)\n\u001b[1;32m    450\u001b[0m \u001b[39mexcept\u001b[39;00m (SocketTimeout, BaseSSLError, SocketError) \u001b[39mas\u001b[39;00m e:\n\u001b[1;32m    451\u001b[0m     \u001b[39mself\u001b[39m\u001b[39m.\u001b[39m_raise_timeout(err\u001b[39m=\u001b[39me, url\u001b[39m=\u001b[39murl, timeout_value\u001b[39m=\u001b[39mread_timeout)\n",
      "File \u001b[0;32m<string>:3\u001b[0m, in \u001b[0;36mraise_from\u001b[0;34m(value, from_value)\u001b[0m\n",
      "File \u001b[0;32m~/Documents/rapmac-repo/.virtualenvs/scalability/lib/python3.9/site-packages/urllib3/connectionpool.py:444\u001b[0m, in \u001b[0;36mHTTPConnectionPool._make_request\u001b[0;34m(self, conn, method, url, timeout, chunked, **httplib_request_kw)\u001b[0m\n\u001b[1;32m    441\u001b[0m \u001b[39mexcept\u001b[39;00m \u001b[39mTypeError\u001b[39;00m:\n\u001b[1;32m    442\u001b[0m     \u001b[39m# Python 3\u001b[39;00m\n\u001b[1;32m    443\u001b[0m     \u001b[39mtry\u001b[39;00m:\n\u001b[0;32m--> 444\u001b[0m         httplib_response \u001b[39m=\u001b[39m conn\u001b[39m.\u001b[39;49mgetresponse()\n\u001b[1;32m    445\u001b[0m     \u001b[39mexcept\u001b[39;00m \u001b[39mBaseException\u001b[39;00m \u001b[39mas\u001b[39;00m e:\n\u001b[1;32m    446\u001b[0m         \u001b[39m# Remove the TypeError from the exception chain in\u001b[39;00m\n\u001b[1;32m    447\u001b[0m         \u001b[39m# Python 3 (including for exceptions like SystemExit).\u001b[39;00m\n\u001b[1;32m    448\u001b[0m         \u001b[39m# Otherwise it looks like a bug in the code.\u001b[39;00m\n\u001b[1;32m    449\u001b[0m         six\u001b[39m.\u001b[39mraise_from(e, \u001b[39mNone\u001b[39;00m)\n",
      "File \u001b[0;32m/opt/homebrew/Cellar/python@3.9/3.9.16/Frameworks/Python.framework/Versions/3.9/lib/python3.9/http/client.py:1377\u001b[0m, in \u001b[0;36mHTTPConnection.getresponse\u001b[0;34m(self)\u001b[0m\n\u001b[1;32m   1375\u001b[0m \u001b[39mtry\u001b[39;00m:\n\u001b[1;32m   1376\u001b[0m     \u001b[39mtry\u001b[39;00m:\n\u001b[0;32m-> 1377\u001b[0m         response\u001b[39m.\u001b[39;49mbegin()\n\u001b[1;32m   1378\u001b[0m     \u001b[39mexcept\u001b[39;00m \u001b[39mConnectionError\u001b[39;00m:\n\u001b[1;32m   1379\u001b[0m         \u001b[39mself\u001b[39m\u001b[39m.\u001b[39mclose()\n",
      "File \u001b[0;32m/opt/homebrew/Cellar/python@3.9/3.9.16/Frameworks/Python.framework/Versions/3.9/lib/python3.9/http/client.py:320\u001b[0m, in \u001b[0;36mHTTPResponse.begin\u001b[0;34m(self)\u001b[0m\n\u001b[1;32m    318\u001b[0m \u001b[39m# read until we get a non-100 response\u001b[39;00m\n\u001b[1;32m    319\u001b[0m \u001b[39mwhile\u001b[39;00m \u001b[39mTrue\u001b[39;00m:\n\u001b[0;32m--> 320\u001b[0m     version, status, reason \u001b[39m=\u001b[39m \u001b[39mself\u001b[39;49m\u001b[39m.\u001b[39;49m_read_status()\n\u001b[1;32m    321\u001b[0m     \u001b[39mif\u001b[39;00m status \u001b[39m!=\u001b[39m CONTINUE:\n\u001b[1;32m    322\u001b[0m         \u001b[39mbreak\u001b[39;00m\n",
      "File \u001b[0;32m/opt/homebrew/Cellar/python@3.9/3.9.16/Frameworks/Python.framework/Versions/3.9/lib/python3.9/http/client.py:281\u001b[0m, in \u001b[0;36mHTTPResponse._read_status\u001b[0;34m(self)\u001b[0m\n\u001b[1;32m    280\u001b[0m \u001b[39mdef\u001b[39;00m \u001b[39m_read_status\u001b[39m(\u001b[39mself\u001b[39m):\n\u001b[0;32m--> 281\u001b[0m     line \u001b[39m=\u001b[39m \u001b[39mstr\u001b[39m(\u001b[39mself\u001b[39;49m\u001b[39m.\u001b[39;49mfp\u001b[39m.\u001b[39;49mreadline(_MAXLINE \u001b[39m+\u001b[39;49m \u001b[39m1\u001b[39;49m), \u001b[39m\"\u001b[39m\u001b[39miso-8859-1\u001b[39m\u001b[39m\"\u001b[39m)\n\u001b[1;32m    282\u001b[0m     \u001b[39mif\u001b[39;00m \u001b[39mlen\u001b[39m(line) \u001b[39m>\u001b[39m _MAXLINE:\n\u001b[1;32m    283\u001b[0m         \u001b[39mraise\u001b[39;00m LineTooLong(\u001b[39m\"\u001b[39m\u001b[39mstatus line\u001b[39m\u001b[39m\"\u001b[39m)\n",
      "File \u001b[0;32m/opt/homebrew/Cellar/python@3.9/3.9.16/Frameworks/Python.framework/Versions/3.9/lib/python3.9/socket.py:704\u001b[0m, in \u001b[0;36mSocketIO.readinto\u001b[0;34m(self, b)\u001b[0m\n\u001b[1;32m    702\u001b[0m \u001b[39mwhile\u001b[39;00m \u001b[39mTrue\u001b[39;00m:\n\u001b[1;32m    703\u001b[0m     \u001b[39mtry\u001b[39;00m:\n\u001b[0;32m--> 704\u001b[0m         \u001b[39mreturn\u001b[39;00m \u001b[39mself\u001b[39;49m\u001b[39m.\u001b[39;49m_sock\u001b[39m.\u001b[39;49mrecv_into(b)\n\u001b[1;32m    705\u001b[0m     \u001b[39mexcept\u001b[39;00m timeout:\n\u001b[1;32m    706\u001b[0m         \u001b[39mself\u001b[39m\u001b[39m.\u001b[39m_timeout_occurred \u001b[39m=\u001b[39m \u001b[39mTrue\u001b[39;00m\n",
      "\u001b[0;31mKeyboardInterrupt\u001b[0m: "
     ]
    }
   ],
   "source": [
    "for i in df['linkedin_url']:\n",
    "    driver.get('http://'+i)\n",
    "    time.sleep(3)\n",
    "    url_converted.append(driver.current_url)\n",
    "    count+=1\n",
    "    if count%5==0:\n",
    "        print('On a converti '+str(count)+' urls')\n",
    "\n"
   ]
  },
  {
   "cell_type": "code",
   "execution_count": 90,
   "metadata": {},
   "outputs": [
    {
     "ename": "KeyboardInterrupt",
     "evalue": "",
     "output_type": "error",
     "traceback": [
      "\u001b[0;31m---------------------------------------------------------------------------\u001b[0m",
      "\u001b[0;31mKeyboardInterrupt\u001b[0m                         Traceback (most recent call last)",
      "Cell \u001b[0;32mIn[90], line 9\u001b[0m\n\u001b[1;32m      7\u001b[0m count\u001b[39m=\u001b[39m\u001b[39m0\u001b[39m\n\u001b[1;32m      8\u001b[0m \u001b[39mfor\u001b[39;00m i \u001b[39min\u001b[39;00m df[\u001b[39m'\u001b[39m\u001b[39mlinkedin_url\u001b[39m\u001b[39m'\u001b[39m]:\n\u001b[0;32m----> 9\u001b[0m     driver \u001b[39m=\u001b[39m webdriver\u001b[39m.\u001b[39;49mRemote(\n\u001b[1;32m     10\u001b[0m         command_executor\u001b[39m=\u001b[39;49m\u001b[39m'\u001b[39;49m\u001b[39mhttp://165.227.169.86:4444/wd/hub\u001b[39;49m\u001b[39m'\u001b[39;49m,\n\u001b[1;32m     11\u001b[0m         options \u001b[39m=\u001b[39;49m options\n\u001b[1;32m     12\u001b[0m     )\n\u001b[1;32m     13\u001b[0m     driver\u001b[39m.\u001b[39mget(\u001b[39m\"\u001b[39m\u001b[39mhttps://www.linkedin.com/uas/login\u001b[39m\u001b[39m\"\u001b[39m)\n\u001b[1;32m     14\u001b[0m     driver\u001b[39m.\u001b[39mget(\u001b[39m'\u001b[39m\u001b[39mhttp://\u001b[39m\u001b[39m'\u001b[39m\u001b[39m+\u001b[39mi)\n",
      "File \u001b[0;32m~/Documents/rapmac-repo/.virtualenvs/scalability/lib/python3.9/site-packages/selenium/webdriver/remote/webdriver.py:286\u001b[0m, in \u001b[0;36mWebDriver.__init__\u001b[0;34m(self, command_executor, desired_capabilities, browser_profile, proxy, keep_alive, file_detector, options)\u001b[0m\n\u001b[1;32m    284\u001b[0m \u001b[39mself\u001b[39m\u001b[39m.\u001b[39m_authenticator_id \u001b[39m=\u001b[39m \u001b[39mNone\u001b[39;00m\n\u001b[1;32m    285\u001b[0m \u001b[39mself\u001b[39m\u001b[39m.\u001b[39mstart_client()\n\u001b[0;32m--> 286\u001b[0m \u001b[39mself\u001b[39;49m\u001b[39m.\u001b[39;49mstart_session(capabilities, browser_profile)\n",
      "File \u001b[0;32m~/Documents/rapmac-repo/.virtualenvs/scalability/lib/python3.9/site-packages/selenium/webdriver/remote/webdriver.py:378\u001b[0m, in \u001b[0;36mWebDriver.start_session\u001b[0;34m(self, capabilities, browser_profile)\u001b[0m\n\u001b[1;32m    376\u001b[0m w3c_caps \u001b[39m=\u001b[39m _make_w3c_caps(capabilities)\n\u001b[1;32m    377\u001b[0m parameters \u001b[39m=\u001b[39m {\u001b[39m\"\u001b[39m\u001b[39mcapabilities\u001b[39m\u001b[39m\"\u001b[39m: w3c_caps}\n\u001b[0;32m--> 378\u001b[0m response \u001b[39m=\u001b[39m \u001b[39mself\u001b[39;49m\u001b[39m.\u001b[39;49mexecute(Command\u001b[39m.\u001b[39;49mNEW_SESSION, parameters)\n\u001b[1;32m    379\u001b[0m \u001b[39mif\u001b[39;00m \u001b[39m\"\u001b[39m\u001b[39msessionId\u001b[39m\u001b[39m\"\u001b[39m \u001b[39mnot\u001b[39;00m \u001b[39min\u001b[39;00m response:\n\u001b[1;32m    380\u001b[0m     response \u001b[39m=\u001b[39m response[\u001b[39m\"\u001b[39m\u001b[39mvalue\u001b[39m\u001b[39m\"\u001b[39m]\n",
      "File \u001b[0;32m~/Documents/rapmac-repo/.virtualenvs/scalability/lib/python3.9/site-packages/selenium/webdriver/remote/webdriver.py:438\u001b[0m, in \u001b[0;36mWebDriver.execute\u001b[0;34m(self, driver_command, params)\u001b[0m\n\u001b[1;32m    435\u001b[0m     \u001b[39melif\u001b[39;00m \u001b[39m\"\u001b[39m\u001b[39msessionId\u001b[39m\u001b[39m\"\u001b[39m \u001b[39mnot\u001b[39;00m \u001b[39min\u001b[39;00m params:\n\u001b[1;32m    436\u001b[0m         params[\u001b[39m\"\u001b[39m\u001b[39msessionId\u001b[39m\u001b[39m\"\u001b[39m] \u001b[39m=\u001b[39m \u001b[39mself\u001b[39m\u001b[39m.\u001b[39msession_id\n\u001b[0;32m--> 438\u001b[0m response \u001b[39m=\u001b[39m \u001b[39mself\u001b[39;49m\u001b[39m.\u001b[39;49mcommand_executor\u001b[39m.\u001b[39;49mexecute(driver_command, params)\n\u001b[1;32m    439\u001b[0m \u001b[39mif\u001b[39;00m response:\n\u001b[1;32m    440\u001b[0m     \u001b[39mself\u001b[39m\u001b[39m.\u001b[39merror_handler\u001b[39m.\u001b[39mcheck_response(response)\n",
      "File \u001b[0;32m~/Documents/rapmac-repo/.virtualenvs/scalability/lib/python3.9/site-packages/selenium/webdriver/remote/remote_connection.py:290\u001b[0m, in \u001b[0;36mRemoteConnection.execute\u001b[0;34m(self, command, params)\u001b[0m\n\u001b[1;32m    288\u001b[0m data \u001b[39m=\u001b[39m utils\u001b[39m.\u001b[39mdump_json(params)\n\u001b[1;32m    289\u001b[0m url \u001b[39m=\u001b[39m \u001b[39mf\u001b[39m\u001b[39m\"\u001b[39m\u001b[39m{\u001b[39;00m\u001b[39mself\u001b[39m\u001b[39m.\u001b[39m_url\u001b[39m}\u001b[39;00m\u001b[39m{\u001b[39;00mpath\u001b[39m}\u001b[39;00m\u001b[39m\"\u001b[39m\n\u001b[0;32m--> 290\u001b[0m \u001b[39mreturn\u001b[39;00m \u001b[39mself\u001b[39;49m\u001b[39m.\u001b[39;49m_request(command_info[\u001b[39m0\u001b[39;49m], url, body\u001b[39m=\u001b[39;49mdata)\n",
      "File \u001b[0;32m~/Documents/rapmac-repo/.virtualenvs/scalability/lib/python3.9/site-packages/selenium/webdriver/remote/remote_connection.py:311\u001b[0m, in \u001b[0;36mRemoteConnection._request\u001b[0;34m(self, method, url, body)\u001b[0m\n\u001b[1;32m    308\u001b[0m     body \u001b[39m=\u001b[39m \u001b[39mNone\u001b[39;00m\n\u001b[1;32m    310\u001b[0m \u001b[39mif\u001b[39;00m \u001b[39mself\u001b[39m\u001b[39m.\u001b[39mkeep_alive:\n\u001b[0;32m--> 311\u001b[0m     response \u001b[39m=\u001b[39m \u001b[39mself\u001b[39;49m\u001b[39m.\u001b[39;49m_conn\u001b[39m.\u001b[39;49mrequest(method, url, body\u001b[39m=\u001b[39;49mbody, headers\u001b[39m=\u001b[39;49mheaders)\n\u001b[1;32m    312\u001b[0m     statuscode \u001b[39m=\u001b[39m response\u001b[39m.\u001b[39mstatus\n\u001b[1;32m    313\u001b[0m \u001b[39melse\u001b[39;00m:\n",
      "File \u001b[0;32m~/Documents/rapmac-repo/.virtualenvs/scalability/lib/python3.9/site-packages/urllib3/request.py:78\u001b[0m, in \u001b[0;36mRequestMethods.request\u001b[0;34m(self, method, url, fields, headers, **urlopen_kw)\u001b[0m\n\u001b[1;32m     74\u001b[0m     \u001b[39mreturn\u001b[39;00m \u001b[39mself\u001b[39m\u001b[39m.\u001b[39mrequest_encode_url(\n\u001b[1;32m     75\u001b[0m         method, url, fields\u001b[39m=\u001b[39mfields, headers\u001b[39m=\u001b[39mheaders, \u001b[39m*\u001b[39m\u001b[39m*\u001b[39murlopen_kw\n\u001b[1;32m     76\u001b[0m     )\n\u001b[1;32m     77\u001b[0m \u001b[39melse\u001b[39;00m:\n\u001b[0;32m---> 78\u001b[0m     \u001b[39mreturn\u001b[39;00m \u001b[39mself\u001b[39;49m\u001b[39m.\u001b[39;49mrequest_encode_body(\n\u001b[1;32m     79\u001b[0m         method, url, fields\u001b[39m=\u001b[39;49mfields, headers\u001b[39m=\u001b[39;49mheaders, \u001b[39m*\u001b[39;49m\u001b[39m*\u001b[39;49murlopen_kw\n\u001b[1;32m     80\u001b[0m     )\n",
      "File \u001b[0;32m~/Documents/rapmac-repo/.virtualenvs/scalability/lib/python3.9/site-packages/urllib3/request.py:170\u001b[0m, in \u001b[0;36mRequestMethods.request_encode_body\u001b[0;34m(self, method, url, fields, headers, encode_multipart, multipart_boundary, **urlopen_kw)\u001b[0m\n\u001b[1;32m    167\u001b[0m extra_kw[\u001b[39m\"\u001b[39m\u001b[39mheaders\u001b[39m\u001b[39m\"\u001b[39m]\u001b[39m.\u001b[39mupdate(headers)\n\u001b[1;32m    168\u001b[0m extra_kw\u001b[39m.\u001b[39mupdate(urlopen_kw)\n\u001b[0;32m--> 170\u001b[0m \u001b[39mreturn\u001b[39;00m \u001b[39mself\u001b[39;49m\u001b[39m.\u001b[39;49murlopen(method, url, \u001b[39m*\u001b[39;49m\u001b[39m*\u001b[39;49mextra_kw)\n",
      "File \u001b[0;32m~/Documents/rapmac-repo/.virtualenvs/scalability/lib/python3.9/site-packages/urllib3/poolmanager.py:376\u001b[0m, in \u001b[0;36mPoolManager.urlopen\u001b[0;34m(self, method, url, redirect, **kw)\u001b[0m\n\u001b[1;32m    374\u001b[0m     response \u001b[39m=\u001b[39m conn\u001b[39m.\u001b[39murlopen(method, url, \u001b[39m*\u001b[39m\u001b[39m*\u001b[39mkw)\n\u001b[1;32m    375\u001b[0m \u001b[39melse\u001b[39;00m:\n\u001b[0;32m--> 376\u001b[0m     response \u001b[39m=\u001b[39m conn\u001b[39m.\u001b[39;49murlopen(method, u\u001b[39m.\u001b[39;49mrequest_uri, \u001b[39m*\u001b[39;49m\u001b[39m*\u001b[39;49mkw)\n\u001b[1;32m    378\u001b[0m redirect_location \u001b[39m=\u001b[39m redirect \u001b[39mand\u001b[39;00m response\u001b[39m.\u001b[39mget_redirect_location()\n\u001b[1;32m    379\u001b[0m \u001b[39mif\u001b[39;00m \u001b[39mnot\u001b[39;00m redirect_location:\n",
      "File \u001b[0;32m~/Documents/rapmac-repo/.virtualenvs/scalability/lib/python3.9/site-packages/urllib3/connectionpool.py:703\u001b[0m, in \u001b[0;36mHTTPConnectionPool.urlopen\u001b[0;34m(self, method, url, body, headers, retries, redirect, assert_same_host, timeout, pool_timeout, release_conn, chunked, body_pos, **response_kw)\u001b[0m\n\u001b[1;32m    700\u001b[0m     \u001b[39mself\u001b[39m\u001b[39m.\u001b[39m_prepare_proxy(conn)\n\u001b[1;32m    702\u001b[0m \u001b[39m# Make the request on the httplib connection object.\u001b[39;00m\n\u001b[0;32m--> 703\u001b[0m httplib_response \u001b[39m=\u001b[39m \u001b[39mself\u001b[39;49m\u001b[39m.\u001b[39;49m_make_request(\n\u001b[1;32m    704\u001b[0m     conn,\n\u001b[1;32m    705\u001b[0m     method,\n\u001b[1;32m    706\u001b[0m     url,\n\u001b[1;32m    707\u001b[0m     timeout\u001b[39m=\u001b[39;49mtimeout_obj,\n\u001b[1;32m    708\u001b[0m     body\u001b[39m=\u001b[39;49mbody,\n\u001b[1;32m    709\u001b[0m     headers\u001b[39m=\u001b[39;49mheaders,\n\u001b[1;32m    710\u001b[0m     chunked\u001b[39m=\u001b[39;49mchunked,\n\u001b[1;32m    711\u001b[0m )\n\u001b[1;32m    713\u001b[0m \u001b[39m# If we're going to release the connection in ``finally:``, then\u001b[39;00m\n\u001b[1;32m    714\u001b[0m \u001b[39m# the response doesn't need to know about the connection. Otherwise\u001b[39;00m\n\u001b[1;32m    715\u001b[0m \u001b[39m# it will also try to release it and we'll have a double-release\u001b[39;00m\n\u001b[1;32m    716\u001b[0m \u001b[39m# mess.\u001b[39;00m\n\u001b[1;32m    717\u001b[0m response_conn \u001b[39m=\u001b[39m conn \u001b[39mif\u001b[39;00m \u001b[39mnot\u001b[39;00m release_conn \u001b[39melse\u001b[39;00m \u001b[39mNone\u001b[39;00m\n",
      "File \u001b[0;32m~/Documents/rapmac-repo/.virtualenvs/scalability/lib/python3.9/site-packages/urllib3/connectionpool.py:449\u001b[0m, in \u001b[0;36mHTTPConnectionPool._make_request\u001b[0;34m(self, conn, method, url, timeout, chunked, **httplib_request_kw)\u001b[0m\n\u001b[1;32m    444\u001b[0m             httplib_response \u001b[39m=\u001b[39m conn\u001b[39m.\u001b[39mgetresponse()\n\u001b[1;32m    445\u001b[0m         \u001b[39mexcept\u001b[39;00m \u001b[39mBaseException\u001b[39;00m \u001b[39mas\u001b[39;00m e:\n\u001b[1;32m    446\u001b[0m             \u001b[39m# Remove the TypeError from the exception chain in\u001b[39;00m\n\u001b[1;32m    447\u001b[0m             \u001b[39m# Python 3 (including for exceptions like SystemExit).\u001b[39;00m\n\u001b[1;32m    448\u001b[0m             \u001b[39m# Otherwise it looks like a bug in the code.\u001b[39;00m\n\u001b[0;32m--> 449\u001b[0m             six\u001b[39m.\u001b[39;49mraise_from(e, \u001b[39mNone\u001b[39;49;00m)\n\u001b[1;32m    450\u001b[0m \u001b[39mexcept\u001b[39;00m (SocketTimeout, BaseSSLError, SocketError) \u001b[39mas\u001b[39;00m e:\n\u001b[1;32m    451\u001b[0m     \u001b[39mself\u001b[39m\u001b[39m.\u001b[39m_raise_timeout(err\u001b[39m=\u001b[39me, url\u001b[39m=\u001b[39murl, timeout_value\u001b[39m=\u001b[39mread_timeout)\n",
      "File \u001b[0;32m<string>:3\u001b[0m, in \u001b[0;36mraise_from\u001b[0;34m(value, from_value)\u001b[0m\n",
      "File \u001b[0;32m~/Documents/rapmac-repo/.virtualenvs/scalability/lib/python3.9/site-packages/urllib3/connectionpool.py:444\u001b[0m, in \u001b[0;36mHTTPConnectionPool._make_request\u001b[0;34m(self, conn, method, url, timeout, chunked, **httplib_request_kw)\u001b[0m\n\u001b[1;32m    441\u001b[0m \u001b[39mexcept\u001b[39;00m \u001b[39mTypeError\u001b[39;00m:\n\u001b[1;32m    442\u001b[0m     \u001b[39m# Python 3\u001b[39;00m\n\u001b[1;32m    443\u001b[0m     \u001b[39mtry\u001b[39;00m:\n\u001b[0;32m--> 444\u001b[0m         httplib_response \u001b[39m=\u001b[39m conn\u001b[39m.\u001b[39;49mgetresponse()\n\u001b[1;32m    445\u001b[0m     \u001b[39mexcept\u001b[39;00m \u001b[39mBaseException\u001b[39;00m \u001b[39mas\u001b[39;00m e:\n\u001b[1;32m    446\u001b[0m         \u001b[39m# Remove the TypeError from the exception chain in\u001b[39;00m\n\u001b[1;32m    447\u001b[0m         \u001b[39m# Python 3 (including for exceptions like SystemExit).\u001b[39;00m\n\u001b[1;32m    448\u001b[0m         \u001b[39m# Otherwise it looks like a bug in the code.\u001b[39;00m\n\u001b[1;32m    449\u001b[0m         six\u001b[39m.\u001b[39mraise_from(e, \u001b[39mNone\u001b[39;00m)\n",
      "File \u001b[0;32m/opt/homebrew/Cellar/python@3.9/3.9.16/Frameworks/Python.framework/Versions/3.9/lib/python3.9/http/client.py:1377\u001b[0m, in \u001b[0;36mHTTPConnection.getresponse\u001b[0;34m(self)\u001b[0m\n\u001b[1;32m   1375\u001b[0m \u001b[39mtry\u001b[39;00m:\n\u001b[1;32m   1376\u001b[0m     \u001b[39mtry\u001b[39;00m:\n\u001b[0;32m-> 1377\u001b[0m         response\u001b[39m.\u001b[39;49mbegin()\n\u001b[1;32m   1378\u001b[0m     \u001b[39mexcept\u001b[39;00m \u001b[39mConnectionError\u001b[39;00m:\n\u001b[1;32m   1379\u001b[0m         \u001b[39mself\u001b[39m\u001b[39m.\u001b[39mclose()\n",
      "File \u001b[0;32m/opt/homebrew/Cellar/python@3.9/3.9.16/Frameworks/Python.framework/Versions/3.9/lib/python3.9/http/client.py:320\u001b[0m, in \u001b[0;36mHTTPResponse.begin\u001b[0;34m(self)\u001b[0m\n\u001b[1;32m    318\u001b[0m \u001b[39m# read until we get a non-100 response\u001b[39;00m\n\u001b[1;32m    319\u001b[0m \u001b[39mwhile\u001b[39;00m \u001b[39mTrue\u001b[39;00m:\n\u001b[0;32m--> 320\u001b[0m     version, status, reason \u001b[39m=\u001b[39m \u001b[39mself\u001b[39;49m\u001b[39m.\u001b[39;49m_read_status()\n\u001b[1;32m    321\u001b[0m     \u001b[39mif\u001b[39;00m status \u001b[39m!=\u001b[39m CONTINUE:\n\u001b[1;32m    322\u001b[0m         \u001b[39mbreak\u001b[39;00m\n",
      "File \u001b[0;32m/opt/homebrew/Cellar/python@3.9/3.9.16/Frameworks/Python.framework/Versions/3.9/lib/python3.9/http/client.py:281\u001b[0m, in \u001b[0;36mHTTPResponse._read_status\u001b[0;34m(self)\u001b[0m\n\u001b[1;32m    280\u001b[0m \u001b[39mdef\u001b[39;00m \u001b[39m_read_status\u001b[39m(\u001b[39mself\u001b[39m):\n\u001b[0;32m--> 281\u001b[0m     line \u001b[39m=\u001b[39m \u001b[39mstr\u001b[39m(\u001b[39mself\u001b[39;49m\u001b[39m.\u001b[39;49mfp\u001b[39m.\u001b[39;49mreadline(_MAXLINE \u001b[39m+\u001b[39;49m \u001b[39m1\u001b[39;49m), \u001b[39m\"\u001b[39m\u001b[39miso-8859-1\u001b[39m\u001b[39m\"\u001b[39m)\n\u001b[1;32m    282\u001b[0m     \u001b[39mif\u001b[39;00m \u001b[39mlen\u001b[39m(line) \u001b[39m>\u001b[39m _MAXLINE:\n\u001b[1;32m    283\u001b[0m         \u001b[39mraise\u001b[39;00m LineTooLong(\u001b[39m\"\u001b[39m\u001b[39mstatus line\u001b[39m\u001b[39m\"\u001b[39m)\n",
      "File \u001b[0;32m/opt/homebrew/Cellar/python@3.9/3.9.16/Frameworks/Python.framework/Versions/3.9/lib/python3.9/socket.py:704\u001b[0m, in \u001b[0;36mSocketIO.readinto\u001b[0;34m(self, b)\u001b[0m\n\u001b[1;32m    702\u001b[0m \u001b[39mwhile\u001b[39;00m \u001b[39mTrue\u001b[39;00m:\n\u001b[1;32m    703\u001b[0m     \u001b[39mtry\u001b[39;00m:\n\u001b[0;32m--> 704\u001b[0m         \u001b[39mreturn\u001b[39;00m \u001b[39mself\u001b[39;49m\u001b[39m.\u001b[39;49m_sock\u001b[39m.\u001b[39;49mrecv_into(b)\n\u001b[1;32m    705\u001b[0m     \u001b[39mexcept\u001b[39;00m timeout:\n\u001b[1;32m    706\u001b[0m         \u001b[39mself\u001b[39m\u001b[39m.\u001b[39m_timeout_occurred \u001b[39m=\u001b[39m \u001b[39mTrue\u001b[39;00m\n",
      "\u001b[0;31mKeyboardInterrupt\u001b[0m: "
     ]
    }
   ],
   "source": [
    "df = pd.read_csv('/Users/raph/Documents/Dataship_Code/(Yelda) Agro feb 23 - Url to convert-2.csv', sep=',')\n",
    "df.head(10)\n",
    "options = webdriver.FirefoxOptions()\n",
    "options.add_argument('--ignore-ssl-errors=yes')\n",
    "options.add_argument('--ignore-certificate-errors')\n",
    "url_converted=[]\n",
    "count=0\n",
    "for i in df['linkedin_url']:\n",
    "    driver = webdriver.Remote(\n",
    "        command_executor='http://165.227.169.86:4444/wd/hub',\n",
    "        options = options\n",
    "    )\n",
    "    driver.get(\"https://www.linkedin.com/uas/login\")\n",
    "    driver.get('http://'+i)\n",
    "    time.sleep(3)\n",
    "    url_converted.append(driver.current_url)\n",
    "    count+=1\n",
    "    if count%5==0:\n",
    "        print('On a converti '+str(count)+' urls')\n"
   ]
  },
  {
   "cell_type": "code",
   "execution_count": 94,
   "metadata": {},
   "outputs": [
    {
     "ename": "InvalidSessionIdException",
     "evalue": "Message: WebDriver session does not exist, or is not active\nStacktrace:\nRemoteError@chrome://remote/content/shared/RemoteError.sys.mjs:8:8\nWebDriverError@chrome://remote/content/shared/webdriver/Errors.sys.mjs:180:5\nInvalidSessionIDError@chrome://remote/content/shared/webdriver/Errors.sys.mjs:351:5\nassert.that/<@chrome://remote/content/shared/webdriver/Assert.sys.mjs:485:13\nassert.session@chrome://remote/content/shared/webdriver/Assert.sys.mjs:37:4\ndespatch@chrome://remote/content/marionette/server.sys.mjs:300:19\nexecute@chrome://remote/content/marionette/server.sys.mjs:276:16\nonPacket/<@chrome://remote/content/marionette/server.sys.mjs:249:20\nonPacket@chrome://remote/content/marionette/server.sys.mjs:250:9\n_onJSONObjectReady/<@chrome://remote/content/marionette/transport.sys.mjs:496:20\n",
     "output_type": "error",
     "traceback": [
      "\u001b[0;31m---------------------------------------------------------------------------\u001b[0m",
      "\u001b[0;31mInvalidSessionIdException\u001b[0m                 Traceback (most recent call last)",
      "Cell \u001b[0;32mIn[94], line 1\u001b[0m\n\u001b[0;32m----> 1\u001b[0m driver\u001b[39m.\u001b[39;49mquit()\n\u001b[1;32m      2\u001b[0m driver\u001b[39m.\u001b[39mclose()\n",
      "File \u001b[0;32m~/Documents/rapmac-repo/.virtualenvs/scalability/lib/python3.9/site-packages/selenium/webdriver/remote/webdriver.py:562\u001b[0m, in \u001b[0;36mWebDriver.quit\u001b[0;34m(self)\u001b[0m\n\u001b[1;32m    554\u001b[0m \u001b[39m\u001b[39m\u001b[39m\"\"\"Quits the driver and closes every associated window.\u001b[39;00m\n\u001b[1;32m    555\u001b[0m \n\u001b[1;32m    556\u001b[0m \u001b[39m:Usage:\u001b[39;00m\n\u001b[0;32m   (...)\u001b[0m\n\u001b[1;32m    559\u001b[0m \u001b[39m        driver.quit()\u001b[39;00m\n\u001b[1;32m    560\u001b[0m \u001b[39m\"\"\"\u001b[39;00m\n\u001b[1;32m    561\u001b[0m \u001b[39mtry\u001b[39;00m:\n\u001b[0;32m--> 562\u001b[0m     \u001b[39mself\u001b[39;49m\u001b[39m.\u001b[39;49mexecute(Command\u001b[39m.\u001b[39;49mQUIT)\n\u001b[1;32m    563\u001b[0m \u001b[39mfinally\u001b[39;00m:\n\u001b[1;32m    564\u001b[0m     \u001b[39mself\u001b[39m\u001b[39m.\u001b[39mstop_client()\n",
      "File \u001b[0;32m~/Documents/rapmac-repo/.virtualenvs/scalability/lib/python3.9/site-packages/selenium/webdriver/remote/webdriver.py:440\u001b[0m, in \u001b[0;36mWebDriver.execute\u001b[0;34m(self, driver_command, params)\u001b[0m\n\u001b[1;32m    438\u001b[0m response \u001b[39m=\u001b[39m \u001b[39mself\u001b[39m\u001b[39m.\u001b[39mcommand_executor\u001b[39m.\u001b[39mexecute(driver_command, params)\n\u001b[1;32m    439\u001b[0m \u001b[39mif\u001b[39;00m response:\n\u001b[0;32m--> 440\u001b[0m     \u001b[39mself\u001b[39;49m\u001b[39m.\u001b[39;49merror_handler\u001b[39m.\u001b[39;49mcheck_response(response)\n\u001b[1;32m    441\u001b[0m     response[\u001b[39m\"\u001b[39m\u001b[39mvalue\u001b[39m\u001b[39m\"\u001b[39m] \u001b[39m=\u001b[39m \u001b[39mself\u001b[39m\u001b[39m.\u001b[39m_unwrap_value(response\u001b[39m.\u001b[39mget(\u001b[39m\"\u001b[39m\u001b[39mvalue\u001b[39m\u001b[39m\"\u001b[39m, \u001b[39mNone\u001b[39;00m))\n\u001b[1;32m    442\u001b[0m     \u001b[39mreturn\u001b[39;00m response\n",
      "File \u001b[0;32m~/Documents/rapmac-repo/.virtualenvs/scalability/lib/python3.9/site-packages/selenium/webdriver/remote/errorhandler.py:245\u001b[0m, in \u001b[0;36mErrorHandler.check_response\u001b[0;34m(self, response)\u001b[0m\n\u001b[1;32m    243\u001b[0m         alert_text \u001b[39m=\u001b[39m value[\u001b[39m\"\u001b[39m\u001b[39malert\u001b[39m\u001b[39m\"\u001b[39m]\u001b[39m.\u001b[39mget(\u001b[39m\"\u001b[39m\u001b[39mtext\u001b[39m\u001b[39m\"\u001b[39m)\n\u001b[1;32m    244\u001b[0m     \u001b[39mraise\u001b[39;00m exception_class(message, screen, stacktrace, alert_text)  \u001b[39m# type: ignore[call-arg]  # mypy is not smart enough here\u001b[39;00m\n\u001b[0;32m--> 245\u001b[0m \u001b[39mraise\u001b[39;00m exception_class(message, screen, stacktrace)\n",
      "\u001b[0;31mInvalidSessionIdException\u001b[0m: Message: WebDriver session does not exist, or is not active\nStacktrace:\nRemoteError@chrome://remote/content/shared/RemoteError.sys.mjs:8:8\nWebDriverError@chrome://remote/content/shared/webdriver/Errors.sys.mjs:180:5\nInvalidSessionIDError@chrome://remote/content/shared/webdriver/Errors.sys.mjs:351:5\nassert.that/<@chrome://remote/content/shared/webdriver/Assert.sys.mjs:485:13\nassert.session@chrome://remote/content/shared/webdriver/Assert.sys.mjs:37:4\ndespatch@chrome://remote/content/marionette/server.sys.mjs:300:19\nexecute@chrome://remote/content/marionette/server.sys.mjs:276:16\nonPacket/<@chrome://remote/content/marionette/server.sys.mjs:249:20\nonPacket@chrome://remote/content/marionette/server.sys.mjs:250:9\n_onJSONObjectReady/<@chrome://remote/content/marionette/transport.sys.mjs:496:20\n"
     ]
    }
   ],
   "source": [
    "driver.quit()\n",
    "driver.close()"
   ]
  },
  {
   "cell_type": "code",
   "execution_count": 72,
   "metadata": {},
   "outputs": [],
   "source": [
    "df = pd.read_csv('/Users/raph/Documents/Dataship_Code/lW4B.csv', sep=',')\n",
    "df.head()\n",
    "usernameLinkedIn = 'victor.alexandrian@gmail.com'\n",
    "passwordLinkedIn = 'Chatenet5!'\n",
    "login = driver.find_element(By.XPATH,\"/html/body/div/main/div[3]/div[1]/form/div[1]/input\").send_keys(usernameLinkedIn)\n",
    "paswword = driver.find_element(By.XPATH,\"/html/body/div/main/div[3]/div[1]/form/div[2]/input\").send_keys(passwordLinkedIn)\n",
    "login = driver.find_element(By.XPATH,\"/html/body/div/main/div[3]/div[1]/form/div[3]/button\").click()\n",
    "#driver.get(df['profile_url'][0])\n",
    "#driver.get(df['profile_url'][0])\n"
   ]
  },
  {
   "cell_type": "code",
   "execution_count": 63,
   "metadata": {},
   "outputs": [],
   "source": [
    "driver.get(\"https://www.linkedin.com/uas/login\")"
   ]
  },
  {
   "cell_type": "code",
   "execution_count": 12,
   "metadata": {},
   "outputs": [
    {
     "name": "stdout",
     "output_type": "stream",
     "text": [
      "Un code vous a été envoyé par mail. Rentrez le ci-dessous\n"
     ]
    }
   ],
   "source": [
    "if 'https://www.linkedin.com/checkpoint' in driver.current_url:\n",
    "    print('Un code vous a été envoyé par mail. Rentrez le ci-dessous')"
   ]
  },
  {
   "cell_type": "code",
   "execution_count": 13,
   "metadata": {},
   "outputs": [],
   "source": [
    "code = '456495'\n",
    "verificationCode = driver.find_element(By.XPATH,'/html/body/div/main/form/div[1]/input[16]').send_keys(code)"
   ]
  },
  {
   "cell_type": "code",
   "execution_count": 49,
   "metadata": {},
   "outputs": [
    {
     "data": {
      "text/html": [
       "<div>\n",
       "<style scoped>\n",
       "    .dataframe tbody tr th:only-of-type {\n",
       "        vertical-align: middle;\n",
       "    }\n",
       "\n",
       "    .dataframe tbody tr th {\n",
       "        vertical-align: top;\n",
       "    }\n",
       "\n",
       "    .dataframe thead th {\n",
       "        text-align: right;\n",
       "    }\n",
       "</style>\n",
       "<table border=\"1\" class=\"dataframe\">\n",
       "  <thead>\n",
       "    <tr style=\"text-align: right;\">\n",
       "      <th></th>\n",
       "      <th>company_employees_range</th>\n",
       "      <th>company_industry</th>\n",
       "      <th>company_name</th>\n",
       "      <th>current_company_name</th>\n",
       "      <th>current_company_url</th>\n",
       "      <th>current_job_title</th>\n",
       "      <th>description</th>\n",
       "      <th>education</th>\n",
       "      <th>experiences</th>\n",
       "      <th>extracted_at</th>\n",
       "      <th>...</th>\n",
       "      <th>profile_language</th>\n",
       "      <th>profile_url</th>\n",
       "      <th>school_name</th>\n",
       "      <th>school_url</th>\n",
       "      <th>skills</th>\n",
       "      <th>start_url</th>\n",
       "      <th>summary</th>\n",
       "      <th>title</th>\n",
       "      <th>tracking_id</th>\n",
       "      <th>volunteer_experiences</th>\n",
       "    </tr>\n",
       "  </thead>\n",
       "  <tbody>\n",
       "    <tr>\n",
       "      <th>0</th>\n",
       "      <td>5001 - 10000</td>\n",
       "      <td>Financial Services</td>\n",
       "      <td>Natixis</td>\n",
       "      <td>Natixis</td>\n",
       "      <td>https://www.linkedin.com/company/natixis-corpo...</td>\n",
       "      <td>Head of the IT of Technology and Transformatio...</td>\n",
       "      <td>Transparency, play as a team and taking risks ...</td>\n",
       "      <td>[{\"school_name\": null, \"title\": null, \"date\": ...</td>\n",
       "      <td>[{\"title\": \"Head of the IT of Technology and T...</td>\n",
       "      <td>2023-01-31T10:28:36.416000</td>\n",
       "      <td>...</td>\n",
       "      <td>en</td>\n",
       "      <td>https://www.linkedin.com/in/francoisleguillou</td>\n",
       "      <td>NaN</td>\n",
       "      <td>https://www.linkedin.com/school/institut-polyt...</td>\n",
       "      <td>[\"Software Project Management\", \"Summit\", \"Bus...</td>\n",
       "      <td>https://www.linkedin.com/in/ACwAAAClYlgBF1JPGU...</td>\n",
       "      <td>Transparency, play as a team and taking risks ...</td>\n",
       "      <td>Head of the IT of Technology and Transformatio...</td>\n",
       "      <td>ue3pPkJDS5GPJqIaHAz/FQ==</td>\n",
       "      <td>[]</td>\n",
       "    </tr>\n",
       "    <tr>\n",
       "      <th>1</th>\n",
       "      <td>5001 - 10000</td>\n",
       "      <td>Wine &amp; Spirits</td>\n",
       "      <td>Moët Hennessy</td>\n",
       "      <td>Moët Hennessy</td>\n",
       "      <td>https://www.linkedin.com/company/moethennessy/</td>\n",
       "      <td>Operations Manager</td>\n",
       "      <td>Experienced developer of new products and pack...</td>\n",
       "      <td>[{\"school_name\": \"ISA Lille\", \"title\": \"Food I...</td>\n",
       "      <td>[{\"title\": \"Operations Manager\", \"company_name...</td>\n",
       "      <td>2023-01-31T10:28:38.635000</td>\n",
       "      <td>...</td>\n",
       "      <td>en</td>\n",
       "      <td>https://www.linkedin.com/in/laura-pernet-362487</td>\n",
       "      <td>ISA Lille</td>\n",
       "      <td>https://www.linkedin.com/school/isa-lille/</td>\n",
       "      <td>[\"Market Analysis\", \"Marketing Research\", \"Man...</td>\n",
       "      <td>https://www.linkedin.com/in/ACwAAAAR6ToB-kcTxF...</td>\n",
       "      <td>Experienced developer of new products and pack...</td>\n",
       "      <td>Operations Manager</td>\n",
       "      <td>ZyfLRVP8S12bENFz+J8wPw==</td>\n",
       "      <td>[{\"role\": \"Member - Niger team\", \"company_name...</td>\n",
       "    </tr>\n",
       "    <tr>\n",
       "      <th>2</th>\n",
       "      <td>5001 - 10000</td>\n",
       "      <td>Financial Services</td>\n",
       "      <td>Natixis</td>\n",
       "      <td>Natixis</td>\n",
       "      <td>https://www.linkedin.com/company/natixis-corpo...</td>\n",
       "      <td>Senior Data Engineer</td>\n",
       "      <td>Scala, Big Data, Kafka, Kafka Streams, Spark</td>\n",
       "      <td>[{\"school_name\": \"Université Pierre et Marie C...</td>\n",
       "      <td>[{\"title\": \"Senior Data Engineer\", \"company_na...</td>\n",
       "      <td>2023-01-31T10:28:46.534000</td>\n",
       "      <td>...</td>\n",
       "      <td>fr</td>\n",
       "      <td>https://www.linkedin.com/in/thomas-a-03ab3422</td>\n",
       "      <td>Université Pierre et Marie Curie (Paris VI)</td>\n",
       "      <td>https://www.linkedin.com/school/universite-pie...</td>\n",
       "      <td>[\"UML\", \"Java Enterprise Edition\", \"Java\", \"My...</td>\n",
       "      <td>https://www.linkedin.com/in/ACwAAATLci4BsGt8yF...</td>\n",
       "      <td>Scala, Big Data, Kafka, Kafka Streams, Spark</td>\n",
       "      <td>Senior Data Engineer</td>\n",
       "      <td>2owvpyMORCC3SZm6jEGqxw==</td>\n",
       "      <td>[]</td>\n",
       "    </tr>\n",
       "    <tr>\n",
       "      <th>3</th>\n",
       "      <td>5001 - 10000</td>\n",
       "      <td>Cosmetics</td>\n",
       "      <td>Yves Rocher</td>\n",
       "      <td>Yves Rocher</td>\n",
       "      <td>https://www.linkedin.com/company/yves-rocher/</td>\n",
       "      <td>Responsable Marketing Operationnel Retail YR F...</td>\n",
       "      <td>NaN</td>\n",
       "      <td>[{\"school_name\": \"Audencia Business School\", \"...</td>\n",
       "      <td>[{\"title\": \"Responsable Marketing Operationnel...</td>\n",
       "      <td>2023-01-31T10:28:48.381000</td>\n",
       "      <td>...</td>\n",
       "      <td>en</td>\n",
       "      <td>https://www.linkedin.com/in/élise-devaud-stouf...</td>\n",
       "      <td>Audencia Business School</td>\n",
       "      <td>https://www.linkedin.com/school/audencia/</td>\n",
       "      <td>[\"Trade Marketing\", \"Cosmetics\", \"Marketing\", ...</td>\n",
       "      <td>https://www.linkedin.com/in/ACwAAACrrIMBJKGI6C...</td>\n",
       "      <td>NaN</td>\n",
       "      <td>Responsable Marketing Operationnel Retail YR F...</td>\n",
       "      <td>M2AE+BwBR0+oL6HTjsi3tQ==</td>\n",
       "      <td>[]</td>\n",
       "    </tr>\n",
       "    <tr>\n",
       "      <th>4</th>\n",
       "      <td>5001 - 10000</td>\n",
       "      <td>Information Technology &amp; Services</td>\n",
       "      <td>Econocom</td>\n",
       "      <td>Econocom</td>\n",
       "      <td>https://www.linkedin.com/company/econocom/</td>\n",
       "      <td>Responsable Recrutement IT | France Régions</td>\n",
       "      <td>Première Entreprise Générale du Digital en Eur...</td>\n",
       "      <td>[{\"school_name\": \"IAE Aix-en-Provence\", \"title...</td>\n",
       "      <td>[{\"title\": \"Responsable Recrutement IT | Franc...</td>\n",
       "      <td>2023-01-31T10:28:50.584000</td>\n",
       "      <td>...</td>\n",
       "      <td>fr</td>\n",
       "      <td>https://www.linkedin.com/in/sophie-lecouvé-b52...</td>\n",
       "      <td>IAE Aix-en-Provence</td>\n",
       "      <td>NaN</td>\n",
       "      <td>[\"HR Consulting\", \"Talent Management\", \"Employ...</td>\n",
       "      <td>https://www.linkedin.com/in/ACwAAAs3pi4B-EeJqC...</td>\n",
       "      <td>Première Entreprise Générale du Digital en Eur...</td>\n",
       "      <td>Responsable Recrutement IT | France Régions</td>\n",
       "      <td>wGBecbMWRPWdmVMqXvmREw==</td>\n",
       "      <td>[]</td>\n",
       "    </tr>\n",
       "  </tbody>\n",
       "</table>\n",
       "<p>5 rows × 39 columns</p>\n",
       "</div>"
      ],
      "text/plain": [
       "  company_employees_range                   company_industry   company_name  \\\n",
       "0            5001 - 10000                 Financial Services        Natixis   \n",
       "1            5001 - 10000                     Wine & Spirits  Moët Hennessy   \n",
       "2            5001 - 10000                 Financial Services        Natixis   \n",
       "3            5001 - 10000                          Cosmetics    Yves Rocher   \n",
       "4            5001 - 10000  Information Technology & Services       Econocom   \n",
       "\n",
       "  current_company_name                                current_company_url  \\\n",
       "0              Natixis  https://www.linkedin.com/company/natixis-corpo...   \n",
       "1        Moët Hennessy     https://www.linkedin.com/company/moethennessy/   \n",
       "2              Natixis  https://www.linkedin.com/company/natixis-corpo...   \n",
       "3          Yves Rocher      https://www.linkedin.com/company/yves-rocher/   \n",
       "4             Econocom         https://www.linkedin.com/company/econocom/   \n",
       "\n",
       "                                   current_job_title  \\\n",
       "0  Head of the IT of Technology and Transformatio...   \n",
       "1                                 Operations Manager   \n",
       "2                               Senior Data Engineer   \n",
       "3  Responsable Marketing Operationnel Retail YR F...   \n",
       "4        Responsable Recrutement IT | France Régions   \n",
       "\n",
       "                                         description  \\\n",
       "0  Transparency, play as a team and taking risks ...   \n",
       "1  Experienced developer of new products and pack...   \n",
       "2       Scala, Big Data, Kafka, Kafka Streams, Spark   \n",
       "3                                                NaN   \n",
       "4  Première Entreprise Générale du Digital en Eur...   \n",
       "\n",
       "                                           education  \\\n",
       "0  [{\"school_name\": null, \"title\": null, \"date\": ...   \n",
       "1  [{\"school_name\": \"ISA Lille\", \"title\": \"Food I...   \n",
       "2  [{\"school_name\": \"Université Pierre et Marie C...   \n",
       "3  [{\"school_name\": \"Audencia Business School\", \"...   \n",
       "4  [{\"school_name\": \"IAE Aix-en-Provence\", \"title...   \n",
       "\n",
       "                                         experiences  \\\n",
       "0  [{\"title\": \"Head of the IT of Technology and T...   \n",
       "1  [{\"title\": \"Operations Manager\", \"company_name...   \n",
       "2  [{\"title\": \"Senior Data Engineer\", \"company_na...   \n",
       "3  [{\"title\": \"Responsable Marketing Operationnel...   \n",
       "4  [{\"title\": \"Responsable Recrutement IT | Franc...   \n",
       "\n",
       "                 extracted_at  ... profile_language  \\\n",
       "0  2023-01-31T10:28:36.416000  ...               en   \n",
       "1  2023-01-31T10:28:38.635000  ...               en   \n",
       "2  2023-01-31T10:28:46.534000  ...               fr   \n",
       "3  2023-01-31T10:28:48.381000  ...               en   \n",
       "4  2023-01-31T10:28:50.584000  ...               fr   \n",
       "\n",
       "                                         profile_url  \\\n",
       "0      https://www.linkedin.com/in/francoisleguillou   \n",
       "1    https://www.linkedin.com/in/laura-pernet-362487   \n",
       "2      https://www.linkedin.com/in/thomas-a-03ab3422   \n",
       "3  https://www.linkedin.com/in/élise-devaud-stouf...   \n",
       "4  https://www.linkedin.com/in/sophie-lecouvé-b52...   \n",
       "\n",
       "                                   school_name  \\\n",
       "0                                          NaN   \n",
       "1                                    ISA Lille   \n",
       "2  Université Pierre et Marie Curie (Paris VI)   \n",
       "3                     Audencia Business School   \n",
       "4                          IAE Aix-en-Provence   \n",
       "\n",
       "                                          school_url  \\\n",
       "0  https://www.linkedin.com/school/institut-polyt...   \n",
       "1         https://www.linkedin.com/school/isa-lille/   \n",
       "2  https://www.linkedin.com/school/universite-pie...   \n",
       "3          https://www.linkedin.com/school/audencia/   \n",
       "4                                                NaN   \n",
       "\n",
       "                                              skills  \\\n",
       "0  [\"Software Project Management\", \"Summit\", \"Bus...   \n",
       "1  [\"Market Analysis\", \"Marketing Research\", \"Man...   \n",
       "2  [\"UML\", \"Java Enterprise Edition\", \"Java\", \"My...   \n",
       "3  [\"Trade Marketing\", \"Cosmetics\", \"Marketing\", ...   \n",
       "4  [\"HR Consulting\", \"Talent Management\", \"Employ...   \n",
       "\n",
       "                                           start_url  \\\n",
       "0  https://www.linkedin.com/in/ACwAAAClYlgBF1JPGU...   \n",
       "1  https://www.linkedin.com/in/ACwAAAAR6ToB-kcTxF...   \n",
       "2  https://www.linkedin.com/in/ACwAAATLci4BsGt8yF...   \n",
       "3  https://www.linkedin.com/in/ACwAAACrrIMBJKGI6C...   \n",
       "4  https://www.linkedin.com/in/ACwAAAs3pi4B-EeJqC...   \n",
       "\n",
       "                                             summary  \\\n",
       "0  Transparency, play as a team and taking risks ...   \n",
       "1  Experienced developer of new products and pack...   \n",
       "2       Scala, Big Data, Kafka, Kafka Streams, Spark   \n",
       "3                                                NaN   \n",
       "4  Première Entreprise Générale du Digital en Eur...   \n",
       "\n",
       "                                               title  \\\n",
       "0  Head of the IT of Technology and Transformatio...   \n",
       "1                                 Operations Manager   \n",
       "2                               Senior Data Engineer   \n",
       "3  Responsable Marketing Operationnel Retail YR F...   \n",
       "4        Responsable Recrutement IT | France Régions   \n",
       "\n",
       "                tracking_id                              volunteer_experiences  \n",
       "0  ue3pPkJDS5GPJqIaHAz/FQ==                                                 []  \n",
       "1  ZyfLRVP8S12bENFz+J8wPw==  [{\"role\": \"Member - Niger team\", \"company_name...  \n",
       "2  2owvpyMORCC3SZm6jEGqxw==                                                 []  \n",
       "3  M2AE+BwBR0+oL6HTjsi3tQ==                                                 []  \n",
       "4  wGBecbMWRPWdmVMqXvmREw==                                                 []  \n",
       "\n",
       "[5 rows x 39 columns]"
      ]
     },
     "execution_count": 49,
     "metadata": {},
     "output_type": "execute_result"
    }
   ],
   "source": [
    "df = pd.read_csv('/Users/raph/Documents/Dataship_Code/lW4B.csv', sep=',')\n",
    "df.head()"
   ]
  },
  {
   "cell_type": "code",
   "execution_count": 56,
   "metadata": {},
   "outputs": [
    {
     "name": "stdout",
     "output_type": "stream",
     "text": [
      "https://www.linkedin.com/in/francoisleguillou\n"
     ]
    }
   ],
   "source": [
    "print(df['profile_url'][0])"
   ]
  },
  {
   "cell_type": "code",
   "execution_count": 87,
   "metadata": {},
   "outputs": [
    {
     "ename": "InvalidArgumentException",
     "evalue": "Message: Malformed URL: URL constructor: www.linkedin.com/in/ACwAACV2yEcBuyIHA9a3iSMlxv0lG1ezlj-w2S0 is not a valid URL.\nStacktrace:\nRemoteError@chrome://remote/content/shared/RemoteError.sys.mjs:8:8\nWebDriverError@chrome://remote/content/shared/webdriver/Errors.sys.mjs:180:5\nInvalidArgumentError@chrome://remote/content/shared/webdriver/Errors.sys.mjs:309:5\nGeckoDriver.prototype.navigateTo@chrome://remote/content/marionette/driver.sys.mjs:823:11\n",
     "output_type": "error",
     "traceback": [
      "\u001b[0;31m---------------------------------------------------------------------------\u001b[0m",
      "\u001b[0;31mInvalidArgumentException\u001b[0m                  Traceback (most recent call last)",
      "Cell \u001b[0;32mIn[87], line 1\u001b[0m\n\u001b[0;32m----> 1\u001b[0m driver\u001b[39m.\u001b[39;49mget(df[\u001b[39m'\u001b[39;49m\u001b[39mlinkedin_url\u001b[39;49m\u001b[39m'\u001b[39;49m][\u001b[39m0\u001b[39;49m])\n",
      "File \u001b[0;32m~/Documents/rapmac-repo/.virtualenvs/scalability/lib/python3.9/site-packages/selenium/webdriver/remote/webdriver.py:449\u001b[0m, in \u001b[0;36mWebDriver.get\u001b[0;34m(self, url)\u001b[0m\n\u001b[1;32m    447\u001b[0m \u001b[39mdef\u001b[39;00m \u001b[39mget\u001b[39m(\u001b[39mself\u001b[39m, url: \u001b[39mstr\u001b[39m) \u001b[39m-\u001b[39m\u001b[39m>\u001b[39m \u001b[39mNone\u001b[39;00m:\n\u001b[1;32m    448\u001b[0m \u001b[39m    \u001b[39m\u001b[39m\"\"\"Loads a web page in the current browser session.\"\"\"\u001b[39;00m\n\u001b[0;32m--> 449\u001b[0m     \u001b[39mself\u001b[39;49m\u001b[39m.\u001b[39;49mexecute(Command\u001b[39m.\u001b[39;49mGET, {\u001b[39m\"\u001b[39;49m\u001b[39murl\u001b[39;49m\u001b[39m\"\u001b[39;49m: url})\n",
      "File \u001b[0;32m~/Documents/rapmac-repo/.virtualenvs/scalability/lib/python3.9/site-packages/selenium/webdriver/remote/webdriver.py:440\u001b[0m, in \u001b[0;36mWebDriver.execute\u001b[0;34m(self, driver_command, params)\u001b[0m\n\u001b[1;32m    438\u001b[0m response \u001b[39m=\u001b[39m \u001b[39mself\u001b[39m\u001b[39m.\u001b[39mcommand_executor\u001b[39m.\u001b[39mexecute(driver_command, params)\n\u001b[1;32m    439\u001b[0m \u001b[39mif\u001b[39;00m response:\n\u001b[0;32m--> 440\u001b[0m     \u001b[39mself\u001b[39;49m\u001b[39m.\u001b[39;49merror_handler\u001b[39m.\u001b[39;49mcheck_response(response)\n\u001b[1;32m    441\u001b[0m     response[\u001b[39m\"\u001b[39m\u001b[39mvalue\u001b[39m\u001b[39m\"\u001b[39m] \u001b[39m=\u001b[39m \u001b[39mself\u001b[39m\u001b[39m.\u001b[39m_unwrap_value(response\u001b[39m.\u001b[39mget(\u001b[39m\"\u001b[39m\u001b[39mvalue\u001b[39m\u001b[39m\"\u001b[39m, \u001b[39mNone\u001b[39;00m))\n\u001b[1;32m    442\u001b[0m     \u001b[39mreturn\u001b[39;00m response\n",
      "File \u001b[0;32m~/Documents/rapmac-repo/.virtualenvs/scalability/lib/python3.9/site-packages/selenium/webdriver/remote/errorhandler.py:245\u001b[0m, in \u001b[0;36mErrorHandler.check_response\u001b[0;34m(self, response)\u001b[0m\n\u001b[1;32m    243\u001b[0m         alert_text \u001b[39m=\u001b[39m value[\u001b[39m\"\u001b[39m\u001b[39malert\u001b[39m\u001b[39m\"\u001b[39m]\u001b[39m.\u001b[39mget(\u001b[39m\"\u001b[39m\u001b[39mtext\u001b[39m\u001b[39m\"\u001b[39m)\n\u001b[1;32m    244\u001b[0m     \u001b[39mraise\u001b[39;00m exception_class(message, screen, stacktrace, alert_text)  \u001b[39m# type: ignore[call-arg]  # mypy is not smart enough here\u001b[39;00m\n\u001b[0;32m--> 245\u001b[0m \u001b[39mraise\u001b[39;00m exception_class(message, screen, stacktrace)\n",
      "\u001b[0;31mInvalidArgumentException\u001b[0m: Message: Malformed URL: URL constructor: www.linkedin.com/in/ACwAACV2yEcBuyIHA9a3iSMlxv0lG1ezlj-w2S0 is not a valid URL.\nStacktrace:\nRemoteError@chrome://remote/content/shared/RemoteError.sys.mjs:8:8\nWebDriverError@chrome://remote/content/shared/webdriver/Errors.sys.mjs:180:5\nInvalidArgumentError@chrome://remote/content/shared/webdriver/Errors.sys.mjs:309:5\nGeckoDriver.prototype.navigateTo@chrome://remote/content/marionette/driver.sys.mjs:823:11\n"
     ]
    }
   ],
   "source": [
    "driver.get(df['linkedin_url'][0])"
   ]
  },
  {
   "cell_type": "code",
   "execution_count": null,
   "metadata": {},
   "outputs": [],
   "source": [
    "st.title('Scalability LinkedIn Platform')\n",
    "#usernameLinkedIn = st.text_input('Email adress', 'tartampion@lesgoudes.om')\n",
    "#passwordLinkedIn = st.text_input('Email adress', 'scalability1234!')\n",
    "#urlConversion = st.button('Test this adress on Zelty')\n",
    "\n"
   ]
  },
  {
   "cell_type": "code",
   "execution_count": 18,
   "metadata": {},
   "outputs": [
    {
     "name": "stdout",
     "output_type": "stream",
     "text": [
      "Request failed\n"
     ]
    }
   ],
   "source": [
    "import requests\n",
    "\n",
    "url = 'https://'+df['linkedin_url'][0]\n",
    "\n",
    "response = requests.get(url)\n",
    "\n",
    "if response.status_code == 200:\n",
    "    print(response.text)\n",
    "else:\n",
    "    print(\"Request failed\")"
   ]
  },
  {
   "cell_type": "code",
   "execution_count": 43,
   "metadata": {},
   "outputs": [
    {
     "name": "stderr",
     "output_type": "stream",
     "text": [
      "2023-02-06 14:48:44.732 ERROR   root: Exception occurred initiating webdriver\n",
      "Traceback (most recent call last):\n",
      "  File \"/var/folders/26/r_bcwcfx0x7_t9wv6jxbj2fc0000gp/T/ipykernel_26173/1379064776.py\", line 13, in init_driver\n",
      "    fp = webdriver.ChromeProfile()\n",
      "AttributeError: module 'selenium.webdriver' has no attribute 'ChromeProfile'\n"
     ]
    },
    {
     "ename": "AttributeError",
     "evalue": "'NoneType' object has no attribute 'get'",
     "output_type": "error",
     "traceback": [
      "\u001b[0;31m---------------------------------------------------------------------------\u001b[0m",
      "\u001b[0;31mAttributeError\u001b[0m                            Traceback (most recent call last)",
      "Cell \u001b[0;32mIn[43], line 34\u001b[0m\n\u001b[1;32m     29\u001b[0m url \u001b[39m=\u001b[39m df[\u001b[39m'\u001b[39m\u001b[39mprofile_url\u001b[39m\u001b[39m'\u001b[39m][\u001b[39m0\u001b[39m]\n\u001b[1;32m     31\u001b[0m driver \u001b[39m=\u001b[39m init_driver()\n\u001b[0;32m---> 34\u001b[0m driver\u001b[39m.\u001b[39;49mget(url)\n",
      "\u001b[0;31mAttributeError\u001b[0m: 'NoneType' object has no attribute 'get'"
     ]
    }
   ],
   "source": [
    "from selenium import webdriver\n",
    "from fake_useragent import UserAgent\n",
    "import logging\n",
    "\n",
    "def init_driver():\n",
    "    \"\"\"Initiates selenium webdriver.\n",
    "    :return: Firefox browser instance\n",
    "    \"\"\"\n",
    "\n",
    "\n",
    "    try:\n",
    "        #  use random UserAgent to avoid captcha\n",
    "        fp = webdriver.ChromeProfile()\n",
    "        fp.set_preference(\"general.useragent.override\", UserAgent().random)\n",
    "        fp.update_preferences()\n",
    "        # initiate driver\n",
    "        options = webdriver.ChromeOptions()\n",
    "        # options.add_argument(\"--headless\")\n",
    "        return webdriver.Remote(\n",
    "            command_executor='http://46.101.8.79:4444/wd/hub',\n",
    "            options = options\n",
    ")\n",
    "    except Exception:\n",
    "        logging.error('Exception occurred initiating webdriver', exc_info=True)\n",
    "\n",
    "\n",
    "\n",
    "\n",
    "url = df['profile_url'][0]\n",
    "\n",
    "driver = init_driver()\n",
    "\n",
    "\n",
    "driver.get(url)"
   ]
  },
  {
   "cell_type": "code",
   "execution_count": null,
   "metadata": {},
   "outputs": [],
   "source": []
  }
 ],
 "metadata": {
  "kernelspec": {
   "display_name": "scalability",
   "language": "python",
   "name": "python3"
  },
  "language_info": {
   "codemirror_mode": {
    "name": "ipython",
    "version": 3
   },
   "file_extension": ".py",
   "mimetype": "text/x-python",
   "name": "python",
   "nbconvert_exporter": "python",
   "pygments_lexer": "ipython3",
   "version": "3.9.16"
  },
  "orig_nbformat": 4,
  "vscode": {
   "interpreter": {
    "hash": "b60ab2796edb0fa4c35c6c90836e2226f22659e294f5ecc95ef72f59cdf46ba8"
   }
  }
 },
 "nbformat": 4,
 "nbformat_minor": 2
}
