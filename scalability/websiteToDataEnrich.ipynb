{
 "cells": [
  {
   "cell_type": "code",
   "execution_count": 1,
   "metadata": {},
   "outputs": [
    {
     "name": "stderr",
     "output_type": "stream",
     "text": [
      "/Users/raph/Documents/rapmac-repo/.virtualenvs/scalability/lib/python3.9/site-packages/snowflake/connector/options.py:96: UserWarning: You have an incompatible version of 'pyarrow' installed (11.0.0), please install a version that adheres to: 'pyarrow<10.1.0,>=10.0.1; extra == \"pandas\"'\n",
      "  warn_incompatible_dep(\n",
      "Failed to import ArrowResult. No Apache Arrow result set format can be used. ImportError: dlopen(/Users/raph/Documents/rapmac-repo/.virtualenvs/scalability/lib/python3.9/site-packages/snowflake/connector/arrow_iterator.cpython-39-darwin.so, 0x0002): symbol not found in flat namespace '__ZN5arrow17Decimal128BuilderC1ERKNSt3__110shared_ptrINS_8DataTypeEEEPNS_10MemoryPoolE'\n"
     ]
    }
   ],
   "source": [
    "import requests\n",
    "import os \n",
    "import snowflake.connector\n",
    "import time\n",
    "import json as js\n",
    "import flask"
   ]
  },
  {
   "cell_type": "code",
   "execution_count": 2,
   "metadata": {},
   "outputs": [],
   "source": [
    "def getDomain(url):\n",
    "    url = url.replace(\"https://www.\", \"\").replace(\"http://www.\", \"\").replace(\"www.\",\"\")\n",
    "    return url\n",
    "\n",
    "def querySFCompany(domain, user, password, account):\n",
    "    DATABASE='dbt_db'\n",
    "    SCHEMA='models_final'\n",
    "    TABLE = 'final_companies_flatten'\n",
    "    WAREHOUSE = 'COMPUTE_WH'\n",
    "    ctx = snowflake.connector.connect(\n",
    "    user=user,\n",
    "    password=password,\n",
    "    account=account,\n",
    "    warehouse=WAREHOUSE,\n",
    "    database=DATABASE,\n",
    "    schema=SCHEMA\n",
    "    )\n",
    "    cs = ctx.cursor()\n",
    "    query = \"select count(*) from \"+DATABASE+\".\"+SCHEMA+\".\"+TABLE+\" where COMPANY_DOMAIN LIKE '\" +domain+\"'\"\n",
    "    print(query)\n",
    "    cs.execute(query)\n",
    "    query_id = cs.sfqid\n",
    "    while ctx.is_still_running(ctx.get_query_status(query_id)):\n",
    "        time.sleep(1)\n",
    "    cs.get_results_from_sfqid(query_id)\n",
    "    results = cs.fetchall()\n",
    "    print(f'{results}')\n",
    "    if results[0][0]!=0:\n",
    "        query = \"select * from \"+DATABASE+\".\"+SCHEMA+\".\"+TABLE+\" where COMPANY_DOMAIN LIKE '\" +domain+\"'\"\n",
    "        cs.execute(query)\n",
    "        query_id = cs.sfqid\n",
    "        while ctx.is_still_running(ctx.get_query_status(query_id)):\n",
    "            time.sleep(1)\n",
    "        cs.get_results_from_sfqid(query_id)\n",
    "        results = cs.fetchall()\n",
    "        print('type result' + str(type(results[0])))\n",
    "        print(results[0][1])\n",
    "        ctx.close()\n",
    "        return 'True', results\n",
    "    else:\n",
    "        ctx.close()\n",
    "        results=''\n",
    "        return 'False', results\n",
    "\n",
    "def getResultsFromCompanySF(results:list):\n",
    "    results_cleaned = {'company_linkedin_universal_name':results[2],\n",
    "                       'company_linkedin_id' : results[1],\n",
    "                       'company_founded_year' :  results[7],\n",
    "                       'company_country_code' : results[8],\n",
    "                       'company_employees_count' : results[12],\n",
    "                       'company_linkedin_industry' : results[13],\n",
    "                       'company_captain_data_employee_range' : results[52],\n",
    "                       'company_captain_data_extracted_at' : str(results[41])}\n",
    "    return results_cleaned\n",
    "    \n",
    "def scrappingURL1(domain, api_key):\n",
    "    return \"https://app.scrapingbee.com/api/v1/?api_key=\"+api_key+\"&url=http://www.\"+domain+\"&render_js=false&extract_rules={%22links%22:%20{%22selector%22:%20%22//a[contains(@href,%27linkedin.com/company%27)]%22,%20%22type%22:%20%22list%22,%20%22output%22:%20%22@href%22}}\"\n",
    "\n",
    "def scrappingURL2(domain,api_key):\n",
    "    return \"https://app.scrapingbee.com/api/v1/?api_key=\"+api_key+\"&url=https%3A%2F%2Fwww.google.com%2Fsearch%3Fq%3Dsite%253Alinkedin.com%252Fcompany%2B\"+domain+\"&extract_rules=%7B%22first_link%22%3A%7B%22selector%22%3A%22%23search%20a%22%2C%22output%22%3A%22%40href%22%7D%7D&custom_google=True\"\n",
    "\n",
    "def hubspot_checker(domain, user, password, account, customer):\n",
    "    DATABASE='airbyte_db'\n",
    "    SCHEMA='crm_hubspot_'+customer\n",
    "    TABLE = 'companies'\n",
    "    WAREHOUSE = 'COMPUTE_WH'\n",
    "    ctx = snowflake.connector.connect(\n",
    "    user=user,\n",
    "    password=password,\n",
    "    account=account,\n",
    "    warehouse=WAREHOUSE,\n",
    "    database=DATABASE,\n",
    "    schema=SCHEMA\n",
    "    )\n",
    "    cs = ctx.cursor()\n",
    "    query = \"select count(*) from \"+DATABASE+\".\"+SCHEMA+\".\"+TABLE+\" where PROPERTIES LIKE '%\" +domain+\"%'\"\n",
    "    cs.execute(query)\n",
    "    query_id = cs.sfqid\n",
    "    while ctx.is_still_running(ctx.get_query_status(query_id)):\n",
    "        time.sleep(1)\n",
    "    cs.get_results_from_sfqid(query_id)\n",
    "    results = cs.fetchall()\n",
    "    print(f'{results}')\n",
    "    ctx.close()\n",
    "    if results[0][0]!=0:\n",
    "        #display = 'La company est présente dans le CRM Hubspot de '+customer\n",
    "        #return display\n",
    "        return True\n",
    "    else:\n",
    "        #display = 'La company n\\'est pas présente dans le CRM Hubspot de '+customer \n",
    "        #return display\n",
    "        return False\n",
    "\n",
    "def valid_accounts(captain_data_api_key):\n",
    "    auth = \"x-api-key \" + captain_data_api_key\n",
    "    url = \"https://api.captaindata.co/v3/integrations/linkedin/accounts?page=0\"\n",
    "\n",
    "    headers = {\n",
    "        \"Content-Type\": \"application/json\",\n",
    "        \"x-project-id\": \"24dc2e2c-d2e6-433e-81d2-2f87bc87b59d\",\n",
    "        \"Authorization\": auth\n",
    "    }\n",
    "\n",
    "    response = requests.get(url, headers=headers)\n",
    "    result= json.loads(response.text)\n",
    "    #print(result)\n",
    "    uid = \"\"\n",
    "    for i in range(len(result['accounts'])):\n",
    "        if result['accounts'][i]['is_valid'] == True:\n",
    "            uid = result['accounts'][i]['uid']\n",
    "            print(result['integration'])\n",
    "            print(result['accounts'][i]['name'])\n",
    "    #return 'Aucun compte LinkedIn n\\'est actuellement valide sur Captain Data'\n",
    "    if uid == \"\":\n",
    "        return 'Aucun compte LinkedIn n\\'est actuellement valide sur Captain Data'\n",
    "    else:\n",
    "        return uid\n",
    "    #print(result['accounts'][0]['is_valid']) \n",
    "\n",
    "def launch_job(uid, captain_data_api_key, linkedin_url):\n",
    "    url = \"https://api.captaindata.co/v3/workflows/b7aaec34-6e36-40b3-9f1f-376276d07af1/schedule\"\n",
    "    auth = \"x-api-key \" + captain_data_api_key\n",
    "\n",
    "    headers = {\n",
    "        \"Content-Type\": \"application/json\",\n",
    "        \"x-project-id\": \"24dc2e2c-d2e6-433e-81d2-2f87bc87b59d\",\n",
    "        \"Authorization\": auth\n",
    "    }\n",
    "\n",
    "    body = {\n",
    "        \"steps\": [\n",
    "            {\n",
    "                \"accounts\": [\n",
    "                    uid\n",
    "                ],\n",
    "                \"parameters\": {\n",
    "                    \"extractOpenPositions\": False\n",
    "                },\n",
    "                \"output_column\": None,\n",
    "                \"step_uid\": \"964f6c7c-9c73-4aff-a6e9-790f0c836565\"\n",
    "            }\n",
    "        ],\n",
    "        \"inputs\": [\n",
    "            {\n",
    "                \"linkedin_company_url\": linkedin_url,\n",
    "                \"url\": linkedin_url\n",
    "            }\n",
    "        ],\n",
    "        \"job_name\": uid\n",
    "    }\n",
    "\n",
    "    response = requests.post(url, headers=headers, data=json.dumps(body))\n",
    "    result= json.loads(response.text)\n",
    "    #print(response.text)\n",
    "    print(result['job_uid'])\n",
    "    return result['job_uid']\n",
    "\n",
    "def status_job(job_uid, captain_data_api_key):\n",
    "    url = \"https://api.captaindata.co/v3/jobs/\"+job_uid+\"/results\"\n",
    "    auth = \"x-api-key \" + captain_data_api_key\n",
    "    headers = {\n",
    "        \"Content-Type\": \"application/json\",\n",
    "        \"x-project-id\": \"24dc2e2c-d2e6-433e-81d2-2f87bc87b59d\",\n",
    "        \"Authorization\": auth\n",
    "    }\n",
    "    response = requests.get(url, headers=headers)\n",
    "    result = json.loads(response.text)\n",
    "    print(type(result))\n",
    "    count = 1\n",
    "    while result['items_count'] == 0:\n",
    "        print('Essai '+str(count))\n",
    "        time.sleep(5)\n",
    "        response = requests.get(url, headers=headers)\n",
    "        result = json.loads(response.text)\n",
    "        count+=1\n",
    "    print(result)\n",
    "    return response.text"
   ]
  },
  {
   "cell_type": "code",
   "execution_count": 3,
   "metadata": {},
   "outputs": [
    {
     "name": "stdout",
     "output_type": "stream",
     "text": [
      "PythonAPI\n",
      "ScalabilityPython!2023\n",
      "rq37585.eu-west-1\n",
      "[(1,)]\n"
     ]
    },
    {
     "data": {
      "text/plain": [
       "True"
      ]
     },
     "execution_count": 3,
     "metadata": {},
     "output_type": "execute_result"
    }
   ],
   "source": [
    "domain=\"getscalability.io\"\n",
    "user=os.environ['USER_SNOWFLAKE']\n",
    "print(user)\n",
    "password=os.environ['PASSWORD_SNOWFLAKE']\n",
    "print(password)\n",
    "account=os.environ['ACCOUNT_SNOWFLAKE']\n",
    "print(account)\n",
    "scrapping_bee_api_key = 'MLINMYF4NZMFT3WA37AGIJ54AP10F86H8TDXSFNJSOIG3NRXMKXE04JSEWID422DT3SDOPEHPE2F3VKC'\n",
    "captain_data_api_key = 'feecb369cafafe86a22255bca8b6293a4c7a2281bd751d453f06693af32f458d'\n",
    "hubspot_checker(domain,user,password,account,'simbel')"
   ]
  },
  {
   "cell_type": "code",
   "execution_count": 44,
   "metadata": {},
   "outputs": [],
   "source": [
    "def company_enrichment_oneshot(company_website:str):\n",
    "    user=os.getenv('USER_SNOWFLAKE')\n",
    "    password=os.getenv('PASSWORD_SNOWFLAKE')\n",
    "    account=os.getenv('ACCOUNT_SNOWFLAKE')\n",
    "    scrapping_bee_api_key = os.getenv('SCRAPPING_BEE_API_KEY') \n",
    "    captain_data_api_key = os.getenv('CAPTAIN_DATA_API_KEY') \n",
    "    domain = getDomain(company_website)\n",
    "    print(domain)\n",
    "    querySF=querySFCompany(domain,user,password,account)\n",
    "    print('querySF result '+querySF[0])\n",
    "    if querySF[0]=='False':\n",
    "        x = requests.get(scrappingURL1(domain,scrapping_bee_api_key))\n",
    "        print(x.text)\n",
    "        result = json.loads(x.text)\n",
    "        print(result)\n",
    "        if len(result['links']) == 0:\n",
    "            result = json.loads(requests.get(scrappingURL2(domain,scrapping_bee_api_key)).text)\n",
    "            linkedin_url = result['first_link']\n",
    "            print('linkedin url '+linkedin_url)\n",
    "        elif len(result['links']) != 0 :\n",
    "            linkedin_url = result['links'][0]\n",
    "            print('linkedin url '+linkedin_url)\n",
    "        uid = valid_accounts(captain_data_api_key)\n",
    "        job_uid = launch_job(uid, captain_data_api_key, linkedin_url)\n",
    "        result = status_job(job_uid,captain_data_api_key)\n",
    "        inDB = 'False'\n",
    "    \n",
    "    else:\n",
    "        print('Déjà présent dans la base Company')\n",
    "        result = querySF[1][0]\n",
    "        results = getResultsFromCompanySF(result)\n",
    "        inDB = 'True'\n",
    "    hubspot_join = hubspot_checker(domain, user, password, account, 'join')\n",
    "    print(hubspot_join)\n",
    "    hubspot_karmen = hubspot_checker(domain, user, password, account, 'karmen')\n",
    "    print(hubspot_karmen)\n",
    "    hubspot_open = hubspot_checker(domain, user, password, account, 'open')\n",
    "    print(hubspot_open)\n",
    "    hubspot_reecall = hubspot_checker(domain, user, password, account, 'reecall')\n",
    "    print(hubspot_reecall)\n",
    "    hubspot_simbel = hubspot_checker(domain, user, password, account, 'simbel')\n",
    "    print(hubspot_simbel)\n",
    "    results = {'inBB':inDB,\n",
    "                'company_linkedin_universal_name':results['company_linkedin_universal_name'],\n",
    "                'company_linkedin_id' : results['company_linkedin_id'],\n",
    "                'company_founded_year' :  results['company_founded_year'],\n",
    "                'company_country_code' : results['company_country_code'],\n",
    "                'company_employees_count' : results['company_employees_count'],\n",
    "                'company_linkedin_industry' : results['company_linkedin_industry'],\n",
    "                'company_captain_data_employee_range' : results['company_captain_data_employee_range'],\n",
    "                'company_captain_data_extracted_at' : results['company_captain_data_extracted_at'],\n",
    "                'in_hubspot_join':hubspot_join, \n",
    "                'in_hubspot_karmen':hubspot_karmen, \n",
    "                'in_hubspot_open':hubspot_open, \n",
    "                'in_hubspot_reecall':hubspot_reecall, \n",
    "                'in_hubspot_simbel':hubspot_simbel}\n",
    "    return results"
   ]
  },
  {
   "cell_type": "code",
   "execution_count": 43,
   "metadata": {},
   "outputs": [
    {
     "name": "stdout",
     "output_type": "stream",
     "text": [
      "getscalability.io\n",
      "select count(*) from dbt_db.models_final.final_companies_flatten where COMPANY_DOMAIN LIKE 'getscalability.io'\n",
      "[(1,)]\n",
      "type result<class 'tuple'>\n",
      "71230099\n",
      "querySF result True\n",
      "Déjà présent dans la base Company\n",
      "('linkedin_universal_name:getscalability', '71230099', 'getscalability', 'Get Scalability', 'Scalability vous aide à améliorer vos process Sales & growth. ', 'getscalability.io', '', None, 'FR', '75013', 'Paris', None, 5, 'Internet', None, None, None, None, None, None, None, None, None, None, None, None, None, None, None, None, None, None, None, None, None, None, None, None, None, None, None, datetime.datetime(2023, 2, 21, 11, 18, 41, 514000), '71230099', 'getscalability', None, 'getscalability.io', 'Get Scalability', 'Internet', 'Scalability vous aide à améliorer vos process Sales & growth. ', 'Growth as a service. Put your Sales process on automation to accelerate and grow your funnels.', 'Privately Held', 5, '2 - 10', 241, None, None, 'Paris', 'FR', '75013', '', 'Growth, Outbound, Sales, Prospection', None, None, None, None, None, None, None, None, None, None, None, None, None, None, None, None, None, None, None, None, None, None, None, None, None, None, None, None, None, None, None, None, None, datetime.datetime(2023, 2, 24, 22, 46, 26, 286000, tzinfo=<UTC>), 'getscalability.io', True, datetime.datetime(2023, 2, 24, 22, 46, 47, 732000, tzinfo=<UTC>), 'getscalability', '71230099.000000', 'Scalability ', '1-10 employees', 'getscalability.io', 'Internet', 'FR', 'Paris', None, None, None, None, None, None, None, None, None, None, None, None, None, None, None, None, None, None, None, None, None, None, None, None, None, None, None, None, None, None, None, None, None, None, None, None, None, None, None, None, None, None, None, None, None, None, None, None, None, None, None, None, None, None, None, None, None)\n",
      "71230099\n",
      "[(1,)]\n",
      "True\n",
      "[(1,)]\n",
      "True\n",
      "[(1,)]\n",
      "True\n",
      "[(0,)]\n",
      "False\n",
      "[(1,)]\n",
      "True\n"
     ]
    },
    {
     "data": {
      "text/plain": [
       "{'inBB': 'True',\n",
       " 'company_linkedin_universal_name': 'getscalability',\n",
       " 'company_linkedin_id': '71230099',\n",
       " 'company_founded_year': None,\n",
       " 'company_country_code': 'FR',\n",
       " 'company_employees_count': 5,\n",
       " 'company_linkedin_industry': 'Internet',\n",
       " 'company_captain_data_employee_range': '2 - 10',\n",
       " 'company_captain_data_extracted_at': datetime.datetime(2023, 2, 21, 11, 18, 41, 514000),\n",
       " 'in_hubspot_join': True,\n",
       " 'in_hubspot_karmen': True,\n",
       " 'in_hubspot_open': True,\n",
       " 'in_hubspot_reecall': False,\n",
       " 'in_hubspot_simbel': True}"
      ]
     },
     "execution_count": 43,
     "metadata": {},
     "output_type": "execute_result"
    }
   ],
   "source": [
    "company_enrichment_oneshot('getscalability.io')"
   ]
  },
  {
   "cell_type": "code",
   "execution_count": 74,
   "metadata": {},
   "outputs": [],
   "source": [
    "url=\"http://www.reveal.com\"\n",
    "user=os.environ['USER_SNOWFLAKE']\n",
    "password=os.environ['PASSWORD_SNOWFLAKE']\n",
    "account=os.environ['ACCOUNT_SNOWFLAKE']\n",
    "scrapping_bee_api_key = 'MLINMYF4NZMFT3WA37AGIJ54AP10F86H8TDXSFNJSOIG3NRXMKXE04JSEWID422DT3SDOPEHPE2F3VKC'\n",
    "captain_data_api_key = 'feecb369cafafe86a22255bca8b6293a4c7a2281bd751d453f06693af32f458d'\n",
    "def workflow(url):\n",
    "  domain = getDomain(url)\n",
    "  print(domain)\n",
    "  if querySFCompany(domain,user,password,account)==False:\n",
    "    x = requests.get(scrappingURL1(getDomain(url),scrapping_bee_api_key))\n",
    "    print(x.text)\n",
    "    result = json.loads(x.text)\n",
    "    print(result)\n",
    "    if len(result['links']) == 0:\n",
    "      result = json.loads(requests.get(scrappingURL2(getDomain(url),scrapping_bee_api_key)).text)\n",
    "      linkedin_url = result['first_link']\n",
    "      print('linkedin url '+linkedin_url)\n",
    "    elif len(result['links']) != 0 :\n",
    "      linkedin_url = result['links'][0]\n",
    "      print('linkedin url '+linkedin_url)\n",
    "    uid = valid_accounts(captain_data_api_key)\n",
    "    job_uid = launch_job(uid, captain_data_api_key, linkedin_url)\n",
    "    result = status_job(job_uid,captain_data_api_key)\n",
    "    \n",
    "  else:\n",
    "    print('Déjà présent dans la base Company')\n",
    "    result = 'Already in company DB'\n",
    "  hubspot_join = hubspot_checker(domain, user, password, account, 'join')\n",
    "  print(hubspot_join)\n",
    "  hubspot_karmen = hubspot_checker(domain, user, password, account, 'karmen')\n",
    "  print(hubspot_karmen)\n",
    "  hubspot_open = hubspot_checker(domain, user, password, account, 'open')\n",
    "  print(hubspot_open)\n",
    "  hubspot_reecall = hubspot_checker(domain, user, password, account, 'reecall')\n",
    "  print(hubspot_reecall)\n",
    "  hubspot_simbel = hubspot_checker(domain, user, password, account, 'simbel')\n",
    "  print(hubspot_simbel)\n",
    "  results = {'result':result, 'in_hubspot_join':hubspot_join, 'in_hubspot_karmen':hubspot_karmen, 'in_hubspot_open':hubspot_open, 'in_hubspot_reecall':hubspot_reecall, 'in_hubspot_simbel':hubspot_simbel}\n",
    "  return results\n",
    "  \n"
   ]
  },
  {
   "cell_type": "code",
   "execution_count": 76,
   "metadata": {},
   "outputs": [
    {
     "name": "stdout",
     "output_type": "stream",
     "text": [
      "dataship.tech\n",
      "select count(*) from dbt_db.models_final.final_companies_flatten where COMPANY_DOMAIN LIKE 'dataship.tech'\n",
      "[(0,)]\n",
      "{\"links\": []}\n",
      "{'links': []}\n",
      "linkedin url https://www.linkedin.com/company/dataships\n",
      "{'uid': 'linkedin', 'title': 'LinkedIn'}\n",
      "Adrien Tedjirian\n",
      "{'uid': 'linkedin', 'title': 'LinkedIn'}\n",
      "Victor Cariou\n",
      "{'uid': 'linkedin', 'title': 'LinkedIn'}\n",
      "Johann Lemena\n",
      "{'uid': 'linkedin', 'title': 'LinkedIn'}\n",
      "Arthur Morizur\n",
      "{'uid': 'linkedin', 'title': 'LinkedIn'}\n",
      "Victor Alexandrian\n",
      "{'uid': 'linkedin', 'title': 'LinkedIn'}\n",
      "Etienne Dubois\n",
      "cb96fd4c-66e5-4e8a-9128-8b6e33de059e\n",
      "<class 'dict'>\n",
      "Essai 1\n",
      "Essai 2\n",
      "{'items_count': 1, 'pages': 1, 'limit': 1000, 'results': [{'updated_at': '2023-02-15T16:13:55.870000', 'company_name': 'Dataships', 'name': 'Dataships', 'specialties': ['Regulation', 'IT', 'Software', 'Compliance', 'GDPR', 'EU Law', 'Data Privacy', 'DSAR', 'DAR', 'SAR', 'Fitness', 'Financial Services', 'SaaS', 'Data Protection'], 'specialities': ['Regulation', 'IT', 'Software', 'Compliance', 'GDPR', 'EU Law', 'Data Privacy', 'DSAR', 'DAR', 'SAR', 'Fitness', 'Financial Services', 'SaaS', 'Data Protection'], 'tagline': 'We help online businesses grow their marketing audiences compliantly.', 'linkedin_company_id': '11739039', 'id': '11739039', 'description': 'We specialize in data privacy compliance for SMEs and scaling start-ups. We created a SaaS product that automates compliance with data privacy laws such as GDPR, CPRA (and many more). \\n\\nBut we do it in a unique way!\\n\\nOur SaaS product helps companies comply with data privacy laws while also enabling them to build healthy first party data relationships with their customers. We do this by putting the customer at the heart of our product. Dataships allows companies to give their customers instant access to their personal data and marketing consents. This makes them achieve compliance and also helps to build healthy data relationships, or as we call them dataships.\\n\\nPlease get in touch to find out more.', 'type': 'Privately Held', 'founded_on': 2019, 'year_founded': 2019, 'linkedin_company_url': 'https://www.linkedin.com/company/dataships/', 'linkedin_url': 'https://www.linkedin.com/company/dataships/', 'website': 'http://www.dataships.io', 'phone': '', 'phones': [], 'sales_navigator_url': 'https://www.linkedin.com/sales/company/11739039', 'industries': ['Information Technology & Services'], 'industry': 'Information Technology & Services', 'category': 'Information Technology & Services', 'linkedin_job_search_url': 'https://www.linkedin.com/jobs/search?geoId=92000000&f_C=11739039', 'followers_count': 1849, 'number_employees': 19, 'employees_count': 19, 'employees_range': '2 - 10', 'employees_estimate': '2 - 10', 'employees_url': 'https://www.linkedin.com/search/results/people/?currentCompany=%5B%2211739039%22%5D', 'sales_navigator_employees_url': 'https://www.linkedin.com/sales/search/people?companyIncluded=Dataships%3A11739039&companyTimeScope=CURRENT', 'country': 'US', 'geographic_area': 'California', 'city': 'San Francisco', 'postal_code': None, 'headquarters': 'Larkspur, San Francisco, US', 'locations': [{'geographic_area': 'California', 'address': 'Larkspur, San Francisco, US', 'street': 'Larkspur', 'postal_code': None, 'city': 'San Francisco', 'country': 'US'}, {'geographic_area': 'County Dublin', 'address': '96-97 Capel Street, 1, Dublin 1, IE', 'street': '96-97 Capel Street', 'postal_code': '1', 'city': 'Dublin 1', 'country': 'IE'}], 'location': {'geographic_area': 'California', 'address': 'Larkspur, San Francisco, US', 'street': 'Larkspur', 'postal_code': None, 'city': 'San Francisco', 'country': 'US'}, 'last_funding_investors': [{'name': 'Urban Innovation Fund', 'crunchbase_url': 'https://www.crunchbase.com/organization/urban-innovationfund?utm_source=linkedin&utm_medium=referral&utm_campaign=linkedin_companies&utm_content=investor'}], 'crunchbase_url': 'https://www.crunchbase.com/organization/dataships?utm_source=linkedin&utm_medium=referral&utm_campaign=linkedin_companies&utm_content=profile_cta', 'last_funding_date': '9/28/2021', 'last_funding_type': 'SEED', 'last_funding_raised': '3003340', 'last_funding_currency': 'USD', 'logo_url': 'https://media.licdn.com/dms/image/D4E0BAQH_zS44VB0KUA/company-logo_200_200/0/1665417782588?e=1684368000&v=beta&t=RczWLmJBO216j0sZRBmR6Dm9G5F4uFi40ZsJ2p6tHFg', 'domain': 'dataships.io', 'linkedin_school_id': None, 'school_id': None, 'sales_navigator_company_url': 'https://www.linkedin.com/sales/company/11739039', 'extracted_at': '2023-02-15T16:13:55.873000', 'start_url': 'https://www.linkedin.com/company/dataships', 'meta': None}], 'paging': {'previous': None, 'next': None, 'have_next_page': False}}\n",
      "[(0,)]\n",
      "False\n",
      "[(0,)]\n",
      "False\n",
      "[(0,)]\n",
      "False\n",
      "[(0,)]\n",
      "False\n",
      "[(0,)]\n",
      "False\n"
     ]
    },
    {
     "data": {
      "text/plain": [
       "{'result': {'items_count': 1,\n",
       "  'pages': 1,\n",
       "  'limit': 1000,\n",
       "  'results': [{'updated_at': '2023-02-15T16:13:55.870000',\n",
       "    'company_name': 'Dataships',\n",
       "    'name': 'Dataships',\n",
       "    'specialties': ['Regulation',\n",
       "     'IT',\n",
       "     'Software',\n",
       "     'Compliance',\n",
       "     'GDPR',\n",
       "     'EU Law',\n",
       "     'Data Privacy',\n",
       "     'DSAR',\n",
       "     'DAR',\n",
       "     'SAR',\n",
       "     'Fitness',\n",
       "     'Financial Services',\n",
       "     'SaaS',\n",
       "     'Data Protection'],\n",
       "    'specialities': ['Regulation',\n",
       "     'IT',\n",
       "     'Software',\n",
       "     'Compliance',\n",
       "     'GDPR',\n",
       "     'EU Law',\n",
       "     'Data Privacy',\n",
       "     'DSAR',\n",
       "     'DAR',\n",
       "     'SAR',\n",
       "     'Fitness',\n",
       "     'Financial Services',\n",
       "     'SaaS',\n",
       "     'Data Protection'],\n",
       "    'tagline': 'We help online businesses grow their marketing audiences compliantly.',\n",
       "    'linkedin_company_id': '11739039',\n",
       "    'id': '11739039',\n",
       "    'description': 'We specialize in data privacy compliance for SMEs and scaling start-ups. We created a SaaS product that automates compliance with data privacy laws such as GDPR, CPRA (and many more). \\n\\nBut we do it in a unique way!\\n\\nOur SaaS product helps companies comply with data privacy laws while also enabling them to build healthy first party data relationships with their customers. We do this by putting the customer at the heart of our product. Dataships allows companies to give their customers instant access to their personal data and marketing consents. This makes them achieve compliance and also helps to build healthy data relationships, or as we call them dataships.\\n\\nPlease get in touch to find out more.',\n",
       "    'type': 'Privately Held',\n",
       "    'founded_on': 2019,\n",
       "    'year_founded': 2019,\n",
       "    'linkedin_company_url': 'https://www.linkedin.com/company/dataships/',\n",
       "    'linkedin_url': 'https://www.linkedin.com/company/dataships/',\n",
       "    'website': 'http://www.dataships.io',\n",
       "    'phone': '',\n",
       "    'phones': [],\n",
       "    'sales_navigator_url': 'https://www.linkedin.com/sales/company/11739039',\n",
       "    'industries': ['Information Technology & Services'],\n",
       "    'industry': 'Information Technology & Services',\n",
       "    'category': 'Information Technology & Services',\n",
       "    'linkedin_job_search_url': 'https://www.linkedin.com/jobs/search?geoId=92000000&f_C=11739039',\n",
       "    'followers_count': 1849,\n",
       "    'number_employees': 19,\n",
       "    'employees_count': 19,\n",
       "    'employees_range': '2 - 10',\n",
       "    'employees_estimate': '2 - 10',\n",
       "    'employees_url': 'https://www.linkedin.com/search/results/people/?currentCompany=%5B%2211739039%22%5D',\n",
       "    'sales_navigator_employees_url': 'https://www.linkedin.com/sales/search/people?companyIncluded=Dataships%3A11739039&companyTimeScope=CURRENT',\n",
       "    'country': 'US',\n",
       "    'geographic_area': 'California',\n",
       "    'city': 'San Francisco',\n",
       "    'postal_code': None,\n",
       "    'headquarters': 'Larkspur, San Francisco, US',\n",
       "    'locations': [{'geographic_area': 'California',\n",
       "      'address': 'Larkspur, San Francisco, US',\n",
       "      'street': 'Larkspur',\n",
       "      'postal_code': None,\n",
       "      'city': 'San Francisco',\n",
       "      'country': 'US'},\n",
       "     {'geographic_area': 'County Dublin',\n",
       "      'address': '96-97 Capel Street, 1, Dublin 1, IE',\n",
       "      'street': '96-97 Capel Street',\n",
       "      'postal_code': '1',\n",
       "      'city': 'Dublin 1',\n",
       "      'country': 'IE'}],\n",
       "    'location': {'geographic_area': 'California',\n",
       "     'address': 'Larkspur, San Francisco, US',\n",
       "     'street': 'Larkspur',\n",
       "     'postal_code': None,\n",
       "     'city': 'San Francisco',\n",
       "     'country': 'US'},\n",
       "    'last_funding_investors': [{'name': 'Urban Innovation Fund',\n",
       "      'crunchbase_url': 'https://www.crunchbase.com/organization/urban-innovationfund?utm_source=linkedin&utm_medium=referral&utm_campaign=linkedin_companies&utm_content=investor'}],\n",
       "    'crunchbase_url': 'https://www.crunchbase.com/organization/dataships?utm_source=linkedin&utm_medium=referral&utm_campaign=linkedin_companies&utm_content=profile_cta',\n",
       "    'last_funding_date': '9/28/2021',\n",
       "    'last_funding_type': 'SEED',\n",
       "    'last_funding_raised': '3003340',\n",
       "    'last_funding_currency': 'USD',\n",
       "    'logo_url': 'https://media.licdn.com/dms/image/D4E0BAQH_zS44VB0KUA/company-logo_200_200/0/1665417782588?e=1684368000&v=beta&t=RczWLmJBO216j0sZRBmR6Dm9G5F4uFi40ZsJ2p6tHFg',\n",
       "    'domain': 'dataships.io',\n",
       "    'linkedin_school_id': None,\n",
       "    'school_id': None,\n",
       "    'sales_navigator_company_url': 'https://www.linkedin.com/sales/company/11739039',\n",
       "    'extracted_at': '2023-02-15T16:13:55.873000',\n",
       "    'start_url': 'https://www.linkedin.com/company/dataships',\n",
       "    'meta': None}],\n",
       "  'paging': {'previous': None, 'next': None, 'have_next_page': False}},\n",
       " 'in_hubspot_join': False,\n",
       " 'in_hubspot_karmen': False,\n",
       " 'in_hubspot_open': False,\n",
       " 'in_hubspot_reecall': False,\n",
       " 'in_hubspot_simbel': False}"
      ]
     },
     "execution_count": 76,
     "metadata": {},
     "output_type": "execute_result"
    }
   ],
   "source": [
    "workflow('https://www.dataship.tech')"
   ]
  },
  {
   "cell_type": "code",
   "execution_count": null,
   "metadata": {},
   "outputs": [],
   "source": []
  },
  {
   "cell_type": "code",
   "execution_count": 4,
   "metadata": {},
   "outputs": [
    {
     "ename": "TypeError",
     "evalue": "querySFCompany() missing 3 required positional arguments: 'user', 'password', and 'account'",
     "output_type": "error",
     "traceback": [
      "\u001b[0;31m---------------------------------------------------------------------------\u001b[0m",
      "\u001b[0;31mTypeError\u001b[0m                                 Traceback (most recent call last)",
      "Cell \u001b[0;32mIn[4], line 2\u001b[0m\n\u001b[1;32m      1\u001b[0m url\u001b[39m=\u001b[39m\u001b[39m\"\u001b[39m\u001b[39mreveal.com\u001b[39m\u001b[39m\"\u001b[39m\n\u001b[0;32m----> 2\u001b[0m query \u001b[39m=\u001b[39m querySFCompany(getDomain(url))\n\u001b[1;32m      3\u001b[0m DATABASE\u001b[39m=\u001b[39m\u001b[39m'\u001b[39m\u001b[39mdbt_db\u001b[39m\u001b[39m'\u001b[39m\n\u001b[1;32m      4\u001b[0m SCHEMA\u001b[39m=\u001b[39m\u001b[39m'\u001b[39m\u001b[39mmodels.final\u001b[39m\u001b[39m'\u001b[39m\n",
      "\u001b[0;31mTypeError\u001b[0m: querySFCompany() missing 3 required positional arguments: 'user', 'password', and 'account'"
     ]
    }
   ],
   "source": [
    "\n",
    "query = querySFCompany(getDomain(url))\n",
    "DATABASE='dbt_db'\n",
    "SCHEMA='models.final'\n",
    "ctx = snowflake.connector.connect(\n",
    "    user=os.environ['USER_SNOWFLAKE'],\n",
    "    password=os.environ['PASSWORD_SNOWFLAKE'],\n",
    "    account=os.environ['ACCOUNT_SNOWFLAKE'],\n",
    "    warehouse='COMPUTE_WH',\n",
    "    database=DATABASE,\n",
    "    schema=SCHEMA\n",
    "    )\n",
    "cs = ctx.cursor()\n",
    "cs.execute(query)\n",
    "query_id = cs.sfqid\n",
    "while ctx.is_still_running(ctx.get_query_status(query_id)):\n",
    "  time.sleep(1)\n",
    "cs.get_results_from_sfqid(query_id)\n",
    "results = cs.fetchall()\n",
    "print(f'{results[0]}')\n",
    "ctx.close()"
   ]
  },
  {
   "cell_type": "code",
   "execution_count": 45,
   "metadata": {},
   "outputs": [
    {
     "name": "stdout",
     "output_type": "stream",
     "text": [
      "{\"links\": []}\n"
     ]
    }
   ],
   "source": [
    "x = requests.get(scrappingURL1(getDomain(url)))\n",
    "print(x.text)\n",
    "result = json.loads(x.text)"
   ]
  },
  {
   "cell_type": "code",
   "execution_count": 46,
   "metadata": {},
   "outputs": [
    {
     "name": "stdout",
     "output_type": "stream",
     "text": [
      "{'links': []}\n"
     ]
    },
    {
     "data": {
      "text/plain": [
       "1"
      ]
     },
     "execution_count": 46,
     "metadata": {},
     "output_type": "execute_result"
    }
   ],
   "source": [
    "print(result)\n",
    "len(result)"
   ]
  },
  {
   "cell_type": "code",
   "execution_count": 47,
   "metadata": {},
   "outputs": [
    {
     "name": "stdout",
     "output_type": "stream",
     "text": [
      "https://www.linkedin.com/company/reveal-group\n"
     ]
    }
   ],
   "source": [
    "if len(result['links']) == 0:\n",
    "    result = json.loads(requests.get(scrappingURL2(getDomain(url))).text)\n",
    "    print(result['first_link'])\n",
    "elif len(result['links']) != 0 :\n",
    "    print(result['links'][0])"
   ]
  },
  {
   "cell_type": "code",
   "execution_count": 48,
   "metadata": {},
   "outputs": [
    {
     "name": "stdout",
     "output_type": "stream",
     "text": [
      "{'integration': {'uid': 'linkedin', 'title': 'LinkedIn'}, 'accounts': [{'setup_at': '2023-02-06T16:23:23.114398', 'name': 'Victor Cariou', 'cookies': {'JSESSIONID': '\"ajax:3377178882135116813\"', 'li_a': None, 'li_at': 'AQEDASOu32kEADNMAAABhieJn4kAAAGGS5YjiVYAlbCNbWoTpTTM9B_qc6Et6ZdlPvM0tfkDsl3KeJavcaCxbALylTQCFgWf9qtZUC1m3JQ_jzX-vDSmOT9XZFFvh25P88sc8UrkzfJ24pOJ_FqO_rSw'}, 'via_extension': True, 'is_shared': True, 'level': 'Sales Navigator', 'is_valid': True, 'uid': 'eb0832aa-38d8-435f-8869-c4f53b00d747', 'application_permalink': 'linkedin', 'application_name': 'LinkedIn'}, {'setup_at': '2023-02-06T14:53:48.823359', 'name': 'Johann Lemena', 'cookies': {'JSESSIONID': '\"ajax:3458321767039518452\"', 'li_a': 'AQJ2PTEmc2FsZXNfY2lkPTQ5OTE2NDcwMiUzQSUzQTQ0NDIxMDAwN5l_w2kphKDfMQbZqRNsR_Cp7KB2', 'li_at': 'AQEDATLHmdQCGXV4AAABhhIru0QAAAGGNjg_RE4An5V_jUj8ccJEz2YvQzPj-Au-Q5f2JADCMXvsU4vXjM_pQRO4pIbvfx-E9KnYlJWLdtDNCU0iYbbeCZ5852iP7udccM-KsXx8WYp9zPFtCtLA0CpR'}, 'via_extension': True, 'is_shared': True, 'level': 'Sales Navigator', 'is_valid': True, 'uid': 'efbb4db4-c60b-4ff5-b6dd-25560894c8aa', 'application_permalink': 'linkedin', 'application_name': 'LinkedIn'}, {'setup_at': '2023-02-06T11:02:54.823810', 'name': 'Arthur Morizur', 'cookies': {'JSESSIONID': '\"ajax:1640323011078317814\"', 'li_a': 'AQJ2PTEmc2FsZXNfY2lkPTQ5OTE2NDcwMiUzQSUzQTM3NDM2MjUwN5p1X5hm8aRxGf-13bSBvfA4zCc8', 'li_at': 'AQEDASNix-8DbR7eAAABhhgoy8MAAAGGPDVPw04A0GDa4CstBImfGcpfrNTXImlrR6b9jDcbDRMzbTqEDkhwWK2Czkf7VOPkt5kpun6G2NuCVN2doVxoY5eJJDQUPHlct4MOe8ZgiHP8kuMrpfU3BcdH'}, 'via_extension': True, 'is_shared': True, 'level': 'Sales Navigator', 'is_valid': True, 'uid': 'a4960e9d-52d4-4b6f-8fff-b606034bc8ad', 'application_permalink': 'linkedin', 'application_name': 'LinkedIn'}, {'setup_at': '2023-02-08T09:08:22.372715', 'name': 'Victor Alexandrian', 'cookies': {'JSESSIONID': '\"ajax:8125698718514954526\"', 'li_a': 'AQJ2PTEmc2FsZXNfY2lkPTQ5OTE2NDcwMiUzQSUzQTQ2OTQzMzUwN8r7y4VXk9LerPstXJjppx7-7608', 'li_at': 'AQEDARcBvEIDvYAsAAABhieKHrMAAAGGS5ais04ADYqON9Njx7MbM1BWU3dEzIWPQBUfomgNRq_DJCT6V36WSOI_W4vs31gRpaLXbuyKUhp0pFR3d85SE5M8U7KA4SC7PZ47FqRGo_zSeNsp30_x1R_W'}, 'via_extension': True, 'is_shared': False, 'level': 'Sales Navigator', 'is_valid': True, 'uid': '077bf979-0b37-4ed6-a349-d3dee297aaeb', 'application_permalink': 'linkedin', 'application_name': 'LinkedIn'}, {'setup_at': '2023-02-06T15:50:57.668324', 'name': 'Etienne Dubois', 'cookies': {'JSESSIONID': '\"ajax:1963693786369523596\"', 'li_a': 'AQJ2PTEmc2FsZXNfY2lkPTQ5OTE2NDcwMiUzQSUzQTM2NDc2NDUwN-4a0WrbEDk-2t8YSkweD6pKp7Ec', 'li_at': 'AQEDAR-8I4gB0aiwAAABhhGLDeIAAAGGNZeR4k4Ah-Y9xI9z7puvNy9X1fQhFe1IxKU118VqLzG8ZL5Orn1bAt55nJryJ2Rbq0vgnxwSgr3Wpl1qXayWUYU8tatKIdSwNh7phG6AVfaJCr1yQPLaLlvN'}, 'via_extension': True, 'is_shared': False, 'level': 'Sales Navigator', 'is_valid': True, 'uid': '3dad7d0a-25d5-4dfb-8e16-690006957061', 'application_permalink': 'linkedin', 'application_name': 'LinkedIn'}, {'setup_at': '2023-02-02T15:06:52.562064', 'name': 'Benjamin Donteville', 'cookies': {'JSESSIONID': '\"ajax:0607834954110388042\"', 'li_a': None, 'li_at': 'AQEDARcfTM8BdYYgAAABhhKN_MoAAAGGNpqAyk4ATxdq1QATcVfyIeQskrhz4asePS869cxEbGb4W1WiR_V5e-ufO22ou6zbrupFSOpDyuDK0bC_g55cy7kRzI4IAvGFOs1bvlZRoK2ZNp35z_0Ubv8Q'}, 'via_extension': True, 'is_shared': False, 'level': 'Sales Navigator', 'is_valid': True, 'uid': 'd9bfcd2c-25d5-477c-a77f-33c2082c3ea1', 'application_permalink': 'linkedin', 'application_name': 'LinkedIn'}], 'next_page_exist': False, 'number_total_acounts': 6}\n"
     ]
    }
   ],
   "source": [
    "def valid_accounts(captain_data_api_key):\n",
    "    auth = \"x-api-key \" + captain_data_api_key\n",
    "    url = \"https://api.captaindata.co/v3/integrations/linkedin/accounts?page=0\"\n",
    "\n",
    "    headers = {\n",
    "        \"Content-Type\": \"application/json\",\n",
    "        \"x-project-id\": \"24dc2e2c-d2e6-433e-81d2-2f87bc87b59d\",\n",
    "        \"Authorization\": auth\n",
    "    }\n",
    "\n",
    "    response = requests.get(url, headers=headers)\n",
    "    result= json.loads(response.text)\n",
    "    print(result)\n",
    "    uid = \"\"\n",
    "    for i in range(len(result['accounts'])):\n",
    "        if result['accounts'][i]['is_valid'] == True:\n",
    "            uid = result['accounts'][i]['uid']\n",
    "            print(result['integration'])\n",
    "            print(result['accounts'][i]['name'])\n",
    "    #return 'Aucun compte LinkedIn n\\'est actuellement valide sur Captain Data'\n",
    "    if uid == \"\":\n",
    "        return 'Aucun compte LinkedIn n\\'est actuellement valide sur Captain Data'\n",
    "    else:\n",
    "        return uid\n",
    "    #print(result['accounts'][0]['is_valid']) \n",
    "\n",
    "def launch_job(uid, captain_data_api_key, linkedin_url):\n",
    "    url = \"https://api.captaindata.co/v3/workflows/b7aaec34-6e36-40b3-9f1f-376276d07af1/schedule\"\n",
    "    auth = \"x-api-key \" + captain_data_api_key\n",
    "\n",
    "    headers = {\n",
    "        \"Content-Type\": \"application/json\",\n",
    "        \"x-project-id\": \"24dc2e2c-d2e6-433e-81d2-2f87bc87b59d\",\n",
    "        \"Authorization\": auth\n",
    "    }\n",
    "\n",
    "    body = {\n",
    "        \"steps\": [\n",
    "            {\n",
    "                \"accounts\": [\n",
    "                    uid\n",
    "                ],\n",
    "                \"parameters\": {\n",
    "                    \"extractOpenPositions\": False\n",
    "                },\n",
    "                \"output_column\": None,\n",
    "                \"step_uid\": \"964f6c7c-9c73-4aff-a6e9-790f0c836565\"\n",
    "            }\n",
    "        ],\n",
    "        \"inputs\": [\n",
    "            {\n",
    "                \"linkedin_company_url\": linkedin_url,\n",
    "                \"url\": linkedin_url\n",
    "            }\n",
    "        ],\n",
    "        \"job_name\": uid\n",
    "    }\n",
    "\n",
    "    response = requests.post(url, headers=headers, data=json.dumps(body))\n",
    "    result= json.loads(response.text)\n",
    "    print(result['uid'])\n",
    "\n",
    "def status_job(job_uid, captain_data_api_key):\n",
    "    job_uid = '41f38992-6064-46f1-a2c7-9df462a29bb5'\n",
    "    url = \"https://api.captaindata.co/v3/jobs/\"+job_uid+\"/results\"\n",
    "    auth = \"x-api-key \" + captain_data_api_key\n",
    "    headers = {\n",
    "        \"Content-Type\": \"application/json\",\n",
    "        \"x-project-id\": \"24dc2e2c-d2e6-433e-81d2-2f87bc87b59d\",\n",
    "        \"Authorization\": auth\n",
    "    }\n",
    "    response = requests.get(url, headers=headers)\n"
   ]
  },
  {
   "cell_type": "code",
   "execution_count": 51,
   "metadata": {},
   "outputs": [
    {
     "name": "stdout",
     "output_type": "stream",
     "text": [
      "eb0832aa-38d8-435f-8869-c4f53b00d747\n",
      "{'uid': 'linkedin', 'title': 'LinkedIn'}\n",
      "Victor Cariou\n",
      "efbb4db4-c60b-4ff5-b6dd-25560894c8aa\n",
      "{'uid': 'linkedin', 'title': 'LinkedIn'}\n",
      "Johann Lemena\n",
      "a4960e9d-52d4-4b6f-8fff-b606034bc8ad\n",
      "{'uid': 'linkedin', 'title': 'LinkedIn'}\n",
      "Arthur Morizur\n",
      "077bf979-0b37-4ed6-a349-d3dee297aaeb\n",
      "{'uid': 'linkedin', 'title': 'LinkedIn'}\n",
      "Victor Alexandrian\n",
      "3dad7d0a-25d5-4dfb-8e16-690006957061\n",
      "{'uid': 'linkedin', 'title': 'LinkedIn'}\n",
      "Etienne Dubois\n",
      "d9bfcd2c-25d5-477c-a77f-33c2082c3ea1\n",
      "{'uid': 'linkedin', 'title': 'LinkedIn'}\n",
      "Benjamin Donteville\n",
      "Aucun compte LinkedIn n'est actuellement valide sur Captain Data\n"
     ]
    }
   ],
   "source": [
    "for i in range(len(result['accounts'])):\n",
    "    if result['accounts'][i]['is_valid'] == True:\n",
    "        uid = result['accounts'][i]['uid']\n",
    "        print(result['integration'])\n",
    "        print(result['accounts'][i]['name'])\n",
    "#return 'Aucun compte LinkedIn n\\'est actuellement valide sur Captain Data'\n",
    "print('Aucun compte LinkedIn n\\'est actuellement valide sur Captain Data')\n",
    "#print(result['accounts'][0]['is_valid'])"
   ]
  },
  {
   "cell_type": "code",
   "execution_count": 14,
   "metadata": {},
   "outputs": [
    {
     "name": "stdout",
     "output_type": "stream",
     "text": [
      "{'setup_at': '2023-02-06T16:23:23.114398', 'name': 'Victor Cariou', 'cookies': {'JSESSIONID': '\"ajax:3377178882135116813\"', 'li_a': None, 'li_at': 'AQEDASOu32kEADNMAAABhieJn4kAAAGGS5YjiVYAlbCNbWoTpTTM9B_qc6Et6ZdlPvM0tfkDsl3KeJavcaCxbALylTQCFgWf9qtZUC1m3JQ_jzX-vDSmOT9XZFFvh25P88sc8UrkzfJ24pOJ_FqO_rSw'}, 'via_extension': True, 'is_shared': True, 'level': 'Sales Navigator', 'is_valid': True, 'uid': 'eb0832aa-38d8-435f-8869-c4f53b00d747', 'application_permalink': 'linkedin', 'application_name': 'LinkedIn'}\n"
     ]
    }
   ],
   "source": [
    "print(result['accounts'][0])"
   ]
  },
  {
   "cell_type": "code",
   "execution_count": 56,
   "metadata": {},
   "outputs": [
    {
     "name": "stdout",
     "output_type": "stream",
     "text": [
      "{\"template\":null,\"workflow\":{\"uid\":\"b7aaec34-6e36-40b3-9f1f-376276d07af1\",\"permalink\":\"clay-extract-linkedin-company-profile3d301bbe-34fa-4514-9e30-a7cc2d446654\",\"name\":\"CLAY - Extract LinkedIn Company Profile\",\"created_at\":\"2023-02-03T14:37:00.586478\",\"project_id\":2774,\"linked_templates\":[\"8e315ab4-bce9-47ca-aaad-66defed46c61\"],\"template_uid\":\"8e315ab4-bce9-47ca-aaad-66defed46c61\"},\"message\":\"Bot successfully scheduled.\",\"job_uid\":\"ac4b0a72-e543-4865-aac8-c552e177e4ba\"}\n"
     ]
    }
   ],
   "source": [
    "linkedinUrl = 'https://www.linkedin.com/company/reveal-group'\n",
    "uid = \"eb0832aa-38d8-435f-8869-c4f53b00d747\"\n",
    "url = \"https://api.captaindata.co/v3/workflows/b7aaec34-6e36-40b3-9f1f-376276d07af1/schedule\"\n",
    "\n",
    "headers = {\n",
    "    \"Content-Type\": \"application/json\",\n",
    "    \"x-project-id\": \"24dc2e2c-d2e6-433e-81d2-2f87bc87b59d\",\n",
    "    \"Authorization\": \"x-api-key feecb369cafafe86a22255bca8b6293a4c7a2281bd751d453f06693af32f458d\"\n",
    "}\n",
    "\n",
    "body = {\n",
    "    \"steps\": [\n",
    "        {\n",
    "            \"accounts\": [\n",
    "                uid\n",
    "            ],\n",
    "            \"parameters\": {\n",
    "                \"extractOpenPositions\": False\n",
    "            },\n",
    "            \"output_column\": None,\n",
    "            \"step_uid\": \"964f6c7c-9c73-4aff-a6e9-790f0c836565\"\n",
    "        }\n",
    "    ],\n",
    "    \"inputs\": [\n",
    "        {\n",
    "            \"linkedin_company_url\": linkedinUrl,\n",
    "            \"url\": linkedinUrl\n",
    "        }\n",
    "    ],\n",
    "    \"job_name\": uid\n",
    "}\n",
    "\n",
    "response = requests.post(url, headers=headers, data=json.dumps(body))\n",
    "result= json.loads(response.text)\n",
    "print(response.text)\n",
    "\n",
    "\n"
   ]
  },
  {
   "cell_type": "code",
   "execution_count": 60,
   "metadata": {},
   "outputs": [
    {
     "name": "stdout",
     "output_type": "stream",
     "text": [
      "ac4b0a72-e543-4865-aac8-c552e177e4ba\n"
     ]
    }
   ],
   "source": [
    "print(result['job_uid'])"
   ]
  },
  {
   "cell_type": "code",
   "execution_count": 48,
   "metadata": {},
   "outputs": [],
   "source": [
    "url = \"https://api.captaindata.co/v3/jobs/\"+'ac4b0a72-e543-4865-aac8-c552e177e4ba'+\"/results\"\n",
    "\n",
    "headers = {\n",
    "    \"Content-Type\": \"application/json\",\n",
    "    \"x-project-id\": \"24dc2e2c-d2e6-433e-81d2-2f87bc87b59d\",\n",
    "    \"Authorization\": \"x-api-key feecb369cafafe86a22255bca8b6293a4c7a2281bd751d453f06693af32f458d\"\n",
    "}\n",
    "response = requests.get(url, headers=headers)"
   ]
  },
  {
   "cell_type": "markdown",
   "metadata": {},
   "source": []
  },
  {
   "cell_type": "code",
   "execution_count": 55,
   "metadata": {},
   "outputs": [],
   "source": [
    "js= json.loads(response.text)"
   ]
  },
  {
   "cell_type": "code",
   "execution_count": 46,
   "metadata": {},
   "outputs": [],
   "source": [
    "job_uid = '834bb390-046a-40f8-ae12-94a872d0e893'\n",
    "url = \"https://api.captaindata.co/v3/jobs/\"+job_uid+\"/results\"\n",
    "\n",
    "headers = {\n",
    "    \"Content-Type\": \"application/json\",\n",
    "    \"x-project-id\": \"24dc2e2c-d2e6-433e-81d2-2f87bc87b59d\",\n",
    "    \"Authorization\": \"x-api-key feecb369cafafe86a22255bca8b6293a4c7a2281bd751d453f06693af32f458d\"\n",
    "}\n",
    "response = requests.get(url, headers=headers)"
   ]
  },
  {
   "cell_type": "code",
   "execution_count": 47,
   "metadata": {},
   "outputs": [
    {
     "ename": "NameError",
     "evalue": "name 'response' is not defined",
     "output_type": "error",
     "traceback": [
      "\u001b[0;31m---------------------------------------------------------------------------\u001b[0m",
      "\u001b[0;31mNameError\u001b[0m                                 Traceback (most recent call last)",
      "Cell \u001b[0;32mIn[47], line 1\u001b[0m\n\u001b[0;32m----> 1\u001b[0m \u001b[39mprint\u001b[39m(response\u001b[39m.\u001b[39mtext)\n",
      "\u001b[0;31mNameError\u001b[0m: name 'response' is not defined"
     ]
    }
   ],
   "source": [
    "print(response.text)"
   ]
  },
  {
   "cell_type": "code",
   "execution_count": 67,
   "metadata": {},
   "outputs": [
    {
     "name": "stdout",
     "output_type": "stream",
     "text": [
      "[{'updated_at': '2023-02-09T10:21:56.148000', 'company_name': 'Reveal Group', 'name': 'Reveal Group', 'specialties': ['Operations Management', 'Workforce Management', 'Robotic Process Automation', 'Performance Management', 'Change Management', 'Enterprise Transformation', 'Business Process Management (BPM) Software', 'Business Process Automation Software', 'Intelligent Automation'], 'specialities': ['Operations Management', 'Workforce Management', 'Robotic Process Automation', 'Performance Management', 'Change Management', 'Enterprise Transformation', 'Business Process Management (BPM) Software', 'Business Process Automation Software', 'Intelligent Automation'], 'tagline': 'We help organizations #AutomateBetter. Proud UiPath USN Partner + only Blue Prism Double Platinum Partner. ', 'linkedin_company_id': '77340', 'id': '77340', 'description': \"Reveal Group is your Intelligent Automation services company. We have been helping clients to Automate Better since 2005. Reveal Group is focused on delivering technology-driven, innovative consulting services that accelerate change, reduce costs and improve the overall performance of our clients around the world. US-headquartered, Australian-founded, with locally-based teams across North America and Asia Pacific, we’ve enjoyed 15 years of uninterrupted growth to be recognized as an international leader in Intelligent Automation services.\\n\\nOur team is dynamic, innovative, and always ready to help enhance our clients' capabilities so they can actively participate and lead the ongoing processes while building sustainable value for stakeholders.\", 'type': 'Privately Held', 'founded_on': 2005, 'year_founded': 2005, 'linkedin_company_url': 'https://www.linkedin.com/company/reveal-group/', 'linkedin_url': 'https://www.linkedin.com/company/reveal-group/', 'website': 'http://www.revealgroup.com', 'phone': '+1 929-388-7551', 'phones': ['+1 929-388-7551'], 'sales_navigator_url': 'https://www.linkedin.com/sales/company/77340', 'industries': ['Management Consulting'], 'industry': 'Management Consulting', 'category': 'Management Consulting', 'linkedin_job_search_url': 'https://www.linkedin.com/jobs/search?geoId=92000000&f_C=77340', 'followers_count': 7277, 'number_employees': 115, 'employees_count': 115, 'employees_range': '51 - 200', 'employees_estimate': '51 - 200', 'employees_url': 'https://www.linkedin.com/search/results/people/?currentCompany=%5B%2277340%22%5D', 'sales_navigator_employees_url': 'https://www.linkedin.com/sales/search/people?companyIncluded=Reveal%20Group%3A77340&companyTimeScope=CURRENT', 'country': 'US', 'geographic_area': 'New York', 'city': 'New York', 'postal_code': '10017', 'headquarters': '330 Madison Ave, 10017, New York, US', 'locations': [{'geographic_area': 'New York', 'address': '330 Madison Ave, 10017, New York, US', 'street': '330 Madison Ave', 'postal_code': '10017', 'city': 'New York', 'country': 'US'}, {'geographic_area': 'Victoria', 'address': '10 Cremorne St, 3121, Melbourne, AU', 'street': '10 Cremorne St', 'postal_code': '3121', 'city': 'Melbourne', 'country': 'AU'}, {'geographic_area': 'New South Wales', 'address': '26-28 Wentworth Ave, 2010, Surry Hills, AU', 'street': '26-28 Wentworth Ave', 'postal_code': '2010', 'city': 'Surry Hills', 'country': 'AU'}, {'geographic_area': 'Ontario', 'address': '212 King St W, M5H 1K5, Toronto, CA', 'street': '212 King St W', 'postal_code': 'M5H 1K5', 'city': 'Toronto', 'country': 'CA'}, {'geographic_area': 'England', 'address': 'Great Newport Street, WC2H 7JA, London, GB', 'street': 'Great Newport Street', 'postal_code': 'WC2H 7JA', 'city': 'London', 'country': 'GB'}], 'location': {'geographic_area': 'New York', 'address': '330 Madison Ave, 10017, New York, US', 'street': '330 Madison Ave', 'postal_code': '10017', 'city': 'New York', 'country': 'US'}, 'last_funding_investors': [], 'crunchbase_url': None, 'last_funding_date': None, 'last_funding_type': None, 'last_funding_raised': None, 'last_funding_currency': None, 'logo_url': 'https://media.licdn.com/dms/image/C4E0BAQETo08iu1rIJw/company-logo_200_200/0/1675707823975?e=1683763200&v=beta&t=IMEukJMG5ju0dJq6L6LUih2VBV5Ic-hIsnu7fkKRr3Y', 'domain': 'revealgroup.com', 'linkedin_school_id': None, 'school_id': None, 'sales_navigator_company_url': 'https://www.linkedin.com/sales/company/77340', 'extracted_at': '2023-02-09T10:21:56.151000', 'start_url': 'https://www.linkedin.com/company/reveal-group', 'meta': None}]\n"
     ]
    }
   ],
   "source": [
    "print(js['results'])"
   ]
  },
  {
   "cell_type": "code",
   "execution_count": 77,
   "metadata": {},
   "outputs": [
    {
     "name": "stdout",
     "output_type": "stream",
     "text": [
      "2023-02-09T10:21:56.151000\n"
     ]
    }
   ],
   "source": [
    "print(str(js['results'][0]['extracted_at']))"
   ]
  },
  {
   "cell_type": "code",
   "execution_count": null,
   "metadata": {},
   "outputs": [],
   "source": [
    "universal_name = js['results'][0]['name']\n",
    "linkedin_id = js['results'][0]['id']\n",
    "linkedin_year_founded = js['results'][0]['year_founded']\n",
    "linkedin_countr = js['results'][0]['country']\n",
    "linkedin_employees_count = js['results'][0]['employees_count']\n",
    "linkedin_industry = js['results'][0]['industry']\n",
    "linkedin_employee_range = js['results'][0]['employees_range']\n",
    "linkedin_extracted_at = str(js['results'][0]['extracted_at'])\n",
    "\n",
    "\n",
    "\n",
    "\n",
    "\n"
   ]
  }
 ],
 "metadata": {
  "kernelspec": {
   "display_name": "scalability",
   "language": "python",
   "name": "python3"
  },
  "language_info": {
   "codemirror_mode": {
    "name": "ipython",
    "version": 3
   },
   "file_extension": ".py",
   "mimetype": "text/x-python",
   "name": "python",
   "nbconvert_exporter": "python",
   "pygments_lexer": "ipython3",
   "version": "3.9.16"
  },
  "orig_nbformat": 4,
  "vscode": {
   "interpreter": {
    "hash": "b60ab2796edb0fa4c35c6c90836e2226f22659e294f5ecc95ef72f59cdf46ba8"
   }
  }
 },
 "nbformat": 4,
 "nbformat_minor": 2
}
