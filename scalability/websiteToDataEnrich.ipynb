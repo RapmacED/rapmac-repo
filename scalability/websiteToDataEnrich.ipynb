{
 "cells": [
  {
   "cell_type": "code",
   "execution_count": 1,
   "metadata": {},
   "outputs": [
    {
     "name": "stderr",
     "output_type": "stream",
     "text": [
      "/Users/raph/Documents/rapmac-repo/.virtualenvs/scalability/lib/python3.9/site-packages/snowflake/connector/options.py:96: UserWarning: You have an incompatible version of 'pyarrow' installed (11.0.0), please install a version that adheres to: 'pyarrow<10.1.0,>=10.0.1; extra == \"pandas\"'\n",
      "  warn_incompatible_dep(\n",
      "Failed to import ArrowResult. No Apache Arrow result set format can be used. ImportError: dlopen(/Users/raph/Documents/rapmac-repo/.virtualenvs/scalability/lib/python3.9/site-packages/snowflake/connector/arrow_iterator.cpython-39-darwin.so, 0x0002): symbol not found in flat namespace '__ZN5arrow17Decimal128BuilderC1ERKNSt3__110shared_ptrINS_8DataTypeEEEPNS_10MemoryPoolE'\n"
     ]
    }
   ],
   "source": [
    "import requests\n",
    "import os \n",
    "import snowflake.connector\n",
    "import time\n",
    "import json\n",
    "import flask"
   ]
  },
  {
   "cell_type": "code",
   "execution_count": 18,
   "metadata": {},
   "outputs": [],
   "source": [
    "def getDomain(url):\n",
    "    url = url.replace(\"https://www.\", \"\").replace(\"http://www.\", \"\").replace(\"www.\",\"\")\n",
    "    return url\n",
    "\n",
    "def querySFCompany(domain):\n",
    "    return \"select count(*) from dbt_db.models_final.final_companies_flatten where COMPANY_DOMAIN LIKE '\" +domain+\"'\"\n",
    "\n",
    "def scrappingURL1(domain):\n",
    "    return \"https://app.scrapingbee.com/api/v1/?api_key=MLINMYF4NZMFT3WA37AGIJ54AP10F86H8TDXSFNJSOIG3NRXMKXE04JSEWID422DT3SDOPEHPE2F3VKC&url=http://www.\"+domain+\"&render_js=false&extract_rules={%22links%22:%20{%22selector%22:%20%22//a[contains(@href,%27linkedin.com/company%27)]%22,%20%22type%22:%20%22list%22,%20%22output%22:%20%22@href%22}}\"\n",
    "\n",
    "def scrappingURL2(domain):\n",
    "    return \"https://app.scrapingbee.com/api/v1/?api_key=MLINMYF4NZMFT3WA37AGIJ54AP10F86H8TDXSFNJSOIG3NRXMKXE04JSEWID422DT3SDOPEHPE2F3VKC&url=https%3A%2F%2Fwww.google.com%2Fsearch%3Fq%3Dsite%253Alinkedin.com%252Fcompany%2B\"+domain+\"&extract_rules=%7B%22first_link%22%3A%7B%22selector%22%3A%22%23search%20a%22%2C%22output%22%3A%22%40href%22%7D%7D&custom_google=True\""
   ]
  },
  {
   "cell_type": "code",
   "execution_count": 61,
   "metadata": {},
   "outputs": [],
   "source": [
    "url=\"reveal.com\""
   ]
  },
  {
   "cell_type": "code",
   "execution_count": 26,
   "metadata": {},
   "outputs": [
    {
     "name": "stdout",
     "output_type": "stream",
     "text": [
      "(0,)\n"
     ]
    }
   ],
   "source": [
    "url=\"reveal.com\"\n",
    "query = querySFCompany(getDomain(url))\n",
    "DATABASE='dbt_db'\n",
    "SCHEMA='models.final'\n",
    "ctx = snowflake.connector.connect(\n",
    "    user=os.environ['USER_SNOWFLAKE'],\n",
    "    password=os.environ['PASSWORD_SNOWFLAKE'],\n",
    "    account=os.environ['ACCOUNT_SNOWFLAKE'],\n",
    "    warehouse='COMPUTE_WH',\n",
    "    database=DATABASE,\n",
    "    schema=SCHEMA\n",
    "    )\n",
    "cs = ctx.cursor()\n",
    "cs.execute(query)\n",
    "query_id = cs.sfqid\n",
    "while ctx.is_still_running(ctx.get_query_status(query_id)):\n",
    "  time.sleep(1)\n",
    "cs.get_results_from_sfqid(query_id)\n",
    "results = cs.fetchall()\n",
    "print(f'{results[0]}')\n",
    "ctx.close()"
   ]
  },
  {
   "cell_type": "code",
   "execution_count": 45,
   "metadata": {},
   "outputs": [
    {
     "name": "stdout",
     "output_type": "stream",
     "text": [
      "{\"links\": []}\n"
     ]
    }
   ],
   "source": [
    "x = requests.get(scrappingURL1(getDomain(url)))\n",
    "print(x.text)\n",
    "result = json.loads(x.text)"
   ]
  },
  {
   "cell_type": "code",
   "execution_count": 46,
   "metadata": {},
   "outputs": [
    {
     "name": "stdout",
     "output_type": "stream",
     "text": [
      "{'links': []}\n"
     ]
    },
    {
     "data": {
      "text/plain": [
       "1"
      ]
     },
     "execution_count": 46,
     "metadata": {},
     "output_type": "execute_result"
    }
   ],
   "source": [
    "print(result)\n",
    "len(result)"
   ]
  },
  {
   "cell_type": "code",
   "execution_count": 47,
   "metadata": {},
   "outputs": [
    {
     "name": "stdout",
     "output_type": "stream",
     "text": [
      "https://www.linkedin.com/company/reveal-group\n"
     ]
    }
   ],
   "source": [
    "if len(result['links']) == 0:\n",
    "    result = json.loads(requests.get(scrappingURL2(getDomain(url))).text)\n",
    "    print(result['first_link'])\n",
    "elif len(result['links']) != 0 :\n",
    "    print(result['links'][0])"
   ]
  },
  {
   "cell_type": "code",
   "execution_count": 48,
   "metadata": {},
   "outputs": [
    {
     "name": "stdout",
     "output_type": "stream",
     "text": [
      "{'integration': {'uid': 'linkedin', 'title': 'LinkedIn'}, 'accounts': [{'setup_at': '2023-02-06T16:23:23.114398', 'name': 'Victor Cariou', 'cookies': {'JSESSIONID': '\"ajax:3377178882135116813\"', 'li_a': None, 'li_at': 'AQEDASOu32kEADNMAAABhieJn4kAAAGGS5YjiVYAlbCNbWoTpTTM9B_qc6Et6ZdlPvM0tfkDsl3KeJavcaCxbALylTQCFgWf9qtZUC1m3JQ_jzX-vDSmOT9XZFFvh25P88sc8UrkzfJ24pOJ_FqO_rSw'}, 'via_extension': True, 'is_shared': True, 'level': 'Sales Navigator', 'is_valid': True, 'uid': 'eb0832aa-38d8-435f-8869-c4f53b00d747', 'application_permalink': 'linkedin', 'application_name': 'LinkedIn'}, {'setup_at': '2023-02-06T14:53:48.823359', 'name': 'Johann Lemena', 'cookies': {'JSESSIONID': '\"ajax:3458321767039518452\"', 'li_a': 'AQJ2PTEmc2FsZXNfY2lkPTQ5OTE2NDcwMiUzQSUzQTQ0NDIxMDAwN5l_w2kphKDfMQbZqRNsR_Cp7KB2', 'li_at': 'AQEDATLHmdQCGXV4AAABhhIru0QAAAGGNjg_RE4An5V_jUj8ccJEz2YvQzPj-Au-Q5f2JADCMXvsU4vXjM_pQRO4pIbvfx-E9KnYlJWLdtDNCU0iYbbeCZ5852iP7udccM-KsXx8WYp9zPFtCtLA0CpR'}, 'via_extension': True, 'is_shared': True, 'level': 'Sales Navigator', 'is_valid': True, 'uid': 'efbb4db4-c60b-4ff5-b6dd-25560894c8aa', 'application_permalink': 'linkedin', 'application_name': 'LinkedIn'}, {'setup_at': '2023-02-06T11:02:54.823810', 'name': 'Arthur Morizur', 'cookies': {'JSESSIONID': '\"ajax:1640323011078317814\"', 'li_a': 'AQJ2PTEmc2FsZXNfY2lkPTQ5OTE2NDcwMiUzQSUzQTM3NDM2MjUwN5p1X5hm8aRxGf-13bSBvfA4zCc8', 'li_at': 'AQEDASNix-8DbR7eAAABhhgoy8MAAAGGPDVPw04A0GDa4CstBImfGcpfrNTXImlrR6b9jDcbDRMzbTqEDkhwWK2Czkf7VOPkt5kpun6G2NuCVN2doVxoY5eJJDQUPHlct4MOe8ZgiHP8kuMrpfU3BcdH'}, 'via_extension': True, 'is_shared': True, 'level': 'Sales Navigator', 'is_valid': True, 'uid': 'a4960e9d-52d4-4b6f-8fff-b606034bc8ad', 'application_permalink': 'linkedin', 'application_name': 'LinkedIn'}, {'setup_at': '2023-02-08T09:08:22.372715', 'name': 'Victor Alexandrian', 'cookies': {'JSESSIONID': '\"ajax:8125698718514954526\"', 'li_a': 'AQJ2PTEmc2FsZXNfY2lkPTQ5OTE2NDcwMiUzQSUzQTQ2OTQzMzUwN8r7y4VXk9LerPstXJjppx7-7608', 'li_at': 'AQEDARcBvEIDvYAsAAABhieKHrMAAAGGS5ais04ADYqON9Njx7MbM1BWU3dEzIWPQBUfomgNRq_DJCT6V36WSOI_W4vs31gRpaLXbuyKUhp0pFR3d85SE5M8U7KA4SC7PZ47FqRGo_zSeNsp30_x1R_W'}, 'via_extension': True, 'is_shared': False, 'level': 'Sales Navigator', 'is_valid': True, 'uid': '077bf979-0b37-4ed6-a349-d3dee297aaeb', 'application_permalink': 'linkedin', 'application_name': 'LinkedIn'}, {'setup_at': '2023-02-06T15:50:57.668324', 'name': 'Etienne Dubois', 'cookies': {'JSESSIONID': '\"ajax:1963693786369523596\"', 'li_a': 'AQJ2PTEmc2FsZXNfY2lkPTQ5OTE2NDcwMiUzQSUzQTM2NDc2NDUwN-4a0WrbEDk-2t8YSkweD6pKp7Ec', 'li_at': 'AQEDAR-8I4gB0aiwAAABhhGLDeIAAAGGNZeR4k4Ah-Y9xI9z7puvNy9X1fQhFe1IxKU118VqLzG8ZL5Orn1bAt55nJryJ2Rbq0vgnxwSgr3Wpl1qXayWUYU8tatKIdSwNh7phG6AVfaJCr1yQPLaLlvN'}, 'via_extension': True, 'is_shared': False, 'level': 'Sales Navigator', 'is_valid': True, 'uid': '3dad7d0a-25d5-4dfb-8e16-690006957061', 'application_permalink': 'linkedin', 'application_name': 'LinkedIn'}, {'setup_at': '2023-02-02T15:06:52.562064', 'name': 'Benjamin Donteville', 'cookies': {'JSESSIONID': '\"ajax:0607834954110388042\"', 'li_a': None, 'li_at': 'AQEDARcfTM8BdYYgAAABhhKN_MoAAAGGNpqAyk4ATxdq1QATcVfyIeQskrhz4asePS869cxEbGb4W1WiR_V5e-ufO22ou6zbrupFSOpDyuDK0bC_g55cy7kRzI4IAvGFOs1bvlZRoK2ZNp35z_0Ubv8Q'}, 'via_extension': True, 'is_shared': False, 'level': 'Sales Navigator', 'is_valid': True, 'uid': 'd9bfcd2c-25d5-477c-a77f-33c2082c3ea1', 'application_permalink': 'linkedin', 'application_name': 'LinkedIn'}], 'next_page_exist': False, 'number_total_acounts': 6}\n"
     ]
    }
   ],
   "source": [
    "url = \"https://api.captaindata.co/v3/integrations/linkedin/accounts?page=0\"\n",
    "\n",
    "headers = {\n",
    "    \"Content-Type\": \"application/json\",\n",
    "    \"x-project-id\": \"24dc2e2c-d2e6-433e-81d2-2f87bc87b59d\",\n",
    "    \"Authorization\": \"x-api-key feecb369cafafe86a22255bca8b6293a4c7a2281bd751d453f06693af32f458d\"\n",
    "}\n",
    "\n",
    "response = requests.get(url, headers=headers)\n",
    "result= json.loads(response.text)\n",
    "print(result)"
   ]
  },
  {
   "cell_type": "code",
   "execution_count": 51,
   "metadata": {},
   "outputs": [
    {
     "name": "stdout",
     "output_type": "stream",
     "text": [
      "eb0832aa-38d8-435f-8869-c4f53b00d747\n",
      "{'uid': 'linkedin', 'title': 'LinkedIn'}\n",
      "Victor Cariou\n",
      "efbb4db4-c60b-4ff5-b6dd-25560894c8aa\n",
      "{'uid': 'linkedin', 'title': 'LinkedIn'}\n",
      "Johann Lemena\n",
      "a4960e9d-52d4-4b6f-8fff-b606034bc8ad\n",
      "{'uid': 'linkedin', 'title': 'LinkedIn'}\n",
      "Arthur Morizur\n",
      "077bf979-0b37-4ed6-a349-d3dee297aaeb\n",
      "{'uid': 'linkedin', 'title': 'LinkedIn'}\n",
      "Victor Alexandrian\n",
      "3dad7d0a-25d5-4dfb-8e16-690006957061\n",
      "{'uid': 'linkedin', 'title': 'LinkedIn'}\n",
      "Etienne Dubois\n",
      "d9bfcd2c-25d5-477c-a77f-33c2082c3ea1\n",
      "{'uid': 'linkedin', 'title': 'LinkedIn'}\n",
      "Benjamin Donteville\n",
      "Aucun compte LinkedIn n'est actuellement valide sur Captain Data\n"
     ]
    }
   ],
   "source": [
    "for i in range(len(result['accounts'])):\n",
    "    if result['accounts'][i]['is_valid'] == True:\n",
    "        uid = result['accounts'][i]['uid']\n",
    "        print(result['integration'])\n",
    "        print(result['accounts'][i]['name'])\n",
    "#return 'Aucun compte LinkedIn n\\'est actuellement valide sur Captain Data'\n",
    "print('Aucun compte LinkedIn n\\'est actuellement valide sur Captain Data')\n",
    "#print(result['accounts'][0]['is_valid'])"
   ]
  },
  {
   "cell_type": "code",
   "execution_count": 14,
   "metadata": {},
   "outputs": [
    {
     "name": "stdout",
     "output_type": "stream",
     "text": [
      "{'setup_at': '2023-02-06T16:23:23.114398', 'name': 'Victor Cariou', 'cookies': {'JSESSIONID': '\"ajax:3377178882135116813\"', 'li_a': None, 'li_at': 'AQEDASOu32kEADNMAAABhieJn4kAAAGGS5YjiVYAlbCNbWoTpTTM9B_qc6Et6ZdlPvM0tfkDsl3KeJavcaCxbALylTQCFgWf9qtZUC1m3JQ_jzX-vDSmOT9XZFFvh25P88sc8UrkzfJ24pOJ_FqO_rSw'}, 'via_extension': True, 'is_shared': True, 'level': 'Sales Navigator', 'is_valid': True, 'uid': 'eb0832aa-38d8-435f-8869-c4f53b00d747', 'application_permalink': 'linkedin', 'application_name': 'LinkedIn'}\n"
     ]
    }
   ],
   "source": [
    "print(result['accounts'][0])"
   ]
  },
  {
   "cell_type": "code",
   "execution_count": 56,
   "metadata": {},
   "outputs": [
    {
     "name": "stdout",
     "output_type": "stream",
     "text": [
      "{\"template\":null,\"workflow\":{\"uid\":\"b7aaec34-6e36-40b3-9f1f-376276d07af1\",\"permalink\":\"clay-extract-linkedin-company-profile3d301bbe-34fa-4514-9e30-a7cc2d446654\",\"name\":\"CLAY - Extract LinkedIn Company Profile\",\"created_at\":\"2023-02-03T14:37:00.586478\",\"project_id\":2774,\"linked_templates\":[\"8e315ab4-bce9-47ca-aaad-66defed46c61\"],\"template_uid\":\"8e315ab4-bce9-47ca-aaad-66defed46c61\"},\"message\":\"Bot successfully scheduled.\",\"job_uid\":\"ac4b0a72-e543-4865-aac8-c552e177e4ba\"}\n"
     ]
    }
   ],
   "source": [
    "linkedinUrl = 'https://www.linkedin.com/company/reveal-group'\n",
    "uid = \"eb0832aa-38d8-435f-8869-c4f53b00d747\"\n",
    "url = \"https://api.captaindata.co/v3/workflows/b7aaec34-6e36-40b3-9f1f-376276d07af1/schedule\"\n",
    "\n",
    "headers = {\n",
    "    \"Content-Type\": \"application/json\",\n",
    "    \"x-project-id\": \"24dc2e2c-d2e6-433e-81d2-2f87bc87b59d\",\n",
    "    \"Authorization\": \"x-api-key feecb369cafafe86a22255bca8b6293a4c7a2281bd751d453f06693af32f458d\"\n",
    "}\n",
    "\n",
    "body = {\n",
    "    \"steps\": [\n",
    "        {\n",
    "            \"accounts\": [\n",
    "                uid\n",
    "            ],\n",
    "            \"parameters\": {\n",
    "                \"extractOpenPositions\": False\n",
    "            },\n",
    "            \"output_column\": None,\n",
    "            \"step_uid\": \"964f6c7c-9c73-4aff-a6e9-790f0c836565\"\n",
    "        }\n",
    "    ],\n",
    "    \"inputs\": [\n",
    "        {\n",
    "            \"linkedin_company_url\": linkedinUrl,\n",
    "            \"url\": linkedinUrl\n",
    "        }\n",
    "    ],\n",
    "    \"job_name\": uid\n",
    "}\n",
    "\n",
    "response = requests.post(url, headers=headers, data=json.dumps(body))\n",
    "result= json.loads(response.text)\n",
    "print(response.text)\n",
    "\n",
    "\n"
   ]
  },
  {
   "cell_type": "code",
   "execution_count": 60,
   "metadata": {},
   "outputs": [
    {
     "name": "stdout",
     "output_type": "stream",
     "text": [
      "ac4b0a72-e543-4865-aac8-c552e177e4ba\n"
     ]
    }
   ],
   "source": [
    "print(result['job_uid'])"
   ]
  },
  {
   "cell_type": "code",
   "execution_count": 54,
   "metadata": {},
   "outputs": [],
   "source": [
    "url = \"https://api.captaindata.co/v3/jobs/\"+'19fb276a-f722-40ee-9295-60e648227aa9'+\"/results\"\n",
    "\n",
    "headers = {\n",
    "    \"Content-Type\": \"application/json\",\n",
    "    \"x-project-id\": \"24dc2e2c-d2e6-433e-81d2-2f87bc87b59d\",\n",
    "    \"Authorization\": \"x-api-key feecb369cafafe86a22255bca8b6293a4c7a2281bd751d453f06693af32f458d\"\n",
    "}\n",
    "response = requests.get(url, headers=headers)"
   ]
  },
  {
   "cell_type": "code",
   "execution_count": 55,
   "metadata": {},
   "outputs": [
    {
     "name": "stdout",
     "output_type": "stream",
     "text": [
      "{\"items_count\":1,\"pages\":1,\"limit\":1000,\"results\":[{\"updated_at\":\"2023-02-09T10:15:24.570000\",\"company_name\":\"Reveal Group\",\"name\":\"Reveal Group\",\"specialties\":[\"Operations Management\",\"Workforce Management\",\"Robotic Process Automation\",\"Performance Management\",\"Change Management\",\"Enterprise Transformation\",\"Business Process Management (BPM) Software\",\"Business Process Automation Software\",\"Intelligent Automation\"],\"specialities\":[\"Operations Management\",\"Workforce Management\",\"Robotic Process Automation\",\"Performance Management\",\"Change Management\",\"Enterprise Transformation\",\"Business Process Management (BPM) Software\",\"Business Process Automation Software\",\"Intelligent Automation\"],\"tagline\":\"We help organizations #AutomateBetter. Proud UiPath USN Partner + only Blue Prism Double Platinum Partner. \",\"linkedin_company_id\":\"77340\",\"id\":\"77340\",\"description\":\"Reveal Group is your Intelligent Automation services company. We have been helping clients to Automate Better since 2005. Reveal Group is focused on delivering technology-driven, innovative consulting services that accelerate change, reduce costs and improve the overall performance of our clients around the world. US-headquartered, Australian-founded, with locally-based teams across North America and Asia Pacific, we’ve enjoyed 15 years of uninterrupted growth to be recognized as an international leader in Intelligent Automation services.\\n\\nOur team is dynamic, innovative, and always ready to help enhance our clients' capabilities so they can actively participate and lead the ongoing processes while building sustainable value for stakeholders.\",\"type\":\"Privately Held\",\"founded_on\":2005,\"year_founded\":2005,\"linkedin_company_url\":\"https://www.linkedin.com/company/reveal-group/\",\"linkedin_url\":\"https://www.linkedin.com/company/reveal-group/\",\"website\":\"http://www.revealgroup.com\",\"phone\":\"+1 929-388-7551\",\"phones\":[\"+1 929-388-7551\"],\"sales_navigator_url\":\"https://www.linkedin.com/sales/company/77340\",\"industries\":[\"Management Consulting\"],\"industry\":\"Management Consulting\",\"category\":\"Management Consulting\",\"linkedin_job_search_url\":\"https://www.linkedin.com/jobs/search?geoId=92000000&f_C=77340\",\"followers_count\":7276,\"number_employees\":115,\"employees_count\":115,\"employees_range\":\"51 - 200\",\"employees_estimate\":\"51 - 200\",\"employees_url\":\"https://www.linkedin.com/search/results/people/?currentCompany=%5B%2277340%22%5D\",\"sales_navigator_employees_url\":\"https://www.linkedin.com/sales/search/people?companyIncluded=Reveal%20Group%3A77340&companyTimeScope=CURRENT\",\"country\":\"US\",\"geographic_area\":\"New York\",\"city\":\"New York\",\"postal_code\":\"10017\",\"headquarters\":\"330 Madison Ave, 10017, New York, US\",\"locations\":[{\"geographic_area\":\"New York\",\"address\":\"330 Madison Ave, 10017, New York, US\",\"street\":\"330 Madison Ave\",\"postal_code\":\"10017\",\"city\":\"New York\",\"country\":\"US\"},{\"geographic_area\":\"Victoria\",\"address\":\"10 Cremorne St, 3121, Melbourne, AU\",\"street\":\"10 Cremorne St\",\"postal_code\":\"3121\",\"city\":\"Melbourne\",\"country\":\"AU\"},{\"geographic_area\":\"New South Wales\",\"address\":\"26-28 Wentworth Ave, 2010, Surry Hills, AU\",\"street\":\"26-28 Wentworth Ave\",\"postal_code\":\"2010\",\"city\":\"Surry Hills\",\"country\":\"AU\"},{\"geographic_area\":\"Ontario\",\"address\":\"212 King St W, M5H 1K5, Toronto, CA\",\"street\":\"212 King St W\",\"postal_code\":\"M5H 1K5\",\"city\":\"Toronto\",\"country\":\"CA\"},{\"geographic_area\":\"England\",\"address\":\"Great Newport Street, WC2H 7JA, London, GB\",\"street\":\"Great Newport Street\",\"postal_code\":\"WC2H 7JA\",\"city\":\"London\",\"country\":\"GB\"}],\"location\":{\"geographic_area\":\"New York\",\"address\":\"330 Madison Ave, 10017, New York, US\",\"street\":\"330 Madison Ave\",\"postal_code\":\"10017\",\"city\":\"New York\",\"country\":\"US\"},\"last_funding_investors\":[],\"crunchbase_url\":null,\"last_funding_date\":null,\"last_funding_type\":null,\"last_funding_raised\":null,\"last_funding_currency\":null,\"logo_url\":\"https://media.licdn.com/dms/image/C4E0BAQETo08iu1rIJw/company-logo_200_200/0/1675707823975?e=1683763200&v=beta&t=IMEukJMG5ju0dJq6L6LUih2VBV5Ic-hIsnu7fkKRr3Y\",\"domain\":\"revealgroup.com\",\"linkedin_school_id\":null,\"school_id\":null,\"sales_navigator_company_url\":\"https://www.linkedin.com/sales/company/77340\",\"extracted_at\":\"2023-02-09T10:15:24.573000\",\"start_url\":\"https://www.linkedin.com/company/reveal-group\",\"meta\":null}],\"paging\":{\"previous\":null,\"next\":null,\"have_next_page\":false}}\n"
     ]
    }
   ],
   "source": [
    "print(response.text)"
   ]
  },
  {
   "cell_type": "code",
   "execution_count": 62,
   "metadata": {},
   "outputs": [],
   "source": [
    "job_uid = 'ab41a35a-2c5c-4143-ac71-675406bfeebc'\n",
    "url = \"https://api.captaindata.co/v3/jobs/\"+job_uid+\"/results\"\n",
    "\n",
    "headers = {\n",
    "    \"Content-Type\": \"application/json\",\n",
    "    \"x-project-id\": \"24dc2e2c-d2e6-433e-81d2-2f87bc87b59d\",\n",
    "    \"Authorization\": \"x-api-key feecb369cafafe86a22255bca8b6293a4c7a2281bd751d453f06693af32f458d\"\n",
    "}\n",
    "response = requests.get(url, headers=headers)"
   ]
  },
  {
   "cell_type": "code",
   "execution_count": 64,
   "metadata": {},
   "outputs": [
    {
     "name": "stdout",
     "output_type": "stream",
     "text": [
      "{\"items_count\":0,\"pages\":0,\"limit\":1000,\"results\":[],\"paging\":{\"previous\":null,\"next\":null,\"have_next_page\":false}}\n"
     ]
    }
   ],
   "source": [
    "print(response.text)"
   ]
  },
  {
   "cell_type": "code",
   "execution_count": null,
   "metadata": {},
   "outputs": [],
   "source": []
  }
 ],
 "metadata": {
  "kernelspec": {
   "display_name": "scalability",
   "language": "python",
   "name": "python3"
  },
  "language_info": {
   "codemirror_mode": {
    "name": "ipython",
    "version": 3
   },
   "file_extension": ".py",
   "mimetype": "text/x-python",
   "name": "python",
   "nbconvert_exporter": "python",
   "pygments_lexer": "ipython3",
   "version": "3.9.16"
  },
  "orig_nbformat": 4,
  "vscode": {
   "interpreter": {
    "hash": "b60ab2796edb0fa4c35c6c90836e2226f22659e294f5ecc95ef72f59cdf46ba8"
   }
  }
 },
 "nbformat": 4,
 "nbformat_minor": 2
}
