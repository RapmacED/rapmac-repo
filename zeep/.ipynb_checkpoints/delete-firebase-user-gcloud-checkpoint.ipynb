{
 "cells": [
  {
   "cell_type": "code",
   "execution_count": 11,
   "id": "1b576cd6-5625-423b-9fc8-7941cf575c48",
   "metadata": {},
   "outputs": [],
   "source": [
    "import os\n",
    "import firebase_admin\n",
    "from google.cloud import firestore\n",
    "from datetime import datetime\n",
    "from datetime import date\n",
    "import datetime\n",
    "from datetime import timezone as tz\n",
    "from datetime import *\n",
    "import pytz\n",
    "import json\n",
    "from firebase_admin import credentials\n",
    "from firebase_admin import auth\n",
    "\n",
    "default_app = firebase_admin.initialize_app()\n",
    "client = firestore.Client()"
   ]
  },
  {
   "cell_type": "code",
   "execution_count": null,
   "id": "61ae0476-05ef-41b4-b8fd-a279d1ff0dae",
   "metadata": {},
   "outputs": [],
   "source": [
    "def deleteUser(data, context):\n",
    "    path_parts = context.resource.split('/documents/')[1].split('/')\n",
    "    collection_path = path_parts[0]\n",
    "    document_path = '/'.join(path_parts[1:])\n",
    "    affected_doc = client.collection(collection_path).document(document_path)\n",
    "    event = affected_doc.get().get('event')\n",
    "    uID = affected_doc.get().get('uID')\n",
    "    if event == 'deleted':\n",
    "        auth.delete_user(uID)"
   ]
  }
 ],
 "metadata": {
  "kernelspec": {
   "display_name": "Python 3 (ipykernel)",
   "language": "python",
   "name": "python3"
  },
  "language_info": {
   "codemirror_mode": {
    "name": "ipython",
    "version": 3
   },
   "file_extension": ".py",
   "mimetype": "text/x-python",
   "name": "python",
   "nbconvert_exporter": "python",
   "pygments_lexer": "ipython3",
   "version": "3.10.8"
  }
 },
 "nbformat": 4,
 "nbformat_minor": 5
}
