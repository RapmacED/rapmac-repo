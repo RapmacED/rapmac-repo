{
 "cells": [
  {
   "cell_type": "code",
   "execution_count": 1,
   "id": "3b2f3331-dbb7-49b4-9251-fce422d8aff3",
   "metadata": {},
   "outputs": [
    {
     "name": "stdout",
     "output_type": "stream",
     "text": [
      "\u001b[33mDEPRECATION: Configuring installation scheme with distutils config files is deprecated and will no longer work in the near future. If you are using a Homebrew or Linuxbrew Python, please see discussion at https://github.com/Homebrew/homebrew-core/issues/76621\u001b[0m\u001b[33m\n",
      "\u001b[0mRequirement already satisfied: pandas in /opt/homebrew/lib/python3.9/site-packages (1.4.2)\n",
      "Requirement already satisfied: numpy>=1.20.0 in /opt/homebrew/lib/python3.9/site-packages (from pandas) (1.22.4)\n",
      "Requirement already satisfied: python-dateutil>=2.8.1 in /opt/homebrew/lib/python3.9/site-packages (from pandas) (2.8.2)\n",
      "Requirement already satisfied: pytz>=2020.1 in /opt/homebrew/lib/python3.9/site-packages (from pandas) (2022.1)\n",
      "Requirement already satisfied: six>=1.5 in /opt/homebrew/lib/python3.9/site-packages (from python-dateutil>=2.8.1->pandas) (1.16.0)\n",
      "\u001b[33mDEPRECATION: Configuring installation scheme with distutils config files is deprecated and will no longer work in the near future. If you are using a Homebrew or Linuxbrew Python, please see discussion at https://github.com/Homebrew/homebrew-core/issues/76621\u001b[0m\u001b[33m\n",
      "\u001b[0m\u001b[33mDEPRECATION: Configuring installation scheme with distutils config files is deprecated and will no longer work in the near future. If you are using a Homebrew or Linuxbrew Python, please see discussion at https://github.com/Homebrew/homebrew-core/issues/76621\u001b[0m\u001b[33m\n",
      "\u001b[0m\u001b[31mERROR: Could not find a version that satisfies the requirement time (from versions: none)\u001b[0m\u001b[31m\n",
      "\u001b[0m\u001b[31mERROR: No matching distribution found for time\u001b[0m\u001b[31m\n",
      "\u001b[0m"
     ]
    }
   ],
   "source": [
    "!pip install pandas\n",
    "!pip install time"
   ]
  },
  {
   "cell_type": "code",
   "execution_count": 2,
   "id": "2e4f0e88-c775-4d74-99a8-4db3ad5788b1",
   "metadata": {},
   "outputs": [],
   "source": [
    "from bs4 import BeautifulSoup\n",
    "import requests\n",
    "import pandas as pd\n",
    "import time"
   ]
  },
  {
   "cell_type": "code",
   "execution_count": 3,
   "id": "1f8fa076-3ba3-4ccf-bd4b-9875dcd538bf",
   "metadata": {},
   "outputs": [],
   "source": [
    "url='https://scalability.dataship.tech/?simple_history_get_rss=1&rss_secret=lztusulwrkbwurjogpgt'"
   ]
  },
  {
   "cell_type": "code",
   "execution_count": 4,
   "id": "41217a73-f060-4e40-a645-c0601c5f8d2c",
   "metadata": {},
   "outputs": [],
   "source": [
    "result = requests.get(url)"
   ]
  },
  {
   "cell_type": "code",
   "execution_count": 5,
   "id": "940cd079-d76b-44ff-b969-9ea14a75250b",
   "metadata": {},
   "outputs": [
    {
     "name": "stdout",
     "output_type": "stream",
     "text": [
      "<Response [200]>\n"
     ]
    }
   ],
   "source": [
    "print(result)"
   ]
  },
  {
   "cell_type": "code",
   "execution_count": 19,
   "id": "5955ee81-a677-448d-8ed3-1b71c9381f9d",
   "metadata": {},
   "outputs": [],
   "source": [
    "doc = BeautifulSoup(result.text, \"lxml\")"
   ]
  },
  {
   "cell_type": "code",
   "execution_count": 27,
   "id": "036dca7a-09a9-470b-8bda-84e6efdb7f8b",
   "metadata": {},
   "outputs": [
    {
     "name": "stdout",
     "output_type": "stream",
     "text": [
      "<p>Logged out</p>\n",
      "<p>Severity level: info</p>\n",
      "<p>Edited the profile for user <a href=\"\">test (rapmac11@gmail.com)</a></p>\n",
      "<p>Severity level: info</p>\n",
      "<p>+5 occasions</p>\n",
      "<p>Logged in</p>\n",
      "<p>Severity level: info</p>\n",
      "<p>Logged out</p>\n",
      "<p>Severity level: info</p>\n",
      "<p>Edited the profile for user <a href=\"\">test (rapmac11@gmail.com)</a></p>\n",
      "<p>Severity level: info</p>\n",
      "<p>Logged in</p>\n",
      "<p>Severity level: info</p>\n",
      "<p>Failed to login with username \"test\" (incorrect password entered)</p>\n",
      "<p>Severity level: warning</p>\n",
      "<p>Created user <a href=\"\">test (rapmac11@gmail.com)</a> with role amalia</p>\n",
      "<p>Severity level: info</p>\n",
      "<p>Deleted user test@karmen.io (raphael.macquet@edhec.com)</p>\n",
      "<p>Severity level: notice</p>\n",
      "<p>Deleted user test@ubiq.fr (rapmac11@gmail.com)</p>\n",
      "<p>Severity level: notice</p>\n"
     ]
    }
   ],
   "source": [
    "for p in doc.find_all('p'):\n",
    "    print(p)\n"
   ]
  },
  {
   "cell_type": "code",
   "execution_count": 24,
   "id": "941e0260-060e-4e6e-bbc8-dccf4b9468af",
   "metadata": {},
   "outputs": [],
   "source": [
    "for p in doc.find_all('p', href=True):\n",
    "    print(p)"
   ]
  },
  {
   "cell_type": "code",
   "execution_count": 21,
   "id": "943b5c14-263c-4554-a7e3-8b5855d3be40",
   "metadata": {},
   "outputs": [
    {
     "data": {
      "text/plain": [
       "['xml version=\"1.0\" encoding=\"UTF-8\"?',\n",
       " <html><body><rss version=\"2.0\" xmlns:atom=\"http://www.w3.org/2005/Atom\">\n",
       " <channel>\n",
       " <title></title>\n",
       " <description></description>\n",
       " <link/>https://scalability.dataship.tech\n",
       " \t\t\t\t\t<atom:link href=\"https://scalability.dataship.tech/?simple_history_get_rss=1&amp;rss_secret=lztusulwrkbwurjogpgt\" rel=\"self\" type=\"application/atom+xml\"></atom:link>\n",
       " <item>\n",
       " <title></title>\n",
       " <description>\n",
       " <a class=\"SimpleHistoryLogitem__headerUserProfileLink\" href=\"\">\n",
       " <strong class=\"SimpleHistoryLogitem__inlineDivided\">test</strong>\n",
       " <span class=\"SimpleHistoryLogitem__inlineDivided SimpleHistoryLogitem__headerEmail\">rapmac11@gmail.com</span>\n",
       " </a>\n",
       " <span class=\"SimpleHistoryLogitem__permalink SimpleHistoryLogitem__when SimpleHistoryLogitem__inlineDivided\"><a class=\"\" href=\"https://scalability.dataship.tech/wp-admin/index.php?page=simple_history_page#item/187\"><span title=\"29/09/2022 - 11:54 local time \n",
       "  (29/09/2022 - 11:54 GMT time)\">29/09/2022 - 11:54 (<time class=\"SimpleHistoryLogitem__when__liveRelative\" datetime=\"2022-09-29T11:54:54+00:00\">Sep 29, 2022 at 11:54</time>)</span></a></span>\n",
       " <p>Logged out</p>\n",
       " <div></div>\n",
       " <p>Severity level: info</p>\n",
       " \t\t\t\t\t\t\t\t\t\t\t\t\t\t\t]]&gt;</description>\n",
       " <pubdate>Thu, 29 Sep 2022 11:54:54 GMT</pubdate>\n",
       " <guid ispermalink=\"false\"></guid>\n",
       " <link/>\n",
       " </item>\n",
       " <item>\n",
       " <title></title>\n",
       " <description>\n",
       " <a class=\"SimpleHistoryLogitem__headerUserProfileLink\" href=\"\">\n",
       " <strong class=\"SimpleHistoryLogitem__inlineDivided\">rapmac13160</strong>\n",
       " <span class=\"SimpleHistoryLogitem__inlineDivided SimpleHistoryLogitem__headerEmail\">macquetraphael@gmail.com</span>\n",
       " </a>\n",
       " <span class=\"SimpleHistoryLogitem__permalink SimpleHistoryLogitem__when SimpleHistoryLogitem__inlineDivided\"><a class=\"\" href=\"https://scalability.dataship.tech/wp-admin/index.php?page=simple_history_page#item/181\"><span title=\"29/09/2022 - 06:51 local time \n",
       "  (29/09/2022 - 06:51 GMT time)\">29/09/2022 - 06:51 (<time class=\"SimpleHistoryLogitem__when__liveRelative\" datetime=\"2022-09-29T06:51:24+00:00\">Sep 29, 2022 at 6:51</time>)</span></a></span>\n",
       " <p>Edited the profile for user <a href=\"\">test (rapmac11@gmail.com)</a></p>\n",
       " <div></div>\n",
       " <p>Severity level: info</p>\n",
       " <p>+5 occasions</p>\t\t\t\t\t\t\t]]&gt;</description>\n",
       " <pubdate>Thu, 29 Sep 2022 06:51:24 GMT</pubdate>\n",
       " <guid ispermalink=\"false\"></guid>\n",
       " <link/>\n",
       " </item>\n",
       " <item>\n",
       " <title></title>\n",
       " <description>\n",
       " <a class=\"SimpleHistoryLogitem__headerUserProfileLink\" href=\"\">\n",
       " <strong class=\"SimpleHistoryLogitem__inlineDivided\">test</strong>\n",
       " <span class=\"SimpleHistoryLogitem__inlineDivided SimpleHistoryLogitem__headerEmail\">rapmac11@gmail.com</span>\n",
       " </a>\n",
       " <span class=\"SimpleHistoryLogitem__permalink SimpleHistoryLogitem__when SimpleHistoryLogitem__inlineDivided\"><a class=\"\" href=\"https://scalability.dataship.tech/wp-admin/index.php?page=simple_history_page#item/180\"><span title=\"29/09/2022 - 06:48 local time \n",
       "  (29/09/2022 - 06:48 GMT time)\">29/09/2022 - 06:48 (<time class=\"SimpleHistoryLogitem__when__liveRelative\" datetime=\"2022-09-29T06:48:23+00:00\">Sep 29, 2022 at 6:48</time>)</span></a></span>\n",
       " <span class=\"SimpleHistoryLogitem__inlineDivided SimpleHistoryLogitem__anonUserWithIp\">IP Address <a class=\"SimpleHistoryLogitem__anonUserWithIp__theIp\" data-ip-address=\"89.2.148.0\" href=\"https://ipinfo.io/89.2.148.0\" target=\"_blank\">89.2.148.0</a></span>\n",
       " <p>Logged in</p>\n",
       " <div></div>\n",
       " <p>Severity level: info</p>\n",
       " \t\t\t\t\t\t\t\t\t\t\t\t\t\t\t]]&gt;</description>\n",
       " <pubdate>Thu, 29 Sep 2022 06:48:23 GMT</pubdate>\n",
       " <guid ispermalink=\"false\"></guid>\n",
       " <link/>\n",
       " </item>\n",
       " <item>\n",
       " <title></title>\n",
       " <description>\n",
       " <a class=\"SimpleHistoryLogitem__headerUserProfileLink\" href=\"\">\n",
       " <strong class=\"SimpleHistoryLogitem__inlineDivided\">test</strong>\n",
       " <span class=\"SimpleHistoryLogitem__inlineDivided SimpleHistoryLogitem__headerEmail\">rapmac11@gmail.com</span>\n",
       " </a>\n",
       " <span class=\"SimpleHistoryLogitem__permalink SimpleHistoryLogitem__when SimpleHistoryLogitem__inlineDivided\"><a class=\"\" href=\"https://scalability.dataship.tech/wp-admin/index.php?page=simple_history_page#item/179\"><span title=\"29/09/2022 - 06:48 local time \n",
       "  (29/09/2022 - 06:48 GMT time)\">29/09/2022 - 06:48 (<time class=\"SimpleHistoryLogitem__when__liveRelative\" datetime=\"2022-09-29T06:48:17+00:00\">Sep 29, 2022 at 6:48</time>)</span></a></span>\n",
       " <p>Logged out</p>\n",
       " <div></div>\n",
       " <p>Severity level: info</p>\n",
       " \t\t\t\t\t\t\t\t\t\t\t\t\t\t\t]]&gt;</description>\n",
       " <pubdate>Thu, 29 Sep 2022 06:48:17 GMT</pubdate>\n",
       " <guid ispermalink=\"false\"></guid>\n",
       " <link/>\n",
       " </item>\n",
       " <item>\n",
       " <title></title>\n",
       " <description>\n",
       " <a class=\"SimpleHistoryLogitem__headerUserProfileLink\" href=\"\">\n",
       " <strong class=\"SimpleHistoryLogitem__inlineDivided\">rapmac13160</strong>\n",
       " <span class=\"SimpleHistoryLogitem__inlineDivided SimpleHistoryLogitem__headerEmail\">macquetraphael@gmail.com</span>\n",
       " </a>\n",
       " <span class=\"SimpleHistoryLogitem__permalink SimpleHistoryLogitem__when SimpleHistoryLogitem__inlineDivided\"><a class=\"\" href=\"https://scalability.dataship.tech/wp-admin/index.php?page=simple_history_page#item/178\"><span title=\"29/09/2022 - 06:48 local time \n",
       "  (29/09/2022 - 06:48 GMT time)\">29/09/2022 - 06:48 (<time class=\"SimpleHistoryLogitem__when__liveRelative\" datetime=\"2022-09-29T06:48:11+00:00\">Sep 29, 2022 at 6:48</time>)</span></a></span>\n",
       " <p>Edited the profile for user <a href=\"\">test (rapmac11@gmail.com)</a></p>\n",
       " <div></div>\n",
       " <p>Severity level: info</p>\n",
       " \t\t\t\t\t\t\t\t\t\t\t\t\t\t\t]]&gt;</description>\n",
       " <pubdate>Thu, 29 Sep 2022 06:48:11 GMT</pubdate>\n",
       " <guid ispermalink=\"false\"></guid>\n",
       " <link/>\n",
       " </item>\n",
       " <item>\n",
       " <title></title>\n",
       " <description>\n",
       " <a class=\"SimpleHistoryLogitem__headerUserProfileLink\" href=\"\">\n",
       " <strong class=\"SimpleHistoryLogitem__inlineDivided\">test</strong>\n",
       " <span class=\"SimpleHistoryLogitem__inlineDivided SimpleHistoryLogitem__headerEmail\">rapmac11@gmail.com</span>\n",
       " </a>\n",
       " <span class=\"SimpleHistoryLogitem__permalink SimpleHistoryLogitem__when SimpleHistoryLogitem__inlineDivided\"><a class=\"\" href=\"https://scalability.dataship.tech/wp-admin/index.php?page=simple_history_page#item/177\"><span title=\"29/09/2022 - 06:47 local time \n",
       "  (29/09/2022 - 06:47 GMT time)\">29/09/2022 - 06:47 (<time class=\"SimpleHistoryLogitem__when__liveRelative\" datetime=\"2022-09-29T06:47:52+00:00\">Sep 29, 2022 at 6:47</time>)</span></a></span>\n",
       " <span class=\"SimpleHistoryLogitem__inlineDivided SimpleHistoryLogitem__anonUserWithIp\">IP Address <a class=\"SimpleHistoryLogitem__anonUserWithIp__theIp\" data-ip-address=\"89.2.148.0\" href=\"https://ipinfo.io/89.2.148.0\" target=\"_blank\">89.2.148.0</a></span>\n",
       " <p>Logged in</p>\n",
       " <div></div>\n",
       " <p>Severity level: info</p>\n",
       " \t\t\t\t\t\t\t\t\t\t\t\t\t\t\t]]&gt;</description>\n",
       " <pubdate>Thu, 29 Sep 2022 06:47:52 GMT</pubdate>\n",
       " <guid ispermalink=\"false\"></guid>\n",
       " <link/>\n",
       " </item>\n",
       " <item>\n",
       " <title></title>\n",
       " <description>\n",
       " <strong class=\"SimpleHistoryLogitem__inlineDivided\">Anonymous web user</strong>\n",
       " <span class=\"SimpleHistoryLogitem__permalink SimpleHistoryLogitem__when SimpleHistoryLogitem__inlineDivided\"><a class=\"\" href=\"https://scalability.dataship.tech/wp-admin/index.php?page=simple_history_page#item/176\"><span title=\"29/09/2022 - 06:47 local time \n",
       "  (29/09/2022 - 06:47 GMT time)\">29/09/2022 - 06:47 (<time class=\"SimpleHistoryLogitem__when__liveRelative\" datetime=\"2022-09-29T06:47:10+00:00\">Sep 29, 2022 at 6:47</time>)</span></a></span>\n",
       " <span class=\"SimpleHistoryLogitem__inlineDivided SimpleHistoryLogitem__anonUserWithIp\">IP Address <a class=\"SimpleHistoryLogitem__anonUserWithIp__theIp\" data-ip-address=\"89.2.148.0\" href=\"https://ipinfo.io/89.2.148.0\" target=\"_blank\">89.2.148.0</a></span>\n",
       " <p>Failed to login with username \"test\" (incorrect password entered)</p>\n",
       " <div></div>\n",
       " <p>Severity level: warning</p>\n",
       " \t\t\t\t\t\t\t\t\t\t\t\t\t\t\t]]&gt;</description>\n",
       " <pubdate>Thu, 29 Sep 2022 06:47:10 GMT</pubdate>\n",
       " <guid ispermalink=\"false\"></guid>\n",
       " <link/>\n",
       " </item>\n",
       " <item>\n",
       " <title></title>\n",
       " <description>\n",
       " <a class=\"SimpleHistoryLogitem__headerUserProfileLink\" href=\"\">\n",
       " <strong class=\"SimpleHistoryLogitem__inlineDivided\">rapmac13160</strong>\n",
       " <span class=\"SimpleHistoryLogitem__inlineDivided SimpleHistoryLogitem__headerEmail\">macquetraphael@gmail.com</span>\n",
       " </a>\n",
       " <span class=\"SimpleHistoryLogitem__permalink SimpleHistoryLogitem__when SimpleHistoryLogitem__inlineDivided\"><a class=\"\" href=\"https://scalability.dataship.tech/wp-admin/index.php?page=simple_history_page#item/175\"><span title=\"29/09/2022 - 06:47 local time \n",
       "  (29/09/2022 - 06:47 GMT time)\">29/09/2022 - 06:47 (<time class=\"SimpleHistoryLogitem__when__liveRelative\" datetime=\"2022-09-29T06:47:04+00:00\">Sep 29, 2022 at 6:47</time>)</span></a></span>\n",
       " <p>Created user <a href=\"\">test (rapmac11@gmail.com)</a> with role amalia</p>\n",
       " <div></div>\n",
       " <p>Severity level: info</p>\n",
       " \t\t\t\t\t\t\t\t\t\t\t\t\t\t\t]]&gt;</description>\n",
       " <pubdate>Thu, 29 Sep 2022 06:47:04 GMT</pubdate>\n",
       " <guid ispermalink=\"false\"></guid>\n",
       " <link/>\n",
       " </item>\n",
       " <item>\n",
       " <title></title>\n",
       " <description>\n",
       " <a class=\"SimpleHistoryLogitem__headerUserProfileLink\" href=\"\">\n",
       " <strong class=\"SimpleHistoryLogitem__inlineDivided\">rapmac13160</strong>\n",
       " <span class=\"SimpleHistoryLogitem__inlineDivided SimpleHistoryLogitem__headerEmail\">macquetraphael@gmail.com</span>\n",
       " </a>\n",
       " <span class=\"SimpleHistoryLogitem__permalink SimpleHistoryLogitem__when SimpleHistoryLogitem__inlineDivided\"><a class=\"\" href=\"https://scalability.dataship.tech/wp-admin/index.php?page=simple_history_page#item/174\"><span title=\"29/09/2022 - 06:46 local time \n",
       "  (29/09/2022 - 06:46 GMT time)\">29/09/2022 - 06:46 (<time class=\"SimpleHistoryLogitem__when__liveRelative\" datetime=\"2022-09-29T06:46:28+00:00\">Sep 29, 2022 at 6:46</time>)</span></a></span>\n",
       " <p>Deleted user test@karmen.io (raphael.macquet@edhec.com)</p>\n",
       " <div></div>\n",
       " <p>Severity level: notice</p>\n",
       " \t\t\t\t\t\t\t\t\t\t\t\t\t\t\t]]&gt;</description>\n",
       " <pubdate>Thu, 29 Sep 2022 06:46:28 GMT</pubdate>\n",
       " <guid ispermalink=\"false\"></guid>\n",
       " <link/>\n",
       " </item>\n",
       " <item>\n",
       " <title></title>\n",
       " <description>\n",
       " <a class=\"SimpleHistoryLogitem__headerUserProfileLink\" href=\"\">\n",
       " <strong class=\"SimpleHistoryLogitem__inlineDivided\">rapmac13160</strong>\n",
       " <span class=\"SimpleHistoryLogitem__inlineDivided SimpleHistoryLogitem__headerEmail\">macquetraphael@gmail.com</span>\n",
       " </a>\n",
       " <span class=\"SimpleHistoryLogitem__permalink SimpleHistoryLogitem__when SimpleHistoryLogitem__inlineDivided\"><a class=\"\" href=\"https://scalability.dataship.tech/wp-admin/index.php?page=simple_history_page#item/173\"><span title=\"29/09/2022 - 06:46 local time \n",
       "  (29/09/2022 - 06:46 GMT time)\">29/09/2022 - 06:46 (<time class=\"SimpleHistoryLogitem__when__liveRelative\" datetime=\"2022-09-29T06:46:03+00:00\">Sep 29, 2022 at 6:46</time>)</span></a></span>\n",
       " <p>Deleted user test@ubiq.fr (rapmac11@gmail.com)</p>\n",
       " <div></div>\n",
       " <p>Severity level: notice</p>\n",
       " \t\t\t\t\t\t\t\t\t\t\t\t\t\t\t]]&gt;</description>\n",
       " <pubdate>Thu, 29 Sep 2022 06:46:03 GMT</pubdate>\n",
       " <guid ispermalink=\"false\"></guid>\n",
       " <link/>\n",
       " </item>\n",
       " </channel>\n",
       " </rss>\n",
       " </body></html>]"
      ]
     },
     "execution_count": 21,
     "metadata": {},
     "output_type": "execute_result"
    }
   ],
   "source": []
  },
  {
   "cell_type": "code",
   "execution_count": null,
   "id": "265239dc-8525-4c80-8758-850777b9f43d",
   "metadata": {},
   "outputs": [],
   "source": []
  }
 ],
 "metadata": {
  "kernelspec": {
   "display_name": "Python 3 (ipykernel)",
   "language": "python",
   "name": "python3"
  },
  "language_info": {
   "codemirror_mode": {
    "name": "ipython",
    "version": 3
   },
   "file_extension": ".py",
   "mimetype": "text/x-python",
   "name": "python",
   "nbconvert_exporter": "python",
   "pygments_lexer": "ipython3",
   "version": "3.10.8"
  }
 },
 "nbformat": 4,
 "nbformat_minor": 5
}
