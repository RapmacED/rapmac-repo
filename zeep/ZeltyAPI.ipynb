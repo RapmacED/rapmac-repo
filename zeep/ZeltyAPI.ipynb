{
 "cells": [
  {
   "cell_type": "code",
   "execution_count": null,
   "id": "cd86c2d0-d45e-4b89-a60d-f88251c876e0",
   "metadata": {},
   "outputs": [],
   "source": [
    "import requests\n",
    "import json\n",
    "from requests.structures import CaseInsensitiveDict\n",
    "\n",
    "url = \"https://api.zelty.fr/2.7/catalog/dishes?id=1976\"\n",
    "\n",
    "headers = CaseInsensitiveDict()\n",
    "headers[\"Authorization\"] = \"Bearer {Njc3OTqYQpzPUxt/mTrPUn09Pdg3I0dPAQ==}\"\n",
    "data = {}\n",
    "data['id']=1981\n",
    "\n",
    "resp = requests.get(url, json=data, headers=headers)\n",
    "\n",
    "resp.json()"
   ]
  },
  {
   "cell_type": "code",
   "execution_count": null,
   "id": "94df915d-3901-405d-800a-34609d544839",
   "metadata": {},
   "outputs": [],
   "source": []
  },
  {
   "cell_type": "code",
   "execution_count": 40,
   "id": "2ba0025d-705e-48c0-8863-22a58bfa8194",
   "metadata": {},
   "outputs": [
    {
     "name": "stdout",
     "output_type": "stream",
     "text": [
      "<Response [400]>\n"
     ]
    }
   ],
   "source": [
    "mydata = {'id': 1981,\n",
    "   'remote_id': None,\n",
    "   'id_restaurant': None,\n",
    "   'sku': None,\n",
    "   'name': 'Paleron de boeuf',\n",
    "   'description': None,\n",
    "   'image': 'https://s3.eu-west-1.amazonaws.com/media.zelty.fr/images/34/db31.png',\n",
    "   'thumb': 'https://media.zelty.fr/thumb/300x300/images/34/db31.png',\n",
    "   'price': 1500,\n",
    "   'price_togo': None,\n",
    "   'price_delivery': None,\n",
    "   'happy_price': None,\n",
    "   'cost_price': 500,\n",
    "   'tva': 1000,\n",
    "   'tvat': None,\n",
    "   'tvad': None,\n",
    "   'tax': 1000,\n",
    "   'tax_takeaway': None,\n",
    "   'tax_delivery': None,\n",
    "   'tags': [145243, 144166, 142637, 99168, 467],\n",
    "   'options': [44945, 10118, 11233, 7579, 8130],\n",
    "   'id_fabrication_place': 0,\n",
    "   'fab_name': None,\n",
    "   'color': None,\n",
    "   'loyalty_points': 0,\n",
    "   'loyalty_points_discount': None,\n",
    "   'earn_loyalty': 0,\n",
    "   'price_to_define': False,\n",
    "   'weight_for_price': None,\n",
    "   'disable': False,\n",
    "   'disable_takeaway': False,\n",
    "   'disable_delivery': False,\n",
    "   'disable_before': None,\n",
    "   'disable_after': None,\n",
    "   'o': 0,\n",
    "   'zc_only': False,}\n",
    "   #'meta': {'test': '',\n",
    "   # 'test_2': '',\n",
    "   # 'test_meta': '',\n",
    "   # 'test_meta_case': 0,\n",
    "   # 'azeaze': 0,\n",
    "   # 'degre_d_alcool': 0}},\n",
    "\n",
    "resp = requests.post(url, headers=headers, data=mydata)\n",
    "\n",
    "print(resp)"
   ]
  },
  {
   "cell_type": "code",
   "execution_count": 41,
   "id": "2c114f03-5ee3-45e0-8e8e-05c0e8d39ca3",
   "metadata": {},
   "outputs": [
    {
     "name": "stdout",
     "output_type": "stream",
     "text": [
      "{\"errors\":{\"1981\":{\"access\":\"Cet objet est introuvable\"}},\"errno\":71,\"errmsg\":\"Erreurs de validation\"}\n"
     ]
    }
   ],
   "source": [
    "print(resp.text)"
   ]
  },
  {
   "cell_type": "code",
   "execution_count": null,
   "id": "9031327f-6f90-4172-9512-40fd33cff788",
   "metadata": {},
   "outputs": [],
   "source": []
  }
 ],
 "metadata": {
  "kernelspec": {
   "display_name": "Python 3 (ipykernel)",
   "language": "python",
   "name": "python3"
  },
  "language_info": {
   "codemirror_mode": {
    "name": "ipython",
    "version": 3
   },
   "file_extension": ".py",
   "mimetype": "text/x-python",
   "name": "python",
   "nbconvert_exporter": "python",
   "pygments_lexer": "ipython3",
   "version": "3.10.8"
  }
 },
 "nbformat": 4,
 "nbformat_minor": 5
}
