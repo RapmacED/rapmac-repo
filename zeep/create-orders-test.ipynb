{
 "cells": [
  {
   "cell_type": "code",
   "execution_count": 1,
   "id": "ba21e115-0d30-4ee4-917b-f67079468208",
   "metadata": {},
   "outputs": [],
   "source": [
    "import os\n",
    "os.environ[\"GOOGLE_APPLICATION_CREDENTIALS\"]=\"/Users/raph/Documents/Zeep/App/zeepwebapp-6535a41e25af.json\""
   ]
  },
  {
   "cell_type": "code",
   "execution_count": 2,
   "id": "b4c316ea-70b4-4aeb-a7f2-1eb82b76b654",
   "metadata": {},
   "outputs": [],
   "source": [
    "import firebase_admin\n",
    "from google.cloud import firestore\n",
    "from datetime import datetime\n",
    "from datetime import date\n",
    "import datetime\n",
    "from datetime import timezone as tz\n",
    "from datetime import *\n",
    "import pytz\n",
    "\"\"\"from exponent_server_sdk import (\n",
    "    DeviceNotRegisteredError,\n",
    "    PushClient,\n",
    "    PushMessage,\n",
    "    PushServerError,\n",
    "    PushTicketError,\n",
    ")\"\"\"\n",
    "\n",
    "from requests.exceptions import ConnectionError, HTTPError\n",
    "\n",
    "tz = pytz.timezone('Europe/Paris')\n",
    "now = datetime.now(tz)\n",
    "\n",
    "db = firestore.Client()\n",
    "\n",
    "def createOrder():\n",
    "    print(\"Hello\")\n",
    "    orders = db.collection(u'orders')\n",
    "    data = {\n",
    "        u'Date': '07/12/2022',\n",
    "        u'FirstName': 'Raphaël',\n",
    "        u'LastName': 'Macquet',\n",
    "        u'NbOfPeople': '2',\n",
    "        u'PhoneNumber': '0629738321',\n",
    "        u'Statut': 'Payée',\n",
    "        u'TotalPrice': 14,\n",
    "        u'articles': 'Planche de fromages',\n",
    "        u'email': 'macquetraphael@gmail.com',\n",
    "        u'hour':'test',\n",
    "        u'isOriginal': 'True',\n",
    "        u'restaurantAdress': '46 Bis Bd du Montparnasse, 75015 Paris',\n",
    "        u'restaurantCategory': 'Bistrot parisien 🥖',\n",
    "        u'restaurantID': 'harpers',\n",
    "        u'restaurantName': 'Harpers',\n",
    "        u'state':'coming',\n",
    "    }\n",
    "\n",
    "            # Add a new doc in collection 'slots'\n",
    "    db.collection(u'orders').document().set(data)\n",
    "        #for day in days:\n",
    "        #    date = day.strftime(\"%d/%m/%Y\")\n",
    "        #    data1 = {\n",
    "        #        u'date':day\n",
    "        #    }\n",
    "        #    db.collection(u'dates').document().set(data1)\n",
    "        \n",
    "\n",
    "#def createUnicSlot():\n",
    "    #data = {\n",
    "                   # u'date': \"hey\",\n",
    "               # }\n",
    "\n",
    "    # Add a new doc in collection 'slots'\n",
    "    #db.collection(u'try').document().set(data)"
   ]
  },
  {
   "cell_type": "code",
   "execution_count": 4,
   "id": "d583612b-2e83-427d-8e24-9376bafdf8b5",
   "metadata": {},
   "outputs": [
    {
     "name": "stdout",
     "output_type": "stream",
     "text": [
      "Hello\n"
     ]
    }
   ],
   "source": [
    "createOrder()"
   ]
  },
  {
   "cell_type": "code",
   "execution_count": null,
   "id": "13e499ea-9333-4f66-b569-bff9b8b3312e",
   "metadata": {},
   "outputs": [],
   "source": []
  }
 ],
 "metadata": {
  "kernelspec": {
   "display_name": "Python 3 (ipykernel)",
   "language": "python",
   "name": "python3"
  },
  "language_info": {
   "codemirror_mode": {
    "name": "ipython",
    "version": 3
   },
   "file_extension": ".py",
   "mimetype": "text/x-python",
   "name": "python",
   "nbconvert_exporter": "python",
   "pygments_lexer": "ipython3",
   "version": "3.10.8"
  }
 },
 "nbformat": 4,
 "nbformat_minor": 5
}
