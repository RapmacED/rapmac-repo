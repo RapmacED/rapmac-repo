{
 "cells": [
  {
   "cell_type": "code",
   "execution_count": null,
   "id": "b09bf9ca-3cf7-4d21-8d94-8962edfdd45c",
   "metadata": {},
   "outputs": [],
   "source": []
  },
  {
   "cell_type": "code",
   "execution_count": 1,
   "id": "ba21e115-0d30-4ee4-917b-f67079468208",
   "metadata": {},
   "outputs": [],
   "source": [
    "import os\n",
    "os.environ[\"GOOGLE_APPLICATION_CREDENTIALS\"]=\"/Users/raph/Documents/Zeep/App/zeepwebapp-6535a41e25af.json\""
   ]
  },
  {
   "cell_type": "code",
   "execution_count": 2,
   "id": "b4c316ea-70b4-4aeb-a7f2-1eb82b76b654",
   "metadata": {},
   "outputs": [
    {
     "name": "stdout",
     "output_type": "stream",
     "text": [
      "15:56\n",
      "Monday\n"
     ]
    },
    {
     "ename": "TypeError",
     "evalue": "createSlots() missing 1 required positional argument: 'code_restau'",
     "output_type": "error",
     "traceback": [
      "\u001b[0;31m---------------------------------------------------------------------------\u001b[0m",
      "\u001b[0;31mTypeError\u001b[0m                                 Traceback (most recent call last)",
      "Input \u001b[0;32mIn [2]\u001b[0m, in \u001b[0;36m<cell line: 101>\u001b[0;34m()\u001b[0m\n\u001b[1;32m     84\u001b[0m             db\u001b[38;5;241m.\u001b[39mcollection(\u001b[38;5;124mu\u001b[39m\u001b[38;5;124m'\u001b[39m\u001b[38;5;124mslots\u001b[39m\u001b[38;5;124m'\u001b[39m)\u001b[38;5;241m.\u001b[39mdocument()\u001b[38;5;241m.\u001b[39mset(data)\n\u001b[1;32m     85\u001b[0m         \u001b[38;5;66;03m#for day in days:\u001b[39;00m\n\u001b[1;32m     86\u001b[0m         \u001b[38;5;66;03m#    date = day.strftime(\"%d/%m/%Y\")\u001b[39;00m\n\u001b[1;32m     87\u001b[0m         \u001b[38;5;66;03m#    data1 = {\u001b[39;00m\n\u001b[0;32m   (...)\u001b[0m\n\u001b[1;32m     98\u001b[0m     \u001b[38;5;66;03m# Add a new doc in collection 'slots'\u001b[39;00m\n\u001b[1;32m     99\u001b[0m     \u001b[38;5;66;03m#db.collection(u'try').document().set(data)\u001b[39;00m\n\u001b[0;32m--> 101\u001b[0m \u001b[43mcreateSlots\u001b[49m\u001b[43m(\u001b[49m\u001b[43m)\u001b[49m\n",
      "\u001b[0;31mTypeError\u001b[0m: createSlots() missing 1 required positional argument: 'code_restau'"
     ]
    }
   ],
   "source": [
    "import firebase_admin\n",
    "from google.cloud import firestore\n",
    "from datetime import datetime\n",
    "from datetime import date\n",
    "import datetime\n",
    "from datetime import timezone as tz\n",
    "from datetime import *\n",
    "import pytz\n",
    "\"\"\"from exponent_server_sdk import (\n",
    "    DeviceNotRegisteredError,\n",
    "    PushClient,\n",
    "    PushMessage,\n",
    "    PushServerError,\n",
    "    PushTicketError,\n",
    ")\"\"\"\n",
    "\n",
    "from requests.exceptions import ConnectionError, HTTPError\n",
    "\n",
    "tz = pytz.timezone('Europe/Paris')\n",
    "now = datetime.now(tz)\n",
    "if len(str(now.hour))==1:\n",
    "    nowH = \"0\"+str(now.hour)\n",
    "else:\n",
    "    nowH = str(now.hour)\n",
    "nowM = str(now.minute)\n",
    "nowT = nowH + ':' + nowM\n",
    "print(nowT)\n",
    "t1 = datetime.strptime(nowT, '%H:%M')\n",
    "t2 = datetime.strptime('09:06', '%H:%M')\n",
    "\n",
    "def send_push_message(token, message, extra=None):\n",
    "    response = PushClient().publish(\n",
    "            PushMessage(to=token,\n",
    "                        body=message,\n",
    "                        data=extra))\n",
    "\n",
    "def left(s, amount):\n",
    "    return s[:amount]\n",
    "\n",
    "def right(s, amount):\n",
    "    return s[-amount:]\n",
    "\n",
    "def mid(s, offset, amount):\n",
    "    return s[offset:offset+amount]\n",
    "\n",
    "today = date.today()\n",
    "today = right(str(today),2)+\"/\"+mid(str(today),5,2)+\"/\"+left(str(today),4)\n",
    "\n",
    "db = firestore.Client()\n",
    "days = []\n",
    "for x in range(2, 30):\n",
    "    dateNew = now + timedelta(days=x)\n",
    "    #print(dateNew)\n",
    "    days.append(dateNew)\n",
    "\n",
    "date30 = now + timedelta(days=30)\n",
    "\n",
    "print(date30.strftime(\"%A\"))\n",
    "\n",
    "def createSlots(code_restau):\n",
    "    print(\"Hello\")\n",
    "    slots = db.collection(u'slots')\n",
    "    slotHarpers =['12:00','12:30','13:00','13:30','14:00','14:30']\n",
    "    date=['07/11/2022','07/11/2022','07/11/2022','07/11/2022','07/11/2022','07/11/2022']\n",
    "    maxNB=30\n",
    "    \n",
    "    for d in date:\n",
    "        for slotH in slotHarpers:\n",
    "            #for day in days: \n",
    "            date_time = d + \"_\" + slotH\n",
    "            dispo = True\n",
    "            list_codes = code_restau\n",
    "            print(date_time)\n",
    "            data = {\n",
    "                u'date': d,\n",
    "                u'date_time': date_time,\n",
    "                u'dispo': dispo,\n",
    "                u'list_codes': list_codes,\n",
    "                u'maxNbPeople': maxNB,\n",
    "                u'time':slotH\n",
    "            }\n",
    "\n",
    "            # Add a new doc in collection 'slots'\n",
    "            db.collection(u'slots').document().set(data)\n",
    "        #for day in days:\n",
    "        #    date = day.strftime(\"%d/%m/%Y\")\n",
    "        #    data1 = {\n",
    "        #        u'date':day\n",
    "        #    }\n",
    "        #    db.collection(u'dates').document().set(data1)\n",
    "        \n",
    "\n",
    "#def createUnicSlot():\n",
    "    #data = {\n",
    "                   # u'date': \"hey\",\n",
    "               # }\n",
    "\n",
    "    # Add a new doc in collection 'slots'\n",
    "    #db.collection(u'try').document().set(data)"
   ]
  },
  {
   "cell_type": "code",
   "execution_count": null,
   "id": "d583612b-2e83-427d-8e24-9376bafdf8b5",
   "metadata": {},
   "outputs": [],
   "source": [
    "createSlots()"
   ]
  },
  {
   "cell_type": "code",
   "execution_count": 2,
   "id": "0b4f1f3e-b454-4460-8f0e-ea4fe95e45cf",
   "metadata": {},
   "outputs": [
    {
     "ename": "NameError",
     "evalue": "name 'db' is not defined",
     "output_type": "error",
     "traceback": [
      "\u001b[0;31m---------------------------------------------------------------------------\u001b[0m",
      "\u001b[0;31mNameError\u001b[0m                                 Traceback (most recent call last)",
      "Input \u001b[0;32mIn [2]\u001b[0m, in \u001b[0;36m<cell line: 1>\u001b[0;34m()\u001b[0m\n\u001b[0;32m----> 1\u001b[0m \u001b[38;5;28mprint\u001b[39m(docs \u001b[38;5;241m=\u001b[39m \u001b[43mdb\u001b[49m\u001b[38;5;241m.\u001b[39mcollection(\u001b[38;5;124mu\u001b[39m\u001b[38;5;124m'\u001b[39m\u001b[38;5;124mslots\u001b[39m\u001b[38;5;124m'\u001b[39m)\u001b[38;5;241m.\u001b[39mwhere(\u001b[38;5;124mu\u001b[39m\u001b[38;5;124m'\u001b[39m\u001b[38;5;124mdate_time\u001b[39m\u001b[38;5;124m'\u001b[39m, \u001b[38;5;124mu\u001b[39m\u001b[38;5;124m'\u001b[39m\u001b[38;5;124m==\u001b[39m\u001b[38;5;124m'\u001b[39m,\u001b[38;5;124m'\u001b[39m\u001b[38;5;124m30/09/2023_12:00\u001b[39m\u001b[38;5;124m'\u001b[39m)\u001b[38;5;241m.\u001b[39mstream())\n",
      "\u001b[0;31mNameError\u001b[0m: name 'db' is not defined"
     ]
    }
   ],
   "source": [
    "print(docs = db.collection(u'slots').where(u'date_time', u'==','30/09/2023_12:00').stream())"
   ]
  },
  {
   "cell_type": "code",
   "execution_count": null,
   "id": "67a6c435-5fe2-47d4-8d65-baa049533ba8",
   "metadata": {},
   "outputs": [],
   "source": []
  }
 ],
 "metadata": {
  "kernelspec": {
   "display_name": "Python 3 (ipykernel)",
   "language": "python",
   "name": "python3"
  },
  "language_info": {
   "codemirror_mode": {
    "name": "ipython",
    "version": 3
   },
   "file_extension": ".py",
   "mimetype": "text/x-python",
   "name": "python",
   "nbconvert_exporter": "python",
   "pygments_lexer": "ipython3",
   "version": "3.10.8"
  }
 },
 "nbformat": 4,
 "nbformat_minor": 5
}
