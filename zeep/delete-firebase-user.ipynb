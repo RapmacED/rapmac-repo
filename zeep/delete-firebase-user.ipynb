{
 "cells": [
  {
   "cell_type": "code",
   "execution_count": 1,
   "id": "2c1e7859-6149-41d8-90a3-524e73e0b899",
   "metadata": {},
   "outputs": [],
   "source": [
    "import os\n",
    "os.environ[\"GOOGLE_APPLICATION_CREDENTIALS\"]=\"/Users/raph/Documents/Zeep/App/zeepwebapp-6535a41e25af.json\""
   ]
  },
  {
   "cell_type": "code",
   "execution_count": 11,
   "id": "1b576cd6-5625-423b-9fc8-7941cf575c48",
   "metadata": {},
   "outputs": [],
   "source": [
    "import firebase_admin\n",
    "from firebase_admin import credentials\n",
    "from firebase_admin import auth\n",
    "\n",
    "if not firebase_admin._apps:\n",
    "    cred = credentials.Certificate('/Users/raph/Documents/Zeep/App/zeepwebapp-6535a41e25af.json') \n",
    "    default_app = firebase_admin.initialize_app(cred)"
   ]
  },
  {
   "cell_type": "code",
   "execution_count": 12,
   "id": "667a91ca-ea08-45e4-80fd-4bee486207f0",
   "metadata": {},
   "outputs": [],
   "source": [
    "user = auth.get_user(\"Re5RuOIwHZRJYMjnRic5PpGIVED2\")"
   ]
  },
  {
   "cell_type": "code",
   "execution_count": 13,
   "id": "c4921f9f-913c-42dd-bb5c-859afe244971",
   "metadata": {},
   "outputs": [],
   "source": [
    "auth.delete_user(\"Re5RuOIwHZRJYMjnRic5PpGIVED2\")"
   ]
  },
  {
   "cell_type": "code",
   "execution_count": null,
   "id": "61ae0476-05ef-41b4-b8fd-a279d1ff0dae",
   "metadata": {},
   "outputs": [],
   "source": []
  }
 ],
 "metadata": {
  "kernelspec": {
   "display_name": "Python 3 (ipykernel)",
   "language": "python",
   "name": "python3"
  },
  "language_info": {
   "codemirror_mode": {
    "name": "ipython",
    "version": 3
   },
   "file_extension": ".py",
   "mimetype": "text/x-python",
   "name": "python",
   "nbconvert_exporter": "python",
   "pygments_lexer": "ipython3",
   "version": "3.10.8"
  }
 },
 "nbformat": 4,
 "nbformat_minor": 5
}
