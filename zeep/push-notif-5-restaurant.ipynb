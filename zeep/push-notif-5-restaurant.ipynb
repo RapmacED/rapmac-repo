{
 "cells": [
  {
   "cell_type": "code",
   "execution_count": null,
   "id": "b09bf9ca-3cf7-4d21-8d94-8962edfdd45c",
   "metadata": {},
   "outputs": [],
   "source": []
  },
  {
   "cell_type": "code",
   "execution_count": 8,
   "id": "ba21e115-0d30-4ee4-917b-f67079468208",
   "metadata": {},
   "outputs": [],
   "source": [
    "import os\n",
    "os.environ[\"GOOGLE_APPLICATION_CREDENTIALS\"]=\"/Users/raph/Documents/Zeep/App/zeepwebapp-6535a41e25af.json\""
   ]
  },
  {
   "cell_type": "code",
   "execution_count": 13,
   "id": "b4c316ea-70b4-4aeb-a7f2-1eb82b76b654",
   "metadata": {},
   "outputs": [
    {
     "name": "stdout",
     "output_type": "stream",
     "text": [
      "12:2\n",
      "Hello\n",
      "ExponentPushToken[GMBYcxNpyV1lHCZqg5-pic]\n",
      "12:32\n",
      "ok\n"
     ]
    }
   ],
   "source": [
    "import firebase_admin\n",
    "from google.cloud import firestore\n",
    "from datetime import datetime\n",
    "from datetime import date\n",
    "import datetime\n",
    "from datetime import timezone as tz\n",
    "import pytz\n",
    "from exponent_server_sdk import (\n",
    "    DeviceNotRegisteredError,\n",
    "    PushClient,\n",
    "    PushMessage,\n",
    "    PushServerError,\n",
    "    PushTicketError,\n",
    ")\n",
    "\n",
    "from requests.exceptions import ConnectionError, HTTPError\n",
    "\n",
    "tz = pytz.timezone('Europe/Paris')\n",
    "now = datetime.datetime.now(tz)\n",
    "if len(str(now.hour))==1:\n",
    "    nowH = \"0\"+str(now.hour)\n",
    "else:\n",
    "    nowH = str(now.hour)\n",
    "nowM = str(now.minute)\n",
    "nowT = nowH + ':' + nowM\n",
    "print(nowT)\n",
    "t1 = datetime.datetime.strptime(nowT, '%H:%M')\n",
    "t2 = datetime.datetime.strptime('09:06', '%H:%M')\n",
    "\n",
    "def send_push_message(token, message, extra=None):\n",
    "    response = PushClient().publish(\n",
    "            PushMessage(to=token,\n",
    "                        body=message,\n",
    "                        data=extra))\n",
    "\n",
    "def left(s, amount):\n",
    "    return s[:amount]\n",
    "\n",
    "def right(s, amount):\n",
    "    return s[-amount:]\n",
    "\n",
    "def mid(s, offset, amount):\n",
    "    return s[offset:offset+amount]\n",
    "\n",
    "today = date.today()\n",
    "today = right(str(today),2)+\"/\"+mid(str(today),5,2)+\"/\"+left(str(today),4)\n",
    "\n",
    "db = firestore.Client()\n",
    "\n",
    "def updateData():\n",
    "    print(\"Hello\")\n",
    "    orders = db.collection(u'orders')\n",
    "    docs = orders.where(u'Date', u'==', today).stream()\n",
    "    for doc in docs:\n",
    "        #docId = orders.document(doc.id)\n",
    "        #docId.update({'FirstName':'Raph'})\n",
    "        token = u'{}'.format(doc.to_dict()['pushToken'])\n",
    "        hour = u'{}'.format(doc.to_dict()['hour'])\n",
    "        restaurantName = u'{}'.format(doc.to_dict()['restaurantName'])\n",
    "        print(token)\n",
    "        print(hour)\n",
    "        t2 = datetime.datetime.strptime(hour, '%H:%M')\n",
    "        delta = t2-t1\n",
    "        between = datetime.datetime.strptime('00:30', '%H:%M') - datetime.datetime.strptime('00:00', '%H:%M')\n",
    "        if delta == between:\n",
    "            print(\"ok\") \n",
    "            text=\"N'oubliez pas votre réservation dans 30 min à \"+restaurantName\n",
    "            send_push_message(token, text, extra=None)\n",
    "        \n",
    "\n",
    "\n",
    "updateData()"
   ]
  },
  {
   "cell_type": "code",
   "execution_count": null,
   "id": "0b4f1f3e-b454-4460-8f0e-ea4fe95e45cf",
   "metadata": {},
   "outputs": [],
   "source": []
  }
 ],
 "metadata": {
  "kernelspec": {
   "display_name": "Python 3 (ipykernel)",
   "language": "python",
   "name": "python3"
  },
  "language_info": {
   "codemirror_mode": {
    "name": "ipython",
    "version": 3
   },
   "file_extension": ".py",
   "mimetype": "text/x-python",
   "name": "python",
   "nbconvert_exporter": "python",
   "pygments_lexer": "ipython3",
   "version": "3.10.6"
  }
 },
 "nbformat": 4,
 "nbformat_minor": 5
}
